{
 "cells": [
  {
   "cell_type": "markdown",
   "metadata": {},
   "source": [
    "# Network Analysis \n",
    "\n",
    "### Problem:\n",
    "\n",
    "1. Use Twitter API to collect 1000 tweets in which keyword ‘narendra modi’ appears, save the collected tweets in nm.txt\n",
    "\n",
    "2. Convert the collected tweets into BoW vectors and find cosine similarity of a pair of tweets and print the top-10 most similar tweet pairs, print these pairs\n",
    "\n",
    "3. Do the same using TF-IDF vectors\n",
    "\n",
    "4. Find out unique users (N) who have posted these 1000 tweets. (N <= 1000)\n",
    "    U1, u2, ….., uN\n",
    "5. Find the followers and followee of each user from the N users obtained before\n",
    "    * u1 - [followers list] [followee list]\n",
    "    * u2 - [followers list] [followee list]\n",
    "    * .\n",
    "    * .\n",
    "    * uN - [followers list] [followee list]\n",
    "6. Followers and followees are also users, so create a follower-followee directed graph among them, G. (ui → uj) iff ui is followed by uj\n",
    "7. Find popular users in this G based on \n",
    "    * Degree centrality\n",
    "    * Betweeness centrality\n",
    "    * Closeness centrality\n"
   ]
  },
  {
   "cell_type": "markdown",
   "metadata": {},
   "source": [
    "---"
   ]
  },
  {
   "cell_type": "markdown",
   "metadata": {},
   "source": [
    "**Step 1** Use Twitter API to collect 1000 tweets in which keyword ‘narendra modi’ appears, save the collected tweets in nm.txt"
   ]
  },
  {
   "cell_type": "code",
   "execution_count": 38,
   "metadata": {},
   "outputs": [],
   "source": [
    "# import libraries\n",
    "\n",
    "import tweepy\n",
    "import json\n",
    "import csv\n",
    "import pandas as pd"
   ]
  },
  {
   "cell_type": "code",
   "execution_count": 39,
   "metadata": {},
   "outputs": [],
   "source": [
    "# Twitter API Credentials\n",
    "\n",
    "from secrets import *"
   ]
  },
  {
   "cell_type": "code",
   "execution_count": 40,
   "metadata": {},
   "outputs": [],
   "source": [
    "# Stablish connection with API\n",
    "\n",
    "auth = tweepy.OAuthHandler(consumer_key, consumer_secret)\n",
    "auth.set_access_token(access_token, access_token_secret)\n",
    "api = tweepy.API(auth, wait_on_rate_limit=True)"
   ]
  },
  {
   "cell_type": "code",
   "execution_count": 41,
   "metadata": {},
   "outputs": [],
   "source": [
    "# Location to store data\n",
    "\n",
    "data_path = './data/'"
   ]
  },
  {
   "cell_type": "code",
   "execution_count": 42,
   "metadata": {},
   "outputs": [],
   "source": [
    "# function for searching keyword \n",
    "# Attr: search words: word to be searched\n",
    "#       no_of_tweets: no. of tweets to be fetched\n",
    "# Ignore retweets\n",
    "\n",
    "def search_tweets_by_keywords(search_words='narendra modi', max_tweets=1000):\n",
    "    search_words = search_words + \"-filter:retweets\"\n",
    "    search_tweets = tweepy.Cursor(api.search,\n",
    "                  q=search_words).items(max_tweets)\n",
    "    return search_tweets"
   ]
  },
  {
   "cell_type": "code",
   "execution_count": 43,
   "metadata": {},
   "outputs": [],
   "source": [
    "# Saving the tweets as a text file for future reference\n",
    "# creating a dataframe and converting it to a csv file\n",
    "\n",
    "def save_tweets_to_text_file(search_tweets, file_name):\n",
    "    my_list_of_dicts = []\n",
    "    for each_json_tweet in search_tweets:\n",
    "        my_list_of_dicts.append(each_json_tweet._json)\n",
    "        \n",
    "    with open(data_path + file_name + '.txt', 'w') as file:\n",
    "        file.write(json.dumps(my_list_of_dicts, indent=4))             "
   ]
  },
  {
   "cell_type": "code",
   "execution_count": 44,
   "metadata": {},
   "outputs": [],
   "source": [
    "# save id, text, creator's id and creator's name of the tweets\n",
    "# from text file and create a dataframe and save it in CSV format\n",
    "\n",
    "def save_required_data_from_txt_to_csv(file_name):\n",
    "    my_demo_list = []\n",
    "    with open(data_path + file_name + '.txt', encoding='utf-8') as json_file:\n",
    "        all_data = json.load(json_file)\n",
    "        for each_dictionary in all_data:\n",
    "            tweet_id = each_dictionary['id'] # can also use id_str attr\n",
    "            text = each_dictionary['text']\n",
    "            creator_id = each_dictionary['user']['id']\n",
    "            created_by = each_dictionary['user']['screen_name']\n",
    "\n",
    "            my_demo_list.append({'tweet_id': str(tweet_id),\n",
    "                             'text': str(text),\n",
    "                             'creator_id': str(creator_id),\n",
    "                             'created_by': str(created_by),\n",
    "                            })    \n",
    "        \n",
    "            tweet_dataset = pd.DataFrame(my_demo_list, columns = ['tweet_id', 'text', \n",
    "                                       'creator_id', 'created_by'])\n",
    "            \n",
    "    # Writing tweet dataset to csv file for future reference\n",
    "    tweet_dataset.to_csv(data_path + file_name + '.csv', index=False)  "
   ]
  },
  {
   "cell_type": "code",
   "execution_count": 45,
   "metadata": {},
   "outputs": [],
   "source": [
    "# Collect 1000 tweets with keyword 'narendra modi'\n",
    "\n",
    "tweets = search_tweets_by_keywords()"
   ]
  },
  {
   "cell_type": "code",
   "execution_count": 46,
   "metadata": {},
   "outputs": [],
   "source": [
    "# save the tweets in nm.txt file and create dataframe from it\n",
    "\n",
    "save_tweets_to_text_file(tweets, 'nm')"
   ]
  },
  {
   "cell_type": "code",
   "execution_count": 48,
   "metadata": {},
   "outputs": [],
   "source": [
    "# Create CSV of required data\n",
    "\n",
    "save_required_data_from_txt_to_csv('nm')"
   ]
  },
  {
   "cell_type": "code",
   "execution_count": 49,
   "metadata": {},
   "outputs": [],
   "source": [
    "# Read from CSV\n",
    "\n",
    "df = pd.read_csv(data_path + 'nm.csv')"
   ]
  },
  {
   "cell_type": "code",
   "execution_count": 50,
   "metadata": {},
   "outputs": [
    {
     "data": {
      "text/html": [
       "<div>\n",
       "<style scoped>\n",
       "    .dataframe tbody tr th:only-of-type {\n",
       "        vertical-align: middle;\n",
       "    }\n",
       "\n",
       "    .dataframe tbody tr th {\n",
       "        vertical-align: top;\n",
       "    }\n",
       "\n",
       "    .dataframe thead th {\n",
       "        text-align: right;\n",
       "    }\n",
       "</style>\n",
       "<table border=\"1\" class=\"dataframe\">\n",
       "  <thead>\n",
       "    <tr style=\"text-align: right;\">\n",
       "      <th></th>\n",
       "      <th>tweet_id</th>\n",
       "      <th>text</th>\n",
       "      <th>creator_id</th>\n",
       "      <th>created_by</th>\n",
       "    </tr>\n",
       "  </thead>\n",
       "  <tbody>\n",
       "    <tr>\n",
       "      <th>0</th>\n",
       "      <td>1321587869807341569</td>\n",
       "      <td>@jadafromnola @FriedrichPieter What an amazing...</td>\n",
       "      <td>1279132550380654592</td>\n",
       "      <td>BHARATIYASEEKER</td>\n",
       "    </tr>\n",
       "    <tr>\n",
       "      <th>1</th>\n",
       "      <td>1321585634440458240</td>\n",
       "      <td>@JoshCastelino Oh rice bag converts you ppl ha...</td>\n",
       "      <td>396353624</td>\n",
       "      <td>RecepErdoggann</td>\n",
       "    </tr>\n",
       "    <tr>\n",
       "      <th>2</th>\n",
       "      <td>1321580847825264640</td>\n",
       "      <td>PM Narendra Modi dubs Tejashwi ‘jungle raj ke ...</td>\n",
       "      <td>134758540</td>\n",
       "      <td>timesofindia</td>\n",
       "    </tr>\n",
       "    <tr>\n",
       "      <th>3</th>\n",
       "      <td>1321577699861647360</td>\n",
       "      <td>Hindu hi to tha mar gaya \\nMaar diya police ne...</td>\n",
       "      <td>1184757165828927488</td>\n",
       "      <td>randm_indianguy</td>\n",
       "    </tr>\n",
       "    <tr>\n",
       "      <th>4</th>\n",
       "      <td>1321570785706733568</td>\n",
       "      <td>गरीब के नाम पर राजनीति करने वालों ने देश में ऐ...</td>\n",
       "      <td>1274235804525539328</td>\n",
       "      <td>BhagwanSankla</td>\n",
       "    </tr>\n",
       "  </tbody>\n",
       "</table>\n",
       "</div>"
      ],
      "text/plain": [
       "              tweet_id                                               text  \\\n",
       "0  1321587869807341569  @jadafromnola @FriedrichPieter What an amazing...   \n",
       "1  1321585634440458240  @JoshCastelino Oh rice bag converts you ppl ha...   \n",
       "2  1321580847825264640  PM Narendra Modi dubs Tejashwi ‘jungle raj ke ...   \n",
       "3  1321577699861647360  Hindu hi to tha mar gaya \\nMaar diya police ne...   \n",
       "4  1321570785706733568  गरीब के नाम पर राजनीति करने वालों ने देश में ऐ...   \n",
       "\n",
       "            creator_id       created_by  \n",
       "0  1279132550380654592  BHARATIYASEEKER  \n",
       "1            396353624   RecepErdoggann  \n",
       "2            134758540     timesofindia  \n",
       "3  1184757165828927488  randm_indianguy  \n",
       "4  1274235804525539328    BhagwanSankla  "
      ]
     },
     "execution_count": 50,
     "metadata": {},
     "output_type": "execute_result"
    }
   ],
   "source": [
    "df.head()"
   ]
  },
  {
   "cell_type": "code",
   "execution_count": 51,
   "metadata": {},
   "outputs": [
    {
     "data": {
      "text/plain": [
       "(1000, 4)"
      ]
     },
     "execution_count": 51,
     "metadata": {},
     "output_type": "execute_result"
    }
   ],
   "source": [
    "df.shape"
   ]
  },
  {
   "cell_type": "markdown",
   "metadata": {},
   "source": [
    "---"
   ]
  },
  {
   "cell_type": "markdown",
   "metadata": {},
   "source": [
    "**Step 2** Convert the collected tweets into BoW vectors and find cosine similarity of a pair of tweets and print the top-10 most similar tweet pairs, print these pairs"
   ]
  },
  {
   "cell_type": "code",
   "execution_count": null,
   "metadata": {},
   "outputs": [],
   "source": []
  }
 ],
 "metadata": {
  "kernelspec": {
   "display_name": "Python 3",
   "language": "python",
   "name": "python3"
  },
  "language_info": {
   "codemirror_mode": {
    "name": "ipython",
    "version": 3
   },
   "file_extension": ".py",
   "mimetype": "text/x-python",
   "name": "python",
   "nbconvert_exporter": "python",
   "pygments_lexer": "ipython3",
   "version": "3.5.2"
  }
 },
 "nbformat": 4,
 "nbformat_minor": 4
}
