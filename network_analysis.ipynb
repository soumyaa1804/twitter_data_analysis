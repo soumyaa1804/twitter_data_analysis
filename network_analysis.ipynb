{
 "cells": [
  {
   "cell_type": "markdown",
   "metadata": {},
   "source": [
    "# Network Analysis \n",
    "\n",
    "### Problem:\n",
    "\n",
    "1. Use Twitter API to collect 1000 tweets in which keyword ‘narendra modi’ appears, save the collected tweets in nm.txt\n",
    "\n",
    "2. Convert the collected tweets into BoW vectors and find cosine similarity of a pair of tweets and print the top-10 most similar tweet pairs, print these pairs\n",
    "\n",
    "3. Do the same using TF-IDF vectors\n",
    "\n",
    "4. Find out unique users (N) who have posted these 1000 tweets. (N <= 1000)\n",
    "    U1, u2, ….., uN\n",
    "5. Find the followers and followee of each user from the N users obtained before\n",
    "    * u1 - [followers list] [followee list]\n",
    "    * u2 - [followers list] [followee list]\n",
    "    * .\n",
    "    * .\n",
    "    * uN - [followers list] [followee list]\n",
    "6. Followers and followees are also users, so create a follower-followee directed graph among them, G. (ui → uj) iff ui is followed by uj\n",
    "7. Find popular users in this G based on \n",
    "    * Degree centrality\n",
    "    * Betweeness centrality\n",
    "    * Closeness centrality\n"
   ]
  },
  {
   "cell_type": "markdown",
   "metadata": {},
   "source": [
    "---"
   ]
  },
  {
   "cell_type": "markdown",
   "metadata": {},
   "source": [
    "**Step 1** Use Twitter API to collect 1000 tweets in which keyword ‘narendra modi’ appears, save the collected tweets in nm.txt"
   ]
  },
  {
   "cell_type": "code",
   "execution_count": 8,
   "metadata": {},
   "outputs": [],
   "source": [
    "# import libraries\n",
    "\n",
    "import tweepy\n",
    "import json\n",
    "import csv\n",
    "import pandas as pd\n",
    "import numpy as np\n",
    "import time"
   ]
  },
  {
   "cell_type": "code",
   "execution_count": 9,
   "metadata": {},
   "outputs": [],
   "source": [
    "# Twitter API Credentials\n",
    "\n",
    "from secrets import *"
   ]
  },
  {
   "cell_type": "code",
   "execution_count": 10,
   "metadata": {},
   "outputs": [],
   "source": [
    "# Stablish connection with API\n",
    "\n",
    "auth = tweepy.OAuthHandler(consumer_key, consumer_secret)\n",
    "auth.set_access_token(access_token, access_token_secret)\n",
    "api = tweepy.API(auth, wait_on_rate_limit=True)"
   ]
  },
  {
   "cell_type": "code",
   "execution_count": 11,
   "metadata": {},
   "outputs": [],
   "source": [
    "# Location to store data\n",
    "\n",
    "data_path = './data/'"
   ]
  },
  {
   "cell_type": "code",
   "execution_count": 5,
   "metadata": {},
   "outputs": [],
   "source": [
    "# function for searching keyword \n",
    "# Attr: search words: word to be searched\n",
    "#       no_of_tweets: no. of tweets to be fetched\n",
    "# Ignore retweets\n",
    "\n",
    "def search_tweets_by_keywords(search_words='narendra modi', max_tweets=1000):\n",
    "    search_words = search_words + \"-filter:retweets\"\n",
    "    search_tweets = tweepy.Cursor(api.search,\n",
    "                  q=search_words).items(max_tweets)\n",
    "    return search_tweets"
   ]
  },
  {
   "cell_type": "code",
   "execution_count": 5,
   "metadata": {},
   "outputs": [],
   "source": [
    "# Saving the tweets as a text file for future reference\n",
    "# creating a dataframe and converting it to a csv file\n",
    "\n",
    "def save_tweets_to_text_file(search_tweets, file_name):\n",
    "    my_list_of_dicts = []\n",
    "    for each_json_tweet in search_tweets:\n",
    "        my_list_of_dicts.append(each_json_tweet._json)\n",
    "        \n",
    "    with open(data_path + file_name + '.txt', 'w') as file:\n",
    "        file.write(json.dumps(my_list_of_dicts, indent=4))             "
   ]
  },
  {
   "cell_type": "code",
   "execution_count": 6,
   "metadata": {},
   "outputs": [],
   "source": [
    "# save id, text, creator's id and creator's name of the tweets\n",
    "# from text file and create a dataframe and save it in CSV format\n",
    "\n",
    "def save_required_data_from_txt_to_csv(file_name):\n",
    "    my_demo_list = []\n",
    "    with open(data_path + file_name + '.txt', encoding='utf-8') as json_file:\n",
    "        all_data = json.load(json_file)\n",
    "        for each_dictionary in all_data:\n",
    "            tweet_id = each_dictionary['id'] # can also use id_str attr\n",
    "            text = each_dictionary['text']\n",
    "            creator_id = each_dictionary['user']['id']\n",
    "            created_by = each_dictionary['user']['screen_name']\n",
    "            creator_followers_count = each_dictionary['user']['followers_count']\n",
    "            creator_friends_count = each_dictionary['user']['friends_count']\n",
    "            \n",
    "\n",
    "            my_demo_list.append({'tweet_id': str(tweet_id),\n",
    "                             'text': str(text),\n",
    "                             'creator_id': str(creator_id),\n",
    "                             'created_by': str(created_by),\n",
    "                             'creator_followers': creator_followers_count,\n",
    "                             'creator_friends': creator_friends_count,\n",
    "                            })    \n",
    "        \n",
    "            tweet_dataset = pd.DataFrame(my_demo_list, columns = ['tweet_id', 'text', \n",
    "                                       'creator_id', 'created_by', 'creator_followers', 'creator_friends'])\n",
    "            \n",
    "    # Writing tweet dataset to csv file for future reference\n",
    "    tweet_dataset.to_csv(data_path + file_name + '.csv', index=False)  "
   ]
  },
  {
   "cell_type": "code",
   "execution_count": 8,
   "metadata": {},
   "outputs": [],
   "source": [
    "# Collect 1000 tweets with keyword 'narendra modi'\n",
    "\n",
    "tweets = search_tweets_by_keywords()"
   ]
  },
  {
   "cell_type": "code",
   "execution_count": 9,
   "metadata": {},
   "outputs": [],
   "source": [
    "# save the tweets in nm.txt file and create dataframe from it\n",
    "\n",
    "save_tweets_to_text_file(tweets, 'nm')"
   ]
  },
  {
   "cell_type": "code",
   "execution_count": 7,
   "metadata": {},
   "outputs": [],
   "source": [
    "# Create CSV of required data\n",
    "\n",
    "save_required_data_from_txt_to_csv('nm')"
   ]
  },
  {
   "cell_type": "markdown",
   "metadata": {},
   "source": [
    "---"
   ]
  },
  {
   "cell_type": "markdown",
   "metadata": {},
   "source": [
    "**Step 2** Convert the collected tweets into BoW vectors and find cosine similarity of a pair of tweets and print the top-10 most similar tweet pairs, print these pairs"
   ]
  },
  {
   "cell_type": "code",
   "execution_count": 12,
   "metadata": {},
   "outputs": [],
   "source": [
    "# Read from CSV\n",
    "\n",
    "df = pd.read_csv(data_path + 'nm.csv')"
   ]
  },
  {
   "cell_type": "code",
   "execution_count": 13,
   "metadata": {
    "scrolled": true
   },
   "outputs": [
    {
     "data": {
      "text/html": [
       "<div>\n",
       "<style scoped>\n",
       "    .dataframe tbody tr th:only-of-type {\n",
       "        vertical-align: middle;\n",
       "    }\n",
       "\n",
       "    .dataframe tbody tr th {\n",
       "        vertical-align: top;\n",
       "    }\n",
       "\n",
       "    .dataframe thead th {\n",
       "        text-align: right;\n",
       "    }\n",
       "</style>\n",
       "<table border=\"1\" class=\"dataframe\">\n",
       "  <thead>\n",
       "    <tr style=\"text-align: right;\">\n",
       "      <th></th>\n",
       "      <th>tweet_id</th>\n",
       "      <th>text</th>\n",
       "      <th>creator_id</th>\n",
       "      <th>created_by</th>\n",
       "      <th>creator_followers</th>\n",
       "      <th>creator_friends</th>\n",
       "    </tr>\n",
       "  </thead>\n",
       "  <tbody>\n",
       "    <tr>\n",
       "      <th>0</th>\n",
       "      <td>1322297317639233546</td>\n",
       "      <td>@cxkeck If a friend of mine supported Nigel Fa...</td>\n",
       "      <td>1169681443481620486</td>\n",
       "      <td>nysuri</td>\n",
       "      <td>1299</td>\n",
       "      <td>1876</td>\n",
       "    </tr>\n",
       "    <tr>\n",
       "      <th>1</th>\n",
       "      <td>1322296152868401152</td>\n",
       "      <td>https://t.co/RvnZZWrxO2</td>\n",
       "      <td>3245455199</td>\n",
       "      <td>beckylynch81</td>\n",
       "      <td>137</td>\n",
       "      <td>115</td>\n",
       "    </tr>\n",
       "    <tr>\n",
       "      <th>2</th>\n",
       "      <td>1322295522154082304</td>\n",
       "      <td>I plan on checking this place out when visit I...</td>\n",
       "      <td>1019030227312246784</td>\n",
       "      <td>JosieEJung</td>\n",
       "      <td>57</td>\n",
       "      <td>1218</td>\n",
       "    </tr>\n",
       "    <tr>\n",
       "      <th>3</th>\n",
       "      <td>1322295207920979968</td>\n",
       "      <td>Just check the theatricals of Mr Narendra Modi...</td>\n",
       "      <td>1270180160537427969</td>\n",
       "      <td>A_K1992in</td>\n",
       "      <td>37</td>\n",
       "      <td>633</td>\n",
       "    </tr>\n",
       "    <tr>\n",
       "      <th>4</th>\n",
       "      <td>1322294563860434945</td>\n",
       "      <td>@parody_yadav @yadavtejashwi https://t.co/FWcq...</td>\n",
       "      <td>1319784298078105600</td>\n",
       "      <td>vman28428391</td>\n",
       "      <td>0</td>\n",
       "      <td>2</td>\n",
       "    </tr>\n",
       "  </tbody>\n",
       "</table>\n",
       "</div>"
      ],
      "text/plain": [
       "              tweet_id                                               text  \\\n",
       "0  1322297317639233546  @cxkeck If a friend of mine supported Nigel Fa...   \n",
       "1  1322296152868401152                            https://t.co/RvnZZWrxO2   \n",
       "2  1322295522154082304  I plan on checking this place out when visit I...   \n",
       "3  1322295207920979968  Just check the theatricals of Mr Narendra Modi...   \n",
       "4  1322294563860434945  @parody_yadav @yadavtejashwi https://t.co/FWcq...   \n",
       "\n",
       "            creator_id    created_by  creator_followers  creator_friends  \n",
       "0  1169681443481620486        nysuri               1299             1876  \n",
       "1           3245455199  beckylynch81                137              115  \n",
       "2  1019030227312246784    JosieEJung                 57             1218  \n",
       "3  1270180160537427969     A_K1992in                 37              633  \n",
       "4  1319784298078105600  vman28428391                  0                2  "
      ]
     },
     "execution_count": 13,
     "metadata": {},
     "output_type": "execute_result"
    }
   ],
   "source": [
    "df.head()"
   ]
  },
  {
   "cell_type": "code",
   "execution_count": 14,
   "metadata": {},
   "outputs": [
    {
     "data": {
      "text/html": [
       "<div>\n",
       "<style scoped>\n",
       "    .dataframe tbody tr th:only-of-type {\n",
       "        vertical-align: middle;\n",
       "    }\n",
       "\n",
       "    .dataframe tbody tr th {\n",
       "        vertical-align: top;\n",
       "    }\n",
       "\n",
       "    .dataframe thead th {\n",
       "        text-align: right;\n",
       "    }\n",
       "</style>\n",
       "<table border=\"1\" class=\"dataframe\">\n",
       "  <thead>\n",
       "    <tr style=\"text-align: right;\">\n",
       "      <th></th>\n",
       "      <th>tweet_id</th>\n",
       "      <th>creator_id</th>\n",
       "      <th>creator_followers</th>\n",
       "      <th>creator_friends</th>\n",
       "    </tr>\n",
       "  </thead>\n",
       "  <tbody>\n",
       "    <tr>\n",
       "      <th>count</th>\n",
       "      <td>1.000000e+03</td>\n",
       "      <td>1.000000e+03</td>\n",
       "      <td>1.000000e+03</td>\n",
       "      <td>1000.000000</td>\n",
       "    </tr>\n",
       "    <tr>\n",
       "      <th>mean</th>\n",
       "      <td>1.322185e+18</td>\n",
       "      <td>5.938600e+17</td>\n",
       "      <td>2.574826e+05</td>\n",
       "      <td>874.819000</td>\n",
       "    </tr>\n",
       "    <tr>\n",
       "      <th>std</th>\n",
       "      <td>3.968720e+13</td>\n",
       "      <td>5.744572e+17</td>\n",
       "      <td>1.446822e+06</td>\n",
       "      <td>2790.274798</td>\n",
       "    </tr>\n",
       "    <tr>\n",
       "      <th>min</th>\n",
       "      <td>1.322126e+18</td>\n",
       "      <td>5.871672e+06</td>\n",
       "      <td>0.000000e+00</td>\n",
       "      <td>0.000000</td>\n",
       "    </tr>\n",
       "    <tr>\n",
       "      <th>25%</th>\n",
       "      <td>1.322153e+18</td>\n",
       "      <td>1.014681e+09</td>\n",
       "      <td>4.775000e+01</td>\n",
       "      <td>68.000000</td>\n",
       "    </tr>\n",
       "    <tr>\n",
       "      <th>50%</th>\n",
       "      <td>1.322182e+18</td>\n",
       "      <td>7.724101e+17</td>\n",
       "      <td>2.990000e+02</td>\n",
       "      <td>262.000000</td>\n",
       "    </tr>\n",
       "    <tr>\n",
       "      <th>75%</th>\n",
       "      <td>1.322212e+18</td>\n",
       "      <td>1.185608e+18</td>\n",
       "      <td>2.289500e+03</td>\n",
       "      <td>838.500000</td>\n",
       "    </tr>\n",
       "    <tr>\n",
       "      <th>max</th>\n",
       "      <td>1.322297e+18</td>\n",
       "      <td>1.322239e+18</td>\n",
       "      <td>1.389928e+07</td>\n",
       "      <td>46692.000000</td>\n",
       "    </tr>\n",
       "  </tbody>\n",
       "</table>\n",
       "</div>"
      ],
      "text/plain": [
       "           tweet_id    creator_id  creator_followers  creator_friends\n",
       "count  1.000000e+03  1.000000e+03       1.000000e+03      1000.000000\n",
       "mean   1.322185e+18  5.938600e+17       2.574826e+05       874.819000\n",
       "std    3.968720e+13  5.744572e+17       1.446822e+06      2790.274798\n",
       "min    1.322126e+18  5.871672e+06       0.000000e+00         0.000000\n",
       "25%    1.322153e+18  1.014681e+09       4.775000e+01        68.000000\n",
       "50%    1.322182e+18  7.724101e+17       2.990000e+02       262.000000\n",
       "75%    1.322212e+18  1.185608e+18       2.289500e+03       838.500000\n",
       "max    1.322297e+18  1.322239e+18       1.389928e+07     46692.000000"
      ]
     },
     "execution_count": 14,
     "metadata": {},
     "output_type": "execute_result"
    }
   ],
   "source": [
    "df.shape\n",
    "df.describe()"
   ]
  },
  {
   "cell_type": "markdown",
   "metadata": {},
   "source": [
    "### Bag of Words vector"
   ]
  },
  {
   "cell_type": "code",
   "execution_count": 14,
   "metadata": {},
   "outputs": [],
   "source": [
    "# tokenize texts to get meaningful words\n",
    "from sklearn.feature_extraction.text import CountVectorizer"
   ]
  },
  {
   "cell_type": "code",
   "execution_count": 15,
   "metadata": {},
   "outputs": [],
   "source": [
    "# list of Tweet's text\n",
    "\n",
    "text = list(df['text'])"
   ]
  },
  {
   "cell_type": "code",
   "execution_count": 16,
   "metadata": {},
   "outputs": [],
   "source": [
    "vectorizer = CountVectorizer()"
   ]
  },
  {
   "cell_type": "code",
   "execution_count": 17,
   "metadata": {},
   "outputs": [
    {
     "data": {
      "text/plain": [
       "CountVectorizer(analyzer='word', binary=False, decode_error='strict',\n",
       "                dtype=<class 'numpy.int64'>, encoding='utf-8', input='content',\n",
       "                lowercase=True, max_df=1.0, max_features=None, min_df=1,\n",
       "                ngram_range=(1, 1), preprocessor=None, stop_words=None,\n",
       "                strip_accents=None, token_pattern='(?u)\\\\b\\\\w\\\\w+\\\\b',\n",
       "                tokenizer=None, vocabulary=None)"
      ]
     },
     "execution_count": 17,
     "metadata": {},
     "output_type": "execute_result"
    }
   ],
   "source": [
    "# tokenize and build vocab\n",
    "\n",
    "vectorizer.fit(text)"
   ]
  },
  {
   "cell_type": "code",
   "execution_count": 18,
   "metadata": {},
   "outputs": [
    {
     "name": "stdout",
     "output_type": "stream",
     "text": [
      "{'இலவ': 3828, 'rahul': 2539, 'fatigue': 1084, 'discovered': 877, 'friends': 1155, 'butvbq3mki': 597, 'पर': 3615, 'wkvughqdqb': 3342, 'tzmdkavrxt': 3148, 'message': 1974, 'times': 3067, 'kesu': 1687, 'savarkar': 2755, 'और': 3542, 'stone': 2936, 'mungerkillings': 2044, 'expecting': 1041, 'arnab1go': 372, 'whose': 3324, 'kartikeyatanna': 1676, 'october': 2222, 'cactus': 609, 'y87hgg5o4l': 3397, 'whokilledsushant': 3322, 'जलपथ': 3575, 'would': 3357, 'back': 438, 'train': 3104, 'doland': 906, 'remember': 2604, 'clave': 680, 'ashoswai': 383, 'jaisa': 1580, 'claimed': 678, 'ರವ': 3912, 'folks': 1122, 'satisfaction': 2751, '5000rs': 107, 'reply': 2609, 'ship': 2816, 'stopped': 2938, 'bulletin': 589, 'सरद': 3699, 'fund': 1162, 'play': 2362, 'pride': 2417, 'hcsejyrlso': 1324, 'hsyrbyfplx': 1402, 'jqwywcbnik': 1637, 'biggest': 517, 'dswwiisdnd': 930, 'opposition': 2262, 'yuval': 3443, 'uvyds46tol': 3199, 'plz': 2369, 'lighting': 1827, 'apni': 354, 'రమ': 3878, 'rvnzzwrxo2': 2689, 'k3zqqtt1tw': 1656, 'tvcjlhvrsv': 3133, 'owner': 2282, 'saharsa': 2723, 'யர': 3848, 'fan': 1071, 'ghetali': 1213, 'யவ': 3850, 'resoundingly': 2624, 'div': 891, 'kotakmahir': 1742, 'paisa': 2291, 'बड': 3626, 'fgeibgf6uw': 1099, '7x2kw0nnd9': 161, 'rbqtzjrv99': 2565, 'ajeet': 295, 'habbit': 1291, 'mat': 1940, 'qe4k6eay2z': 2489, 'gzovrtzwtv': 1282, 'parkash': 2306, 'hum': 1412, 'm5hm7y2cvl': 1881, 'peacefools': 2329, 'oputlvq72k': 2264, 'lfcdbgcdbe': 1815, 'leadership': 1802, 'bcib0xxk9h': 469, 'x35gyonfpm': 3367, 'attack': 402, 'also': 308, 'तल': 3593, 'ഉദ': 3918, 'i4cfmtvwho': 1428, 'meeting': 1960, 'zafrulislamkhan': 3456, 'human': 1413, '8ulxxf99rx': 179, 'imagination': 1462, 'learn': 1803, 'czgreac0ot': 784, 'qewhloeyia': 2491, 'justicefornikita': 1647, '1n9tyusc1f': 35, 'एक': 3531, 'vishwas': 3248, 'obaidkazi': 2214, 'second': 2776, 'gzohn0mh0c': 1281, 'captains': 622, 'harness': 1312, 'writes': 3360, 'nareshbhai': 2094, 'wut1mqv3rr': 3364, 'czuty32nqj': 785, 'dedicates': 823, 'रद': 3658, 'rupan': 2683, 'tarah': 2995, 'hatao': 1317, 'karma': 1672, 'hon': 1376, 'ತರನ': 3902, 'lot': 1860, 'peacefuls': 2330, 'karke': 1671, 'vk5dzb0p9o': 3254, 'rasxcmudeb': 2558, 'changed': 649, 'attacked': 403, 'tend': 3013, 'just': 1644, 'wa': 3279, '_न_म': 206, 'that': 3029, '8bypoihh0j': 168, 'abro4k3its': 232, 'bond': 558, 'maybe': 1947, 'hue': 1409, '2024': 50, 'lwa8riejsc': 1873, 'promises': 2441, 'cast': 631, 'hve9sogmzf': 1418, 'things': 3044, '6ijfvlwtsj': 138, 'media': 1957, 'real_sisodia': 2580, 't534kuvbw2': 2980, 'brilliant': 576, 'pissfool': 2350, 'law': 1792, 'minorities': 1992, 'gufrankhanazmi': 1259, 'breaking': 575, 'august': 408, 'કટ': 3763, 'jainanil1968': 1579, 'crooks': 763, 'vi': 3231, 'ta': 2981, '8nxnncolnn': 176, 'zeghxwdx0z': 3463, 'karyakartas': 1677, '30': 71, 'cyalm': 783, '46tskmjy33': 94, 'આક': 3747, 'mall': 1911, 'bishorjone': 535, 'জন': 3721, 'speak': 2889, '7zquwhvywh': 163, 'article': 378, '500': 105, 'qje2ihbguy': 2498, 'really': 2583, 'senior': 2788, 'hard': 1308, 'narendra_modeee': 2090, 'gyans': 1277, 'ரதமர': 3852, 'tune': 3129, 'chi': 658, 'forcefully': 1132, 'police': 2381, 'there': 3037, 'wanna': 3286, 'uzzscukrmp': 3204, 'तस': 3594, 'putin': 2473, 'anger': 334, 'u5o6rft86t': 3152, 'itsshushi_': 1555, 'धभक': 3597, 'z8tjbdzvyy': 3454, 'journalists': 1633, 'myogioffice': 2060, 'commission': 700, '43kr5eufrx': 91, '79pru0gvzu': 147, 'honbl': 1378, 'notes': 2178, 'તમ': 3779, 'pls': 2367, 'x6rgykiz8x': 3370, 'xnwafmdims': 3389, 'gys78iay0d': 1279, 'punch': 2468, 'uptick': 3184, 'kyvkoyhtbf': 1768, 'oosaui2dy1': 2256, 'very': 3228, 'sallallahu': 2731, 'kc9cjkfx8y': 1680, 'thi': 3042, 'ढक': 3585, 'satyagrahnews': 2753, 'caravan': 624, 'central': 638, 'disimpulin': 880, 'cause': 633, 'oxford': 2284, '56': 111, 'vz2hxjew0b': 3271, 'sit': 2849, 'ebfgfcsxcm': 961, 'glow': 1221, 'gvlupq3qcf': 1271, '0hlh4jltnn': 9, 'fawadchaudhry': 1089, 'mutuals': 2051, 'aabgnsjpiv': 211, 'plants': 2361, 'som': 2873, 'parliament': 2307, 'nhi': 2137, 'வர': 3857, 'hm5aauwiit': 1364, 'ऐस': 3538, 'buxg81w9in': 598, 'hdvruk2rao': 1325, 'dgp': 850, 'see': 2780, 'followed': 1124, 'thwtexc00i': 3062, 'seaplane': 2773, 'conducting': 714, 'भर': 3637, 'xz7bluumzg': 3394, 'despicab': 839, 'dna': 900, 'ki': 1712, 'lz7pf2noki': 1876, 'p2jfvcw16e': 2285, '9mv4c1553f': 197, 'jashodaben': 1595, 'good': 1234, 'datas': 803, 'ddlmdknzzi': 811, 'capital': 620, 'proud_tamilzan': 2450, 'sense': 2789, 'niqk5nnbat': 2147, 'r5dhqmljf0': 2525, 'bj': 536, 'current': 774, 's3w11kw9qm': 2696, 'नम': 3604, 'iski': 1538, 'azudthscpg': 423, 'didn': 863, 'ટન': 3774, 'shit': 2818, 'tulsidas_khn': 3128, 'વસન': 3810, 'khana': 1700, 'pmcaresfund': 2373, 'yeh': 3412, 'tweetsofshabana': 3141, 'hfkjfzsfgu': 1343, 'યન': 3794, 'ra_bies': 2532, 'akali': 297, 'llm1la2mky': 1849, 'sagarthacker8': 2719, 'surprise': 2964, 'construct': 725, 'ygtd38l7z0': 3417, 'believe': 487, 'was': 3293, 'pearls': 2331, 'सच': 3683, 'religious': 2601, 'iwyudqswqt': 1564, 'why': 3325, 'uuftcr2zjl': 3196, 'bakta': 445, 'defense': 825, 'ti96j2qayh': 3063, 'not': 2176, 'thanks': 3028, 'younger': 3437, 'सभ': 3691, 'mile': 1985, 'hate': 1318, 'most': 2027, 'gujarattourism': 1264, 'la': 1774, 'birds': 529, 'kohima': 1737, 'supported': 2958, 'plays': 2363, 'sadhvipragya_mp': 2713, 'another': 345, 'narendramodi': 2091, 'thalaivar': 3025, 'go': 1226, '000': 0, 'promised': 2440, 'autocracy': 414, 'de': 812, '7rsplyfubx': 159, 'counterpart': 749, 'lkloh1vso2': 1848, 'dekh': 828, 'auool0t5qh': 409, 'అభ': 3858, 'rndytycwzx': 2651, 'kartarpurcorridor': 1675, 'vishnundtv': 3245, 'txm8vz9lr9': 3146, 'pmatjunglesafari': 2372, 'took': 3085, 'cbi': 634, 'y8g3bw2j9j': 3399, 'kovind': 1744, 'brains': 572, 'help': 1335, 'flrduaqbxp': 1117, 'ggvypzw05x': 1211, 'sahi': 2725, 'अब': 3500, 'inaugu': 1472, 'pernav31': 2335, 'maya': 1946, 'jwysfbokcr': 1652, 'priyans2002': 2425, 'definitely': 826, 'tjo2ikvp7k': 3073, 'vikramchandra': 3239, 'wasn': 3295, 'inspiration': 1507, 'filed': 1104, 'broadcast': 580, 'qp8xnblmdl': 2504, 'note': 2177, 'has': 1315, 'eid': 978, 'jagranjosh': 1576, 'મથ': 3793, 'xseecsijd0': 3391, 'recent': 2589, 'when': 3316, 'tribute': 3114, 'groundnut': 1252, 'ইন': 3711, 'shah': 2798, 'new_india9': 2126, 'bdzozlv3iy': 471, 'एप': 3535, 'whole': 3323, 'chhabrageeta': 657, 'mumkin': 2043, 'nitindhote24': 2151, 'rqf2xosq60': 2667, 'savpahqsiq': 2757, 'asking': 387, 'do': 901, 'coming': 697, 'racist': 2533, 'because': 477, 'kiski': 1722, 'गलक': 3561, 'inaugurates': 1476, 'बस': 3633, 'kruti38388396': 1751, 'आद': 3512, 'theatricals': 3032, 'equal': 1007, 'too': 3084, 'participate': 2313, 'justice': 1645, 'vaaqekyo7h': 3208, 'rajput_ramesh': 2547, 'regarding': 2594, 'nahi': 2073, 'national': 2101, 'dqklkok9gn': 919, 'dew1bhmlz3': 848, 'absolutely': 233, 'unveiled': 3178, 'belong': 490, 'swn2yswyn9': 2973, '48w308sapd': 96, 'चर_प': 3566, 'qlkrngjpb6': 2501, 'என': 3830, 'pl2if7rj8v': 2355, 'fphbiloi7f': 1145, 'admission': 262, 'ja7dbapemz': 1571, 'yksprmxy99': 3424, 'epaskinrz2': 1004, 'ptziv7y8se': 2459, 'आय': 3518, 'follows': 1126, 'ra': 2530, 'tea': 3002, 'new': 2125, 'use': 3191, 'into': 1524, 'srinivasiyc': 2907, 'आए': 3506, 'services': 2792, 'റവ': 3934, 'evening': 1023, 'nigel': 2143, 'rvaidya2000': 2687, 'kri': 1746, 'tlhnbv1zdw': 3076, 'giving': 1217, 'डन': 3583, 'jo': 1622, 'ijxob6ws6z': 1457, 'pavilions': 2319, 'st': 2914, 'question': 2511, 'recently': 2590, '9he9qmamgm': 194, 'adorable': 263, 'pigs': 2349, 'rahe': 2538, 'inspire': 1509, 'quote': 2515, 'priyakhi2': 2424, 'debe': 818, 'desh': 836, '16': 25, 'ndenmyj4kw': 2110, 'रभ': 3662, 'mean': 1956, 'p73jvoinlp': 2287, 'looted': 1857, 'parody_yadav': 2310, 'k0wawtpbc1': 1655, 'andhbhakts': 333, 'mvmeet': 2053, 'eaylldlf4e': 960, 'kya': 1764, 'newsalert': 2130, 'jpvaevnmjn': 1636, 'यक': 3644, 'enemy': 998, 'french': 1152, 'pakistan': 2294, 'rate': 2559, 'finish': 1108, 'mera': 1970, 'prohit': 2436, '4jnwjatmf6': 99, 'solivflaneur': 2872, 'creative': 760, 'hy0rucyeuc': 1422, 'after': 270, 'कव': 3553, 'newspaper': 2133, 'real': 2579, 'jaishreeram90': 1581, 'prasad': 2405, 'pubg': 2461, 'jayanti': 1597, 'leer': 1806, 'darshangor1722': 801, 'b9vfpka8no': 431, 'satyagrah': 2752, 'gahan': 1181, 'jeenalgala': 1602, 'pe': 2327, 'iamrekhameena': 1437, 'टन': 3579, 'kon': 1739, 'એમન': 3761, 'bjp4mumbai': 542, 'khatm': 1706, 'follow': 1123, 'gdwck5aqnm': 1197, 'caosijmyi7': 619, 'bharti': 506, 'sta': 2917, 'ತಹ': 3903, 'following': 1125, 'eidmiladunnabi': 979, 'neorational': 2121, 'silpashinde': 2839, '10dmj5urll': 17, 'pic': 2343, 'तज': 3587, 'रपत': 3661, 'icon': 1443, 'supporting': 2959, 'join': 1624, 'ઇલ': 3755, 'generations': 1200, 'sudhirchaudhary': 2951, 'ite': 1548, 'occasion': 2219, 'wadhwasc': 3280, 'incbihar': 1481, 'uz8j3eqlbm': 3203, 'bbc': 467, 'चन': 3564, 'trump': 3122, 'bukunya': 587, '6byfgoeglz': 134, '6wltik4swf': 143, 'dalal': 795, 'yzienmkfmu': 3449, 'piyush': 2351, 'fxqugvuik2': 1170, 'जह': 3577, 'ऑन': 3539, 'some': 2874, 'તન': 3778, 'ષત': 3813, 'receiving': 2588, 'jtsp1pmdqj': 1639, 'quit': 2513, 'करत': 3550, 'shine': 2815, 'cannot': 618, 'ke': 1683, 'state': 2927, 'kise': 1719, 'organised': 2266, 'cow': 755, 'drmadanmohanjha': 928, 'atheist': 398, 'jih': 1610, 'problem': 2427, 'someone': 2875, 'viurumfazz': 3252, 'જન': 3771, 'lad': 1775, 'tourism': 3095, 'kevadia': 1691, 'reach': 2572, 'tab': 2982, 'take': 2987, 'warriors': 3292, 'itgpkw3gwx': 1550, 'members': 1967, 'nv5hfsowjv': 2202, 'ওয': 3715, 'zero': 3466, 'i54ewrlxih': 1429, 'expect': 1040, 'being': 486, 'thtca8o5fk': 3059, 'needs': 2116, 'seeks': 2783, 'proclaims': 2430, 'கண': 3833, 'कभ': 3548, 'timesofindia': 3069, 'anyone': 351, 'difference': 867, 'tweet': 3138, 'actually': 252, 'ymedia': 3428, 'ghyyv2htx5': 1214, 'ರಸ': 3913, 'v4slxutniw': 3205, 'brothers': 581, 'own': 2281, 'teri': 3016, 'aahe': 213, 'narayan': 2084, 'damodar': 797, 'ivfxlvssjc': 1558, 'xejwcswvlm': 3378, 'qcfdd21xup': 2487, 'version': 3227, 'hardcore': 1309, 'interview': 1523, 'statueofunity': 2931, 'photos': 2342, 'भगवत': 3636, 'blzzi7ozhx': 551, 'sarovar': 2749, 'obje': 2215, 'riteishd': 2641, 'pvhnhf5pcm': 2475, 'মন': 3734, 'ecovancxql': 968, 'officeofut': 2232, 'hao5yhjyyv': 1303, 'pvm38fut0m': 2476, 'makes': 1909, 'ashok': 382, 'throu': 3056, 'p56c9aecfy': 2286, 'performance': 2334, 'holding': 1373, 'gxqeeiwdrd': 1276, 'favorite': 1086, 'faizz634': 1065, 'qz30gytd5x': 2520, '9nn8yqzkng': 198, 'sushilmodi': 2967, 'strongly': 2944, 'understand': 3165, 'kjxtufu9gr': 1726, 'anisthereddevil': 338, 'कन': 3547, 'amount': 327, 'b7rre9obph': 428, 'net': 2123, 'olqorqgoyi': 2243, 'news': 2128, 'cr': 758, 'srwxlmemav': 2909, 'achhe': 243, 'सतत': 3685, 'khyvfvk93o': 1711, '8fogfiffm1': 172, 'इनक': 3523, 'mjalshrika': 2001, 'njp2g8omx4': 2156, 'கத': 3834, 'bvu3j2eqcb': 600, 'jorhat': 1631, 'omgggg': 2246, 'unko': 3174, 'rupee': 2684, 'rlmb7oz79u': 2649, '32': 76, 'hind': 1352, 'jaibharath': 1578, 'bann': 456, 'effective': 970, 'સફ': 3815, 'president': 2414, 'mukesh': 2041, 'lower': 1862, 'otherwise': 2274, '97y9gioyps': 184, 'act': 246, 'w4t9dhgfy0': 3276, 'north': 2174, 'led': 1805, 'రధ': 3877, 'itinerary': 1551, '4u9lrs5g0y': 102, 'reitera': 2597, 'member': 1966, 'displayed': 883, 'একট': 3714, 'jarahe': 1593, 'christian': 668, 'dome': 908, '5ehejcadvj': 114, 'adhyayan': 258, 'hermitpen': 1341, 'tweeted': 3139, 'ruling': 2679, 'ગલ': 3770, 'nqtkh0yfva': 2188, 'products': 2433, '6qahqy3hmz': 140, 'cvgbckynkc': 776, 'friday': 1153, 'spineless': 2899, 'report': 2610, 'condemn': 710, 'bhejna': 510, 'trip': 3119, 'y0veyqlwep': 3395, 'ilrslh2yyp': 1461, 'jaaye': 1573, 'fao': 1072, 'hi': 1346, 'jlvdtuswnu': 1620, 'dh4sxlabbz': 853, 'ojzfnhn67y': 2238, 'রয': 3738, 'gaye': 1191, 'dan': 799, 'tabqjqgeel': 2983, '1998': 31, 'shadowofphoton': 2797, 'qnwxo5xd8i': 2502, 'chin': 662, 'trilateral': 3117, 'int': 1511, 'chouhanshivraj': 667, 'maazmirzaa': 1886, 'ma0qc9hol3': 1883, 'khaunga': 1707, 'likes': 1830, 'urbandictionary': 3186, 'technology': 3005, 'look': 1854, 'asma_asaf': 389, 'ou': 2275, 'hmnu6cvj5e': 1367, 'event': 1025, 'saketgokhale': 2727, 'surrender': 2965, 'skte': 2856, 'safari': 2717, 'akali_dal_': 298, 'g1ynzt6j9m': 1173, 'papa': 2299, 'shaha': 2799, 'thik': 3043, '9bdi4fsjat': 186, 'liberalism': 1822, 'reporterravish': 2611, 'yogi': 3434, 'women': 3348, 'farmer': 1076, 'isha': 1535, 'ltjrz2zo9t': 1871, 'qs18cnvmjp': 2506, 'zeenews': 3462, 'qy2ssmtdnc': 2519, 'east': 959, 'shankerarnimesh': 2806, 'vladimir': 3258, 'ho': 1370, 'been': 481, 'इट': 3521, 'ykufkczjpd': 3425, 'अवसर': 3505, 'sardarsarovardam': 2747, 'inc': 1480, 'osnxv1y5cw': 2270, 'heinous': 1332, 'behind': 485, 'ranaayyub': 2553, 'public': 2462, 'exiled': 1039, 'alaihi': 302, 'world': 3354, 'condemns': 713, 'nqvrwj6z51': 2189, '9flyazbiqz': 193, 'करन': 3551, 'core': 742, 'raj': 2543, 'amazing': 312, 'dx0sfkptvl': 949, 'planed': 2360, 'आज': 3510, 'rich': 2633, 'gustaakhi': 1269, 'dedicated': 822, 'result': 2629, 'nawaz': 2105, 'get': 1206, 'vaccine': 3210, 'tou': 3090, 'celebrations': 637, '8grtmi62q5': 173, 'dwdavison': 946, 'cnhkubtizk': 686, 'feeding': 1093, 'devils': 846, 'റന': 3933, 'poors': 2388, 'uvc7depwu5': 3197, 'busy': 594, 'knowing': 1731, 'met': 1976, 'getting': 1208, 'balls': 448, 'three': 3055, 'twitted': 3142, 'തത': 3928, 'gwbdrunisg': 1272, 'jarurat': 1594, 'pmmodi': 2376, 'increasing': 1485, 'jnlxbh3q9u': 1621, 'rppattnaik1': 2665, 'princek45680439': 2421, 'zh4j5kirnp': 3470, 'contest': 732, 'mine': 1988, 'helf': 1334, 'terrorists': 3020, 'b9gzgk2aau': 430, 'ઈન': 3757, 'revolution4ssr': 2630, 'right': 2637, 'm1a6y4ptpo': 1879, 'imran': 1469, 'ytjxj1irhg': 3440, '31st': 74, 'cpdqehces8': 757, 'यम': 3651, 'xmg02q2scm': 3387, 'btafolmfyw': 585, 'bombay': 557, 'of': 2225, 'textiles': 3021, 'ravano': 2563, 'nop9rokj7j': 2172, 'waziri': 3299, 'ವನ': 3915, 'freedom': 1150, 'mihika99392091': 1983, 'am': 310, 'cov': 753, 'सपर': 3688, 'issues': 1545, 'majuli': 1906, 'care': 626, 'वड': 3672, 'arogyavan': 375, 'nutri': 2197, 'launch': 1789, 'dissent': 886, 'zazotonye7': 3458, 'raullyking': 2562, 'கம': 3835, 'pjbjym': 2353, 'sakta': 2729, 'list': 1837, 'sdmxhryk2y': 2771, 'replaced': 2608, 'court': 752, 'marketing': 1935, 'rwv4ntwobu': 2692, 'come': 695, '22kx2gmlz2': 55, 'तरण': 3592, 'read': 2576, 'spoken': 2901, 'shbywgy4ql': 2812, 'life': 1825, '62pbtea04v': 130, 'pics': 2344, 'with': 3335, 'tx9quvdgo4': 3145, '২৮': 3745, 'selected': 2786, 'acid': 244, 'idiot': 1448, 'npczqsntdf': 2185, 'hoetf24iil': 1372, 'park': 2305, '15': 23, 'comunidad': 705, 'light': 1826, 'नवम': 3609, 'kil': 1713, 'congratulations': 717, 'bqsiet1adw': 568, 'qcjlaaqzei': 2488, '4ofejgjny6': 101, 'port': 2394, 'touches': 3092, 'check': 655, 'mazdoor': 1948, 'called': 611, 'ma': 1882, 'ইউন': 3710, 'keva': 1689, 'सरक': 3698, 'have': 1322, 'ae2jkm1vnv': 267, 'raxqzqtcrj': 2564, 'project': 2437, 'सप': 3687, 'dhakatribune': 856, 'इन': 3522, 'wbpquckmp6': 3300, 'ano': 343, 'biharpolls': 522, 'vallabhai': 3213, 'prevalence': 2416, 'diwas': 896, 'abmeuwej41': 227, 'ಉದ': 3896, 'v5dbuw0pix': 3206, 'nd3m7zrspj': 2107, 'નન': 3782, 'important': 1465, 'reality': 2582, 'bip': 527, 'something': 2876, 'show': 2824, 'sc6xgrsneh': 2765, 'exclusive': 1037, '11': 18, '04vlrq05em': 3, 'bfjh6kfcrm': 498, 'anot': 344, 'launches': 1791, 'opportinuty': 2261, 'समझ': 3693, 'gg2kwmfw84': 1209, 'pogalquodz': 2379, 'nkrjsmyiax': 2158, 'ఎజ': 3862, 'travelled': 3110, 'oc93vxvkl0': 2218, 'picture': 2345, 'j3ftjyirdd': 1568, 'jihadiyo': 1612, 'q7tcmish76': 2485, 'hagi': 1294, 'greetings': 1247, 'wjjnkoksxs': 3340, 'keshubhaipatel': 1686, 'xdr86aainf': 3376, 'over': 2280, 'రస': 3880, 'nd6kt4gixm': 2109, 'ஒற': 3831, 'सद': 3686, 'ಸರ': 3917, 'always': 309, 'still': 2933, '10053r80y': 15, 'ban': 449, 'wrd1meiozg': 3359, 'on': 2250, 'सल': 3700, 'candinam': 617, 'kishanreddybjp': 1720, 'today': 3079, 'বল': 3732, 'रख': 3654, 'c73epim7f6': 606, 'u5sfye16lk': 3153, 'answe': 347, 'former': 1136, 'acc': 236, 'आदरण': 3513, 'huge': 1410, 'para': 2302, 'society': 2869, 'terrorist': 3019, 'nfbpvvdmue': 2134, 'jagatsinghpur': 1575, 'odfiqfctw7': 2224, 'inaugurated': 1475, 'tool': 3086, 'reading': 2577, 'shri': 2829, 'card': 625, 'மண': 3847, 'o9iacjgsf5': 2211, 'sushil': 2966, 'हर': 3706, 'mitron': 1997, 'dies': 865, 'express': 1046, 'politician': 2383, 'sbindtlh0q': 2763, 'group': 1253, 'conference': 715, 'அர': 3822, 'realdonaldtrump': 2581, 'known': 1732, 'farmers': 1077, 'मन': 3641, '46': 93, 'e7ccwvqzy9': 957, 'cabinet': 608, 'action': 248, 'adhar': 257, 'fuxr4omt54': 1164, 'di': 859, 'joke': 1626, '1000': 14, 'demonetization': 832, 'lsbquy3rwt': 1869, '1pg1t2tezu': 36, 'sqrs2d2vne': 2904, '21': 53, 'becoming': 480, 'cku9bsbrvj': 677, '7i29j18q37': 153, 'sharif': 2810, 'nations': 2102, 'pradhanmantri': 2399, 'iwduhw0qgg': 1563, 'esta': 1015, 'reopen': 2606, 'baat': 434, 'jong': 1629, 'cvzf7jivhm': 778, 'harishd_bjp': 1311, '5xfkg20vio': 125, 'రహ': 3881, 'contactriki': 730, 'kapilmishra_ind': 1668, '5trillioneconomy': 122, 'quzhtjhhke': 2516, 'tells': 3010, 'irjd4dhspc': 1532, 'doubt': 914, 'best': 495, '751v8zzihq': 145, 'happy': 1306, 'seeds': 2781, 'lay': 1795, '13866aod0f': 19, 'ઈટ': 3756, 'rczgn9pjsf': 2568, 'in': 1470, 'no': 2167, 'kare': 1670, 'extra': 1049, 'want': 3287, 'urges': 3187, 'rsfawy91be': 2670, 'lawyerpramit': 1794, '7aivify859': 148, 'dz8uied6t2': 951, 'oo35c57u3k': 2255, '7fkjlnvxfz': 150, 'varieties': 3217, 'mein': 1964, 'n6wjeuq1ot': 2068, 'बसण': 3634, 'সর': 3742, 'monitisation': 2022, 'damodardas': 798, 'narmad': 2095, 'pvvuhnr7vc': 2477, 'production': 2431, 'masood': 1938, 'tomtugendhat': 3083, '0dowooeghy': 8, 'pz7ki5rotg': 2481, 'ajitanjum': 296, 'a1rq0xsryg': 208, '5260c4jvqb': 109, 'बह': 3635, 'raha': 2537, 'naren': 2086, 'നമന': 3929, 'ble': 547, 'j6xymzhboh': 1569, 'फल': 3622, 'yxv4vqv3ut': 3448, 'predicts': 2409, 'g2bjuyltg3': 1174, 'pleasure': 2365, 'against': 273, 'kyu': 1765, 'modiatjunglesafari': 2015, 'শন': 3740, 'via': 3232, 'ikrishnaacharya': 1458, 'ರದ': 3910, 'headline': 1328, 'sabarmati': 2703, 'vsreddy_mp': 3268, 'forest': 1134, 'land': 1782, 'ટસ': 3775, '85k': 165, 'hero': 1342, 'farage': 1074, 'बदल': 3628, 'x0zgzazr8a': 3366, 'welcome': 3308, 'head': 1327, 'nature': 2103, '4lnzqlupuj': 100, 'ggn7wfjfz2': 1210, 'va': 3207, 'जर': 3573, 'bwjtzpm2fz': 601, 'ragib': 2536, 'yuvjbegcmq': 3444, 'inaugrated': 1471, 'dunga': 938, 'mohammed': 2019, 'monitor': 2023, 'islamic': 1541, 'limited': 1832, 'eveningnews': 1024, 'થય': 3780, 'manishkumarttp': 1920, 'crime': 762, 'adshivendra': 264, 'l7ngz6jzgo': 1773, 'drfizaakbarkha1': 926, 'पश': 3617, 'ask': 386, 'nivedan': 2153, 'attractions': 406, 'atke': 399, 'newly': 2127, 'request': 2615, 'કલ': 3767, 'sardar': 2744, 'day': 805, 'sachinpratiksi1': 2709, 'found': 1140, 'thakkar_sameet': 3024, 'marcusweldon': 1931, 'were': 3312, 'tejashwi': 3006, 'mom': 2021, 'moro': 2026, 'happen': 1304, 'f3f2uz6lol': 1054, 'acts': 251, 'fn0yr3juip': 1120, 'ಆಟವ': 3891, 'f94zisxyy9': 1058, 'quite': 2514, 'shall': 2803, 'sah': 2722, 'must': 2050, 'lie': 1823, 'disliking': 881, 'രധ': 3932, 'baca': 436, 'mgl7ximsdu': 1979, 'mqofidk1z9': 2031, 'petition': 2338, 'wequgy8jec': 3311, 'rsprasad': 2671, 'integra': 1512, 'lker3uk7lg': 1846, 'হঠ': 3744, 'major': 1903, 'samaya': 2737, 'yuxbjwjxjk': 3446, 'डर': 3584, 'fy0bshsrfm': 1171, 'पह': 3619, 'medicinal': 1958, 'kogtrehoml': 1736, 'unsubtledesi': 3177, 'greets': 1248, 'candidate': 616, 'm17xyhfmz4': 1878, '3flfgrwhrf': 83, 'dt': 931, 'idnani_nandini': 1449, 'xlylent8ft': 3385, 'ಗಳ': 3900, 'matters': 1944, 'gx1er8kayv': 1275, 'republic': 2613, 'die': 864, 'administer': 261, 'various': 3218, 'salman': 2732, 'ut9as6zcgl': 3192, 'maths': 1942, 'rahulgandhi': 2540, 'qbkr2cw17e': 2486, 'river': 2642, 'items': 1549, 'etehspevkl': 1020, 'vikas': 3238, 'all': 305, 'pulses': 2466, 'गए': 3557, 'bandi': 451, 'tweets': 3140, 'parrots': 2311, 'রক': 3735, 'fh48r3d98s': 1101, 'dfw7axbcpl': 849, 'aspiring': 392, 'gujaratwelcomespm': 1265, 'തകള': 3927, 'rukk': 2677, 'punjabnews': 2470, 'rvvtcuwj3x': 2690, 'fatality': 1082, 'swwagatam': 2974, 'kartarpur': 1674, 'maulana': 1945, 'prasad_perla': 2406, 'गलत': 3562, 'usa97nuk3x': 3190, 'sc': 2764, 'अप': 3498, 'app': 355, 'லங': 3855, 'r73k2kfzwf': 2527, 'spread': 2902, 'नगर': 3600, 'ha2kxjzn5r': 1289, 'commercial': 699, 'elections': 988, 'they': 3040, 'economictimes': 966, 'vote': 3263, 'pm52vwbtxi': 2371, 'richer': 2634, 'aspects': 391, 'these': 3038, 'fall': 1067, 'बरमत': 3632, 'jimduc2z2u': 1614, 'winxghclp8': 3331, 'passed': 2315, 'won': 3349, 'vyilloyw7d': 3270, 'make': 1908, 'galhot': 1183, 'kev': 1688, 'even': 1022, 'anilettigi': 336, 'pay': 2322, 'of78zzt9t3': 2226, 'baby': 435, 'majbori': 1901, 'heard': 1330, 'favour': 1087, 'place': 2357, 'hq': 1398, 'hun': 1414, 'ra52s2b12z': 2531, 'wanaharakati': 3285, 'ivlgb0prv0': 1560, 'cand': 615, 'fortif': 1137, 'sabhi': 2704, 'post': 2395, 'biharelections': 520, 'rubikaliyaquat': 2676, 'ideals': 1446, 'live': 1839, 'academic_dud': 235, 'रखप': 3656, 'warisalee01': 3291, 'those': 3050, 'population': 2391, 'z1b6dvdizh': 3450, 'muuwexjm6s': 2052, 'sources': 2883, '1grdaoiidv': 34, 'aalela': 216, 'zortrtumdi': 3483, 'वन': 3673, 'w3wh5cb3ah': 3274, 'nkgupta46607134': 2157, 'kcgdx23vdi': 1681, 'neajtgc8gd': 2113, 'chai': 642, 'ngi2gzsiqx': 2135, 'ndtv': 2111, '14': 20, 'verify': 3226, 'm5fnqqetqw': 1880, 'smxrawre9z': 2861, 'children': 661, 'oka83tgbf4': 2239, 'ji': 1609, 'https': 1407, 'lady': 1776, 'રધ': 3799, 'समर': 3695, 'gentle': 1203, 'sar': 2743, 'hu': 1408, 'wish': 3333, 'bakth': 446, 'जनसभ': 3572, 'raid': 2542, 'dudeeeeeee': 934, 'mithgicixs': 1996, 'mt3i1o3tit': 2037, 'applies': 357, 'കള': 3923, 'badal': 440, 'distrust': 890, 'tejaswi': 3008, 'requesting': 2616, 'felt': 1096, 'sala': 2730, 'piggiewiggiee': 2348, 'ni': 2139, 'govindarajanv10': 1238, 'so': 2863, 'n1swzf7cru': 2063, 'aaye': 222, 'चल': 3567, 'rifxeehdev': 2636, 'फर': 3621, 'h0hhwuwb21': 1285, 'americans': 317, 'years': 3411, 'fqmljzauea': 1146, 'stop': 2937, 'ಯನ': 3908, 'jcq1telsql': 1599, 'ham': 1299, 'doghla': 905, 'support': 2957, 'traditional': 3102, 'releases': 2599, 'give': 1215, 'information': 1500, 'indiawithfrance': 1497, 'vishwaguru': 3247, 'समस': 3696, 'alhamisi': 303, 'investment': 1528, 'janta': 1588, 'press': 2415, 'রধ': 3737, 'iska': 1537, 'gx0hg8ryds': 1274, '31': 72, 'sick': 2834, 'l6hhuffruv': 1771, 'ડનન': 3776, 'legislator': 1808, 'gt': 1255, 'newslaundry': 2132, 'ಕಟ': 3899, 'driven': 927, 'mar': 1929, 'devsena': 847, 'रम_कभ': 3664, 'vinti': 3243, 'dqzdj3x5wu': 920, 'person': 2336, 'discourse': 875, 'var': 3216, 'lankesh': 1785, 'x9iu8ehxar': 3371, 'addressing': 256, '14th': 22, 'country': 750, 'nabi': 2070, 'junglesafarikevadia': 1643, 'csm0uodmxk': 769, 'bke9dkmdwl': 543, 'q7iilkoyso': 2484, 'modihaitomumkinhai': 2017, 'promise': 2439, 'wezwdzogun': 3313, '708': 144, 'sakhtalfaaz': 2728, 'reselling': 2620, 'icarindia': 1441, 'यटन': 3647, 'fake': 1066, 'turned': 3131, 'matlab': 1943, 'twitter': 3143, 'nerfdznvlh': 2122, 'sh': 2795, 'spdcdezyh6': 2888, 'zeshanofficiall': 3467, 'sei': 2785, 'imps': 1467, 'गत': 3558, 'faces': 1060, 'say': 2760, 'gpjqkyd8vb': 1241, 'pacl': 2289, 'weird': 3306, 'jameen': 1583, 'ombirlakota': 2245, 'mizoram': 2000, 'opkdcvtcky': 2260, 'समय': 3694, 'shyam_1978': 2833, 'namo': 2081, 'street': 2943, '8o4zdljlyp': 177, 'america': 315, 'church': 670, 'sure': 2962, 'ynvc6f6uk1': 3431, 'go84xzziqa': 1227, 'herbs': 1339, 'rin1nj4wvs': 2638, 'stills': 2934, '145th': 21, 'five': 1112, 'আর': 3709, 'tr': 3101, '6eiakbnncl': 136, 'reoream4e7': 2607, 'zekcceyb92': 3465, 'તથ': 3777, '7fqnvownxs': 151, 'shouted': 2823, 'hgv61b7xmf': 1344, 'சம': 3838, 'hqusazep3a': 1400, 'ec': 962, 'hmoindia': 1368, 'jaq577': 1591, 'trailer': 3103, 'षक': 3680, 'xadytb9kds': 3372, 'zoologicalpark': 3482, 'bulk': 588, 'rural': 2686, 'rajtantra': 2548, 'mentored': 1969, 'level': 1814, 'કર': 3765, 'king': 1718, 'uf8m03orgv': 3156, 'aims': 290, '9didc9l2a1': 188, 'సవ': 3887, 'r8vhfi8tx4': 2529, 'process': 2429, 's36fjtymkf': 2695, 'beloved': 492, 'gives': 1216, 'god': 1229, 'oozpso6f69': 2257, 'britain': 578, 'milvgjrotd': 1986, 'a3uvfmdcgf': 209, 'పక': 3870, 'markets': 1936, 'sack': 2710, 'লজ': 3739, 'stsqwilmct': 2945, 'hk': 1359, 'boycottbollywood': 563, 'saw': 2758, 'ownership': 2283, 'kamalnath': 1663, 'ayukta': 422, 'how': 1395, 'brzb2vohb5': 582, 'nya': 2206, 'gandhi': 1184, 'msgpahujaa': 2035, '2b282sis10': 60, 'bqza965y5c': 569, 'soth9qdd1s': 2880, 'souindia': 2881, 'mynt': 2058, 'notificat': 2180, 'birthday': 532, 'don': 909, 'nare': 2085, 'junc4o9hbh': 1641, 'ఇల': 3861, 'or': 2265, 'ದನ': 3904, 'agenda': 276, 'sawal': 2759, 'deal': 815, 'nnssflwgvs': 2165, 'l70ftjqd9l': 1772, 'rssurjewala': 2673, 'noltul7qmt': 2169, 'maha_governor': 1893, 'omufhhj6gg': 2248, 'every': 1027, 'cxjyljxtql': 780, 'deaf': 814, 'night': 2144, 'father': 1083, 'committee': 701, 'zgjnppinvn': 3468, 'novembe': 2182, 'same': 2739, 'atamnirbhar': 397, 'एव': 3537, 'jhoomla': 1608, 'mc1m46upd4': 1952, 'tw59gi86kp': 3135, '9otkuiejaa': 199, 'ylcikdxbdk': 3426, 'jemon': 1604, 'der': 834, 'pehchan': 2332, 'tq': 3099, 'celebrate': 635, 'beshtttttt': 494, 'condemned': 711, 'essentially': 1014, 'w4996bxuyr': 3275, 'dead': 813, '85ww46tn0h': 166, 'shared': 2808, 'shaktimaan': 2802, 'abp': 230, 'olynuxakoe': 2244, 'people': 2333, '2022': 49, 'two': 3144, 'r7oa5veebf': 2528, 'aimim': 289, 'fly': 1118, 'free': 1149, 'वट': 3671, 'download': 916, 'nice': 2141, 'यट': 3645, 'innocent': 1505, 'response': 2627, 'atulrepublic': 407, 'jclmpgllwl': 1598, 'throug': 3057, 'dhabholkar': 854, 'case': 629, 'dam': 796, 'lays': 1796, 'ksickular': 1752, 'reached': 2573, 'yadav': 3403, 'advise': 266, 'siifqutjfz': 2837, 'mumbaipolice': 2042, 'mujhe': 2040, 'ot7qwgpkuo': 2272, 'x6kbljiqwl': 3369, 'pwvg6cpgam': 2478, 'jom0iidrsv': 1628, 'y6f8ucrjfk': 3396, 'फळ': 3623, 'equality': 1008, '03': 2, 'apply': 358, 'rahulroushan': 2541, 'yadavtejashwi': 3404, 'voice': 3262, 'based': 461, 'such': 2950, 'it': 1546, 'talking': 2991, 'zvji0ztkga': 3489, '2ktrkmkpay': 63, 'oct': 2221, 'dwzr4sy52q': 948, '15th': 24, 'student': 2946, 'ro9gmmuxf4': 2653, 'uxhjjuijhr': 3201, 'b6xg1ifw8k': 425, '5ytg3xznhz': 126, '6exi89z9ar': 137, 'asjadrazakhan7': 385, 'ye': 3408, 'ssc': 2910, 'riots': 2639, 'kfjnwhjmxf': 1695, 'guts': 1270, 'ygugqsp3ls': 3418, 'bqghtpq6zt': 567, 'fs95kw6v5s': 1158, 'situated': 2850, 'again': 272, 'kcxgeehfry': 1682, 'eoc5lmsnbp': 1003, 'ko': 1734, 'helped': 1336, 'सर': 3697, 'way': 3298, 'vice': 3233, 'dictionary': 861, 'yhftaovfjc': 3419, 'ui2dvyvgd9': 3158, '02iqabokpi': 1, '8audiupol6': 167, 'fd44th3ydx': 1092, 'kevadiya': 1692, 'g4x7cgv60l': 1175, 'xboozwt4xg': 3375, 'ളജ': 3935, 'himself': 1351, 'muslims': 2049, 'techn': 3004, 'st01ytemsg': 2915, 'arabic': 364, 'zindabaad': 3473, 'કરવ': 3766, 'टर': 3580, 'harbinger': 1307, 'लभ': 3670, 'mahapolice': 1894, 'ನರ': 3906, 'questioning': 2512, 'tlbigbejou': 3074, 'wiki': 3329, 'd21xb62sax': 786, 'ago': 278, 'officeofssc': 2231, 'learnt': 1804, 'inauguratio': 1478, 'teleconference': 3009, 'monkey': 2024, 'emmanuelmacron': 995, 'captain': 621, 'hone': 1380, 'fourteenth': 1143, 'controlled': 736, '2uu1gpnkl3': 69, 'উদ': 3712, 'yuvraaj': 3445, 'wr3ej8azk9': 3358, 'what': 3314, 'सज': 3684, 'कस': 3554, 'served': 2790, '6qbwdxzrj1': 141, 'thfs62thtk': 3041, 'bjp4bihar': 540, 'ishq': 1536, 'culture': 773, '4vebdblwwd': 104, 'jix5mvfm4w': 1618, 'paid': 2290, 'thr': 3053, 'similarly': 2840, 'b9cdsaglom': 429, 'ahmedabad': 286, 'pritiup7': 2422, 'jan': 1586, 'expensive': 1042, 'dieting': 866, 'appreciating': 359, '7jscnafuhm': 155, '360a4lejch': 78, 'dc9pcfodtx': 809, 'several': 2794, 'नवन': 3608, 'roam': 2656, 'ididrc7qj4': 1447, 'elaafturk': 985, 'efrubqelyj': 973, '7sxrggmqzx': 160, 'bachao': 437, 'eg': 974, 'favourite': 1088, 'reaction': 2575, 'preference': 2411, 'khilaaf': 1708, 'kfkxh0bsde': 1696, 'prakash': 2401, 'whi': 3318, 'macron': 1888, 'any': 350, 'joined': 1625, 'రక': 3875, 'pdx52srod6': 2326, 'etc': 1019, 'range': 2555, 'od5kjfwr7n': 2223, 'godi': 1230, 'impose': 1466, 'watch': 3297, 'qgpawqytpm': 2492, 'ಅಹಮದ': 3890, '0dbafhqmc4': 6, 'shubhshaurya1': 2831, 'அன': 3821, '6edwrxwv3i': 135, 'statue': 2930, '17': 27, 'e2': 955, 'food': 1128, 'tar': 2994, 'acti': 247, 'yayathipuru': 3405, 'sowing': 2885, '5chrcmuzkr': 113, 'end': 997, 'રસ': 3802, 'looking': 1855, 'puja': 2465, 'transferred': 3107, 'gone': 1232, 'anupampkher': 349, 'ಉಕ': 3895, 'आत': 3511, 'moa278yd63': 2012, 'lambaalka': 1781, 'amit': 319, '9swaqrkawm': 200, 'chal': 644, 'tough': 3093, 'us': 3189, 'development': 845, 'पण': 3613, 'munshi': 2045, '2001': 40, 'aapki': 218, 'यन': 3650, 'yfuczsuqek': 3416, 'mybxjjktgv': 2056, 'chaiye': 643, 'rajneeti': 2546, 'farooq': 1078, 'samay': 2736, 'collecting': 691, 'fm': 1119, 'provided': 2452, 'individual': 1498, 'thinks': 3046, 'pak': 2293, 'removed': 2605, 'bjp4india': 541, 'samajhdar': 2734, 'વર': 3807, 'cinema': 671, 'नन': 3603, 'will': 3330, 'plane': 2359, 'came': 612, 'vqsfsnjc2j': 3265, 'कट': 3543, 'challenging': 645, 'del': 829, 'baap': 432, 'jaankari': 1572, 'alive': 304, 'specially': 2893, 'pran_0': 2404, 'woke': 3347, 'haters': 1319, 'gl0anxnnc7': 1218, 'tjnt858d0c': 3072, 'delhi': 830, 'swcmhppb20': 2969, 'मर': 3642, 'मत': 3639, 'dudoodvliz': 935, 'आर': 3519, 'bhikkha': 511, 'phone': 2340, 'zzuzfxz2vj': 3492, 'named': 2079, 'hindustan': 1355, 'ever': 1026, 'entrevista': 1000, 'sqbkemnu3c': 2903, 'पन': 3614, 'nsrjcwtb9d': 2194, 'shame': 2805, 'mkstalin': 2005, '3saabilmtr': 86, 'him': 1350, 'part': 2312, 'hatred': 1321, 'mynameswatik': 2057, 'अर': 3502, 'eimsbu6iju': 980, 'ltd': 1870, 'பட': 3845, 'lingadahalli': 1835, 'mangoes': 1919, 'z2hwivty51': 3451, 'justification': 1649, 'ഏറ': 3919, 'arogya': 374, 'amxgzqmika': 329, 'दर': 3596, 'ek': 981, 'logo': 1851, 'pmingujarat': 2374, 'kwgfnhqnex': 1763, 'ajay': 293, 'hm': 1363, 'booth': 560, 'biofortified': 525, 'social': 2867, 'ready': 2578, 'flows': 1116, 'apne': 353, 'नय': 3605, 'consumer': 728, 'youtube': 3439, 'patra': 2317, 'नजर': 3601, 'यरस': 3652, 'majorgauravarya': 1904, 'done': 911, 'nagamese': 2071, 'bbrqn6wbbq': 468, '19': 28, 'mazdooro': 1949, 'proof': 2443, 'खतर': 3555, 'pax': 2321, 'maqboolsaleem': 1928, 'बर': 3631, 'agr': 280, 'projects': 2438, 'lqnle2225z': 1867, 'kalo': 1661, 'biharelections2020': 521, 'பயணம': 3846, '2jikxsveog': 62, 'grow': 1254, 'gobackstalin': 1228, 'khansaumitra': 1703, 'through': 3058, 'praja': 2400, 'lok': 1852, 'patel': 2316, 'xhjm53yxxj': 3381, 'dont': 913, 'nair_hena': 2075, 'pakturkey': 2296, 'ஆக': 3823, 'வத': 3856, 'pxcrtqbzih': 2479, 'durga': 941, 'rvf4lm1a7e': 2688, 'bahut': 443, 'एकदम': 3533, 'shalut': 2804, 'extremism': 1051, 'first': 1111, 'finance': 1106, 'hoti': 1391, 'uthne': 3193, 'change': 648, 'attacks': 404, 'uphkeseoho': 3182, 'np34d96yy8': 2184, 'isko': 1539, 'ivsn9cqjxj': 1562, 'aguv66kl4f': 281, 'vn438kazcb': 3260, 'foo': 1127, 'prince': 2420, 'lakh': 1779, 'popaler': 2389, 'msm': 2036, '65ap4sqpnu': 132, 'isme': 1542, 'animals': 337, 'protesters': 2447, 'વનન': 3806, 'qips5wy0k4': 2496, 'dramebaaz': 923, 'behaving': 483, 'turkeyurdu': 3130, 'exbkxlgfkv': 1035, 'eia': 977, 'forget': 1135, 'pledge': 2366, 'subjects': 2949, 'kiya': 1725, 'kotha': 1743, 'pxzyqimyd1': 2480, 'zoological': 3481, 'market': 1934, 'tjmjmdyv9k': 3071, 'rdf2iqyvso': 2570, 'air': 291, '3yc7sot0wc': 88, 'ksyvnannqf': 1756, 'n18gbrlfbm': 2062, 'sempet': 2787, 'rocphssozx': 2657, 'xkwoqyivtg': 3384, 'tha': 3023, 'अपन': 3499, 'treatment': 3112, 'ytysnqzuur': 3442, 'et': 1018, 'जगद': 3569, 'bcoixxsi4r': 470, 'special': 2892, 'dena': 833, 'వర': 3885, 'congress': 718, 'o7nmrgs85g': 2209, 'direct': 874, 'hope': 1386, 'dutt': 945, 'from': 1157, 'since': 2841, 'date': 804, 'both': 561, 'fastest': 1081, 'sympathy': 2978, 'rooh': 2661, 'qhpkswmjeg': 2494, 'epitome': 1006, 'ev3k460vpa': 1021, 'શન': 3811, 'coldcigar': 690, 'dinmdkti9p': 870, 'emedfumrgb': 992, 'concerning': 708, 'वस': 3677, 'shefvaidya': 2813, 'is': 1533, 'yjgq2cekqd': 3422, 'birth': 531, 'underlines': 3164, 'elxe4vlcul': 990, 'about': 228, '100': 13, 'kanya_matang': 1665, 'tmx7k1ehp3': 3077, '6biz1wozwo': 133, 'narmada': 2096, 'soldiers': 2870, 'लन': 3669, 'htcto4vpwt': 1405, 'can': 614, 'likh': 1831, 'zurmanaan': 3487, 'butterfly': 596, 'trying': 3126, 'করব': 3716, 'treat': 3111, 'atnzrj8xfe': 401, 'haaaaahaaahaaaahaaa': 1290, 'authority': 412, 'phdgwgpjno': 2339, '75th': 146, 'vs': 3266, 'rqdvcjshjw': 2666, 'franklin': 1148, 'clicked': 681, 'djgyy3dkyq': 897, 'ljmkskxgpw': 1844, 'inspirational': 1508, 'সফর': 3741, 'hota': 1390, 'innauguretion': 1504, 'tow': 3097, 'eyi85i12fb': 1053, 'e0ytplysos': 953, 'dipakrelon': 872, 'wel': 3307, 'બસ': 3792, 'maheshkanodia': 1897, 'jinping': 1616, 'mouth': 2028, 'shakti_shetty': 2801, 'justice4ssr___': 1646, 're': 2571, 'enxpcn8pss': 1002, 'meets': 1961, 'kr': 1745, 'ramleen7': 2552, 'received': 2587, 'roshanjha1588': 2662, 'danish': 800, 'bharat': 504, 'uw35bhpeks': 3200, 'मङ': 3638, 'ocila1ay75': 2220, 'skodithala': 2854, 'રવ': 3801, 'બરમત': 3791, 'your': 3438, 'ಆಣ': 3892, 'zhoky0ctck': 3471, '7oyocld5vo': 157, 'r0sogl6oqe': 2523, 'wishes': 3334, 'visit': 3249, 'ws7xutc4rk': 3362, 'lynchings': 1875, 'thugs': 3060, 'more': 2025, 'cn7z47clhk': 685, 'schemes': 2770, 'આદરણ': 3750, 'h83nkixoao': 1287, 'embark': 991, '3ukxogxjph': 87, 'cu3gfjdmzh': 771, 'sk77872309': 2852, 'reschedule': 2618, 'hates': 1320, 'jammu': 1585, 'hr7veuinkw': 1401, 'pui3xnusvm': 2464, 'poll': 2385, 'maheshbhai': 1896, 'consoles': 722, 'harvest': 1314, 'sagnikkar': 2720, 'updated': 3180, 'dollar': 907, 'अन': 3497, 'assault': 394, '8odu3nbbo2': 178, 'ఆఫ': 3859, 'શર': 3812, 'p83s2dyccb': 2288, 'days': 806, 'worn': 3355, 'आगमन': 3509, 'कड': 3544, 'khilaf': 1709, 'problems': 2428, 'tributes': 3115, '9fjneilvt3': 192, 'ರತ': 3909, 'સર': 3817, 'brave': 573, 'vivek_mishra97': 3253, 'dtgnjoumkq': 932, 'കല': 3922, 'dibagian': 860, 'upet0sg382': 3181, '3c75ki0blj': 80, '4gko5gdyu7': 98, 'तक': 3586, '8e7lhigha0': 170, 'આવ': 3753, 'farahnezam': 1075, 'gtrh8zihte': 1256, 'कर': 3549, 'hugs': 1411, 'outside': 2279, 'blaming': 545, 'nasionalisme': 2098, 'ourage': 2277, 'aaj': 214, 'mobile': 2013, 'fbkdutuu5q': 1090, 'know': 1730, 'रमत': 3665, 'manufacturing': 1925, '8vgx3f637e': 180, 'dir': 873, '2lze8soyrs': 64, 'everyone': 1028, 'nl': 2160, 'his': 1357, 'ildedkcfxf': 1459, 'suit': 2953, 'basically': 462, 'tlbigbn80k': 3075, 'threat': 3054, 'geodesic': 1204, 'hvqsorntzc': 1419, 'biopic': 526, 'affairs': 269, 'soni': 2877, 'aeroplane': 268, 'unka': 3172, 'qiwcsxw4l2': 2497, 'qe5ibmruqx': 2490, 'push': 2472, 'mangan': 1918, 'lose': 1858, 'goyal': 1240, 'sagarikaghose': 2718, 'incsonal': 1486, 'ps': 2453, 'swamy39': 2968, 'drfanhgq8q': 925, 'gai': 1182, 'qrbfj7whdk': 2505, 'ind': 1487, 'stand': 2921, 'f4pqltm9fy': 1057, 'brings': 577, 'terrorism': 3018, '28': 58, 'ઇએથ': 3754, 'kan': 1664, 'negative': 2117, 'effor': 971, 'our': 2276, 'adityanath': 259, 'modi': 2014, 'ha': 1288, 'dushman': 943, 'guru': 1268, 'জর': 3722, 'coin': 689, 'rbzepdrrpn': 2567, 'paved': 2318, 'justiceforsushantsinghrajput': 1648, 'normally': 2173, 'ja1jjgvyag': 1570, 'ii1ctisovj': 1454, 'pulwama': 2467, 'liberal': 1821, '1cc6qw9cdy': 32, 'lvtyvh2in8': 1872, 'speedbreaker': 2896, 'office': 2229, 'mejhe': 1965, 'xaspbh0hgl': 3374, 'armed': 370, 'कल': 3552, 'proofs': 2444, 'amjadmaruf': 325, 'twee': 3136, 'lh72eponhe': 1820, 'james': 1584, 'conclusiones': 709, 'bhavan': 509, 'nyay4ssr': 2207, 'names': 2080, 'southasiandaily': 2884, 'sagor': 2721, 'యవన': 3874, 'flags': 1115, 'extraordin': 1050, 'yeah': 3409, 'stalwart': 2920, 'singapore': 2843, 'chapati_gamer': 652, 'resembles': 2621, 'yltxgej6sx': 3427, 'pawankhera': 2320, 'wise': 3332, 'ssr': 2912, 'as': 379, 'ubvihd155w': 3154, '25': 57, 'minhasnajma': 1989, 'primeminister': 2419, 'હત': 3819, 'hypocrisy': 1423, 'home': 1375, 'ze9d9avnug': 3461, 'nov': 2181, 'year': 3410, 'van': 3215, 'if': 1450, 'riyactalentdc': 2644, 'before': 482, 'ani': 335, 'shaadi': 2796, 'unfortunately': 3166, 'hat': 1316, 'ultqna7ct8': 3161, 'officeofssbadal': 2230, 'bless': 548, 'narendramodi177': 2092, 'આગ': 3748, '_lovi_ing': 205, 'নমন': 3726, 'pbzl4xjdpg': 2325, 'hamesha': 1301, '9eatuitodz': 191, 'during': 942, 'nutritionpark': 2199, 'bhulna': 515, 'oarcz8ylb8': 2213, 'blind': 549, 'jai': 1577, 'ake79utorx': 299, 'aatank': 221, 'k6tqccq4tb': 1658, 'ht90nb8bpm': 1404, 'assistance': 395, 'dailyoh': 792, 'alokshinde': 306, 'became': 476, 'n6lqakkb8w': 2067, 'ivishalthacker': 1559, 'तम': 3590, 'ssoyicrdgj': 2911, 'd8yxxksgzp': 790, 'estimate': 1017, 'acuvn4zdef': 253, 'achcha': 241, 'campaign': 613, '0qjmjjx386': 10, 'failure': 1063, 'killed': 1714, 'stated': 2928, 'steps': 2932, 'marcron': 1930, 'recovery': 2591, 'e54p1ajemc': 956, 'emergency': 993, 'dgyuzldk05': 852, '1917': 29, '2015': 45, 'g8cebkrz8a': 1177, '338': 77, '1yacfmxyvf': 38, '4v0fu9icgk': 103, 'interesting': 1518, 'fact': 1061, 'made': 1890, 'xjtcipmzqa': 3383, 'icrisat': 1444, 'future': 1163, '105': 16, 'global': 1220, 'deshmaneakshay': 837, 'nsitharaman': 2192, 'expressed': 1047, 'దన': 3866, 'cfvjfgpdha': 639, 'paq7bvzvba': 2300, 'despicabl': 840, 'l0zbvvc2qg': 1769, 'glimpses': 1219, 'cases': 630, 'षण': 3681, 'kewal': 1693, 'sardarsarovar': 2746, 'u0tlbctjkm': 3150, 'schedule': 2769, 'only': 2252, 'aybbzckhlg': 421, 'obrdwbp15p': 2217, 'coward': 756, 'ajay62809471': 294, 'kosi': 1741, 'reforms': 2593, 'ujocrevykq': 3160, 'nvo51zxgwd': 2203, 'uxxlecybxy': 3202, 'orqbdmdgq7': 2267, 'yhqpdc54bo': 3420, 'hona': 1377, 'srivatsayb': 2908, 'journalist': 1632, 'vl1eziapkv': 3257, 'expert': 1044, 'ರಧ': 3911, 'season': 2775, 'thehill': 3033, 'soyrhwiwbl': 2886, 'terror': 3017, 'rga5nyvuiq': 2632, 'ನಗಳ': 3905, 'few': 1098, 'need': 2115, 'ksmann': 1754, 'gd': 1195, 'are': 366, 'behead': 484, 'अक': 3494, 'a0yumcfcfu': 207, 'airport': 292, 'crt6zh6tq7': 767, 'indiaaish': 1491, 'copy': 741, 'radicals': 2534, 'district': 889, 'dish': 879, 'bm30cvlcdt': 552, 'respected': 2626, 'hlcnonapho': 1361, 'aage': 212, 'doesn': 904, 'पहल': 3620, 'kitni': 1724, 'zuu0mfui4g': 3488, 'honesty': 1381, 'tailor': 2984, 'hwlmgjkcup': 1420, 'khate': 1705, 'xguwyihd9n': 3380, 'cwvzxjqxzf': 779, 'samajh': 2733, 'away': 418, 'amergulam': 314, 'zcjkxnnljo': 3460, 'bihar': 518, 'घर': 3563, 'n4oeqvxgkf': 2064, 'gaali': 1180, '2012': 43, 'templeton': 3012, 'mitroon': 1998, 'lrt3pyciuj': 1868, '8fmkz92jvs': 171, 'divisional': 895, 'iusexvbjtg': 1556, 'toh': 3081, 'here': 1340, 'iaf': 1434, 'confident': 716, 'parade': 2303, 'nation': 2100, 'da': 791, 'आपस': 3516, '9z3xtnromn': 203, 'જર': 3773, 'wuby0zfqy7': 3363, 'એકત': 3759, '9dnwcdnbsz': 189, 'myogiadityanath': 2059, 'bhakti': 503, 'mabf': 1887, 'cm': 682, 'bole': 556, 'পট': 3728, 'নর': 3727, 'company': 702, 'areas': 368, 'translations': 3109, 'nikamma': 2145, 'lpzlpowlmk': 1865, 'tqz6lihzh3': 3100, 'bhot': 514, 'aap': 217, 'comes': 696, 'ljp': 1845, 'tvbvwdy1je': 3132, 'riverfront': 2643, 'rknxphhk1i': 2648, 'nath': 2099, 'speaks': 2891, 'વડ': 3804, 'sambit': 2738, 'अव': 3503, 'mehboobamufti': 1962, 'k4v9qfaulc': 1657, '2020': 48, 'guja': 1260, 'death': 817, 'atmanirbharbharat': 400, 'regional': 2596, 'nkvggtv9ga': 2159, 'work': 3351, 'official': 2234, 'cxkeck': 781, 'emmanuel': 994, '8k': 175, 'watatu': 3296, 'मद': 3640, 'ചകള': 3924, 'narendramodi_in': 2093, 'india': 1489, 'parliamentarian': 2308, 'crafts': 759, 'host': 1389, 'mails': 1899, 'swi1wevup4': 2972, '7ecinr2oi1': 149, 'mamta': 1915, 'goo': 1233, 'singh': 2844, 'kin': 1716, 'ಅವರ': 3889, 'zlx1zxn6hz': 3477, 'assailants': 393, 'gauri': 1189, 'imandari': 1463, 'its': 1554, 'unpe': 3175, 'hearing': 1331, 'symbols': 2977, 'din': 869, 'one': 2251, 'her': 1338, 'aajtak': 215, 'bh': 500, 'present': 2413, 'sikha': 2838, 'discrimination': 878, 'but': 595, 'content': 731, 'running': 2681, 'maa': 1884, 'reallyswara': 2584, 'ar': 362, 'आम': 3517, 'ठक': 3581, 'lessons': 1811, 'distr': 887, 'upset': 3183, 'battoleybaz': 465, 'amitmalviya': 323, 'genre': 1202, 'ga': 1178, 'laga': 1777, 'hmhzagfqmp': 1365, 'un': 3162, 'officers': 2233, 'ynnpk0lwns': 3430, 'రత': 3876, 'kumar': 1759, 'agya': 283, 'mam': 1913, 'bsgih0haim': 584, 'આર': 3752, 'political': 2382, 'election': 987, 'lies': 1824, 'together': 3080, 'exam': 1034, 'corruption': 745, 'till': 3065, 'between': 497, 'দর': 3723, 'lqfwcol5ki': 1866, 'ka': 1659, 'fas': 1079, 'नव': 3607, 'shree': 2827, 'उसक': 3530, 'birchmki2u': 528, 'told': 3082, 'leaders': 1801, 'khalid': 1698, 'ifdmxkkhsx': 1451, 'voter': 3264, 'keep': 1684, 'gem9ecf9lk': 1198, 'frmeqqyhcr': 1156, 'વરફ': 3809, 'gyule9rrem': 1280, 'पट': 3612, 'neharenavikar': 2119, 'शम': 3679, 'scared': 2767, 'who': 3321, 'honorable': 1383, 'messenger': 1975, 'shashitharoor': 2811, 'nv24x7news': 2201, 'imirfu007': 1464, 'ferry': 1097, 'for': 1130, 'smriti': 2860, 'shweta4nation': 2832, 'startupshaala': 2926, 'gujrat': 1266, 'draft': 922, 'above': 229, 'qu70oxppey': 2509, 'spice': 2897, 'jee': 1601, 'சர': 3839, 'electoin': 989, '4dbtmeuxwe': 97, 'ಆರ': 3893, 'jxphyh5xvl': 1653, 'panoramic': 2298, 'contact': 729, 'colony': 693, 'പട': 3931, 'according': 239, 'fwcqe883xi': 1165, 'match': 1941, 'totally': 3089, 'doa3xwc6hq': 902, 'wo': 3346, 'దర': 3867, 'telugu': 3011, 'exemplary': 1038, 'peace': 2328, 'wants': 3289, 'lgrup1w8lm': 1819, 'aksai': 301, 'china': 663, 'j2a2mmko9w': 1567, 'டக': 3841, 'feel': 1094, 'baplaxjxly': 458, 'co1dpifof7': 688, 'chunav': 669, '9wkzopiqab': 202, 'wide': 3326, 'ধন': 3724, 'तर': 3591, 'chance': 647, '20hq2j5mld': 51, 'rashtrabhakti': 2556, 'off': 2227, 'tcffchfhjt': 3000, 'qsaispjxhm': 2507, 'urrpepjpi6': 3188, 'khanna': 1702, 'aviary': 415, 'hyrecvqyny': 1424, '8ye5p0929x': 182, 'concept': 706, 'half': 1298, 'able': 225, 'out': 2278, 'factcheck': 1062, 'kkk': 1728, 'battle': 464, 'enp5wzbozm': 999, 'takes': 2989, 'epcu1uesak': 1005, 'zoo': 3480, 'dkpudifbwk': 899, 'shahnawazbjp': 2800, 'bhataktatweet': 507, 'fnypguh9sl': 1121, 'polling': 2386, 'nilcld7xdf': 2146, 'ടന': 3926, 'including': 1484, 'productive': 2432, 'believes': 489, 'y9mtkmmm6o': 3401, 'seek': 2782, 'fh0bhjr2uv': 1100, 'queens': 2510, '3ymdtyieco': 89, 'ekdom': 982, 'sanatanis': 2740, 'পয': 3729, 'ne': 2112, 'visited': 3250, 'to': 3078, 'hain': 1297, 'wasallam': 3294, 'four': 1142, 'letf5owut0': 1813, 'अख': 3495, 'chief': 659, 'fame': 1068, 'परप': 3616, 'accept': 237, 'w0aabppbjg': 3272, '22': 54, 'health': 1329, 'abpnews': 231, 'personal': 2337, 'sides': 2836, 'জঙ': 3720, 'nqhlmfupop': 2187, 'safar': 2716, 'worse': 3356, 'geogubnij0': 1205, 'preetig79725251': 2410, 'jehztutnrg': 1603, 'kalyug': 1662, 'speech': 2894, 'belonging': 491, 'late': 1787, 'oblivious': 2216, 'gboetsqorg': 1194, 'fucumbgv7z': 1159, 'pictures': 2346, 'become': 478, 'connection': 720, 'offi': 2228, 'wzz1rfprcm': 3365, 'justsaying': 1650, 'ജറ': 3925, 'relating': 2598, 'messag': 1973, 'गल': 3560, 'ziyfx8tcub': 3474, 'kisi': 1721, 'synonyms': 2979, 'orxb9jjeim': 2268, 'save': 2756, '________': 204, 'vo': 3261, 'different': 868, 'rbxjfvbjmv': 2566, 'honble': 1379, 'nsppmwhh85': 2193, 'indiachinabordertension': 1492, 'and': 332, 'dumhu2376h': 937, 'intervene': 1521, 'nscfm9sion': 2191, 'shivakumara': 2819, 'manyavar': 1927, 'sadi': 2714, 'contin': 733, 'economi': 964, 'namoapp': 2082, 'eslamvi1': 1012, 'mfaturkey': 1977, 'das': 802, 'tirtol': 3070, 'యవ': 3873, 'hindutva': 1356, 'ewmtpdca1w': 1033, 'inside': 1506, 'mansi': 1924, 's0ryjyo8xy': 2693, 'amita0744': 320, 'mmcx76kgre': 2008, 'firda': 1110, 'store': 2939, '10': 12, 'khud': 1710, 'activism': 249, 'hc': 1323, 'tvpqxcjwle': 3134, 'sp': 2887, 'હસ': 3820, 'birdwatching': 530, 'rjjovjxdvv': 2645, 'incharge': 1482, 'you': 3436, 'yes': 3414, 'estateatul': 1016, 'पक': 3611, 'drsunandambal': 929, 'uu6fhss2pr': 3195, 'started': 2924, 'irani': 1531, 'asmi_mathew': 390, 'taiwan': 2985, 'vijaythottathil': 3237, 'mieevftynk': 1982, 'z8rsuwdb4q': 3453, 'declared': 821, 'રન': 3800, 'co': 687, 'fieryindian90': 1102, 'fight': 1103, 'op4wqag4n7': 2258, 'chauraha': 653, 'le3r8lw0vb': 1798, 'nivysuuh5d': 2154, 'सकर': 3682, 'lands': 1783, 'amgkdtxp5n': 318, 'cmomaharashtra': 683, 'like': 1828, 'थन': 3595, 'captsandip': 623, 'bol': 555, 'இன': 3826, 'c1yk5e23o1': 604, 'rk3awep2an': 2647, 'indians': 1496, 'realpankajjha': 2585, 'वरफ': 3675, 'ziipvipjv0': 3472, 'abm9wnhwjv': 226, 'mei': 1963, 'visits': 3251, 'witness': 3337, 'unknown': 3173, 'gau': 1188, 'parmesh214': 2309, 'honourable': 1385, '655d1btctm': 131, 'bjjx2z9ax2': 537, 'experienced': 1043, 'trust': 3123, 'investing': 1527, 'ptgjzo1lcb': 2457, 'jaq8ba3bft': 1592, 'nnncwk3d10': 2164, 'around': 376, 'yoga': 3433, 'mp': 2030, 'beaten': 474, 'lines': 1834, 'गई': 3556, 'let': 1812, 'buying': 599, 'seaplaneservices': 2774, 'secular': 2778, 'অফ': 3707, 'where': 3317, 'constructed': 726, 'lea': 1799, 'redgtqbdns': 2592, 'by': 602, '48': 95, 'ahambrahmasmi98': 284, 'रप': 3660, 'man': 1916, 'genocide': 1201, 'name': 2078, 'vkdykvuzl0': 3255, 'બનશ': 3790, 'mann': 1922, 'timesnow': 3068, 'crezaaykdo': 761, 'never': 2124, 'union': 3170, 'nutrition': 2198, 'karta': 1673, 'main': 1900, 'dc0egngzso': 808, 'we': 3303, 'ambani': 313, 'time': 3066, 'kripya': 1747, 'blwu9210bk': 550, 'weight': 3305, 'illiberalism': 1460, 'asks': 388, 'pti_news': 2458, 'repression': 2612, 'wnanj1ldss': 3345, '5lmarkedsafefrombjp': 117, 'hlep': 1362, 'khaledbeydoun': 1697, 'ache': 242, 'says': 2762, 'makada': 1907, '9c4vb3fi6g': 187, 'ro9yru3q9d': 2654, 'complaints': 704, 'intervened': 1522, 'party': 2314, 'pl2ic7qmgp': 2354, 'ride': 2635, 'talk': 2990, 'muslim': 2048, 'রকল': 3736, 'vdeminstitute': 3222, 'prakashjavdekar': 2402, 'number': 2196, 'fwdrctxbye': 1166, 'supreme': 2960, 'றந': 3854, '1u38vfck2g': 37, 'g6ogaoh0wl': 1176, 'ಅತ': 3888, 'region': 2595, 'going': 1231, 'ধর': 3725, 'power': 2397, 'competitor': 703, 'ont9f6xvfq': 2254, 'anything': 352, 'bs5crrfspo': 583, 'mananiy': 1917, 'एज': 3534, 'languages': 1784, 'znzljyrovp': 3479, 'much': 2038, 'arnabofficial9': 373, 'ixraw5zvn5': 1565, 'nishant_nihar': 2149, 'chosen': 666, 'cknifaucke': 676, 'awareness': 417, 'drdo_india': 924, 'county': 751, 'ya8hgy6hiw': 3402, 'hekf8ekixz': 1333, '8wazisdja5': 181, 'forces': 1133, 'ghar': 1212, 'जद': 3570, 'qjua0iogbz': 2499, 'mai': 1898, 'pta': 2456, 'sach': 2707, 'bhava': 508, 'favor': 1085, 'gzsw4kw4af': 1283, 'cool': 739, 'kaun': 1679, 'hii': 1348, 'vh7ljjwlw8': 3230, '5x08pkctek': 124, 'kahan': 1660, 'probe': 2426, 'decide': 819, 'hai': 1295, 'ro': 2652, 'করল': 3717, 'c1ljgze2of': 603, 'ఆర': 3860, 'liye': 1843, 'yonglebi': 3435, 'protests': 2448, 'ksk5igqnso': 1753, 'vb4ctnv9k7': 3220, 'especially': 1013, 'rather': 2560, '7psjniseor': 158, 'british': 579, 'tenure': 3014, 'kapdo': 1666, 'city': 672, 'news24tvchannel': 2129, 'trillion': 3118, 'shows': 2826, 'truth': 3124, 'यत': 3648, 'नई': 3598, 'sir': 2846, 'వద': 3884, 'linking': 1836, 'abusing': 234, 'y8aez0kfvi': 3398, 'namastey': 2077, 'inauguration': 1479, 'cultural': 772, 'lffuswpwpl': 1816, 'pml': 2375, 'hours': 1393, 'djmogividg': 898, 'secretary': 2777, 'erdogan': 1009, 'saddam00462749': 2712, 'reserve': 2623, 'बच': 3625, 'bqze3we31k': 570, 'constituency': 723, 'wale': 3283, 'પટ': 3788, 'ydh4sqhvqe': 3407, '9tyiz46alw': 201, 'publish': 2463, 'financial': 1107, '55': 110, 'old': 2241, 'treats': 3113, 'रत': 3657, 'lcurnuqxq8': 1797, 'does': 903, 'website': 3304, 'janch': 1587, 'સરદ': 3818, 'kvzcahrxrr': 1762, '200': 39, 'l2lv8btu6c': 1770, 'oleic': 2242, 'pieces': 2347, 'desecrated': 835, 'roslapknyq': 2663, 'indian': 1495, 'सबस': 3690, 'punjab': 2469, 'taken': 2988, 'hsznkag9bl': 1403, '0dnhja6oyf': 7, 'vulnerability': 3269, 'kim': 1715, 'wmyr2u0ooj': 3344, 'arey': 369, 'pays': 2323, 'faiz2485': 1064, 'jyjmvyutt5': 1654, 'डत': 3582, 'greeting': 1246, 'கழ': 3837, 'provide': 2451, 'video': 3234, 'ગર': 3769, '5tkprykqsc': 121, '61zfzwqkkm': 129, 'business': 593, 'mk77uubnoz': 2004, 'under': 3163, 'magnitude': 1892, 'than': 3026, 'saying': 2761, 'n5agpvedvk': 2065, 'itne': 1553, 'reluctance': 2602, 'believed': 488, 'narendr': 2087, 'startup': 2925, 'mare': 1932, '5kbpmxr1oy': 116, 'bus': 591, 'rextmmf95c': 2631, 'யவர': 3851, 'pre': 2408, '9isdsv8eyz': 195, 'sad': 2711, 'अद': 3496, 'pm': 2370, 'hobali': 1371, 'mirror': 1994, 'इल': 3524, 'fjh4oydkog': 1113, 'ab': 223, 'રથમ': 3798, 'h3rngrijdv': 1286, 'blami': 544, 'dono': 912, 'ian': 1439, '202': 47, 'बत': 3627, 'islam': 1540, 'thorny': 3049, 'तप': 3589, 'nar': 2083, 'meme': 1968, 'sirramangi': 2848, '44ttmhlrgy': 92, 'initiate': 1501, 'task': 2999, 'n664vtotep': 2066, 'vempvlrou0': 3225, 'ಮನ': 3907, 'leke': 1809, 'rw': 2691, 'american': 316, 'accountability': 240, 'went': 3310, 'tweed': 3137, 'पस': 3618, 'koi': 1738, 'okwm1imw8x': 2240, 'democracy': 831, 'maan': 1885, 'nxqgkvytfm': 2204, 'रव': 3666, 'जव': 3576, 'populist': 2393, 'wameuawa': 3284, 'qik6prk1i4': 2495, 'third': 3047, 'dal': 794, 'qgvphm4wwh': 2493, 'duo': 940, 'gye': 1278, 'evjsr4ahpa': 1031, 'busb6onrck': 592, '8cfsrbzchh': 169, 'rese': 2619, 'martyred': 1937, 'condemning': 712, 'गर': 3559, 'xdtxxawhqe': 3377, 'eye': 1052, 'wjkefhq7ht': 3341, 'sadly': 2715, 'ಎರಡ': 3897, 'hmko': 1366, 'translation': 3108, 'madrachod': 1891, 'નલ': 3785, 'xguwl5l3eb': 3379, 'కర': 3863, 'proud': 2449, 'ಳದ': 3914, 'w7ywt8azgx': 3278, 'बन': 3629, 'reservation': 2622, 'జర': 3865, 'minutes': 1993, 'spices': 2898, 'jir64i6k8j': 1617, 'widow': 3327, 'burnt': 590, 'saalon': 2700, 'living': 1842, 'रह': 3668, 'ungmpnltal': 3167, 'lfn59kwye4': 1817, 'down': 915, 'last': 1786, 'sszrziphxw': 2913, 'stalin': 2918, '7hbbdqtwxg': 152, 'neither': 2120, 'r0ik8gkswq': 2521, 'commemorative': 698, 'wait': 3282, 'greeted': 1245, 'nnyblcdqox': 2166, 'currently': 775, 'hindus': 1354, 'deti': 843, 'distribution': 888, 'biscuit': 534, 'யல': 3849, 'jante': 1589, 'rk': 2646, 'gautambpradhan': 1190, 'narendra_fan_in': 2089, 'loa': 1850, 'हमल': 3705, 'madarchod': 1889, 'socie': 2868, 'उत': 3526, 'ben': 493, 'னர': 3844, 'jaiwanth1': 1582, 'plyokja4ii': 2368, 'આજથ': 3749, 'bank': 455, 'vessels': 3229, 'inaugurate': 1474, 'please': 2364, 'nidhileo': 2142, 'thq5ujhdfp': 3052, 'tarmac': 2998, 'sce': 2768, 'freely': 1151, 'saheb': 2724, 'xul1hvdr3d': 3393, 'plan': 2358, 'દરત': 3781, 'nia': 2140, 'celebrates': 636, 'పర': 3871, 'rishabh39144063': 2640, 'u2tzfjbo8n': 3151, 'tzag7aiban': 3147, 'aimenhayatkhan': 288, 'gm3woogwjw': 1223, 'sansing740818': 2742, 'dzumxkquaw': 952, 'launched': 1790, 'syedabdul536': 2976, 'psndkqjvcl': 2455, 'amitabhaav': 321, 'sabhyta': 2705, 'zqffvkjzhx': 3486, 'mrsgandhi': 2034, 'amaze': 311, 'tour': 3094, '9joq5tkxrp': 196, 'annaa': 339, 'manojsinha_': 1923, 'becomes': 479, 'இடங': 3824, 'brahmchari': 571, 'big': 516, 'the': 3030, 'pakistani': 2295, '6ivbrzwxou': 139, 'northeast': 2175, 'rmcpost': 2650, 'gets': 1207, 'many': 1926, 'aqnanrlsmf': 361, 'expos': 1045, 'narrating': 2097, 'piyushgoyal': 2352, 'poster': 2396, 'tantra': 2993, 'jexdch5elr': 1605, 'ytjxpic8pt': 3441, 'नए': 3599, 'bpdyuqakuz': 565, 'jovdyrrxug': 1635, 'தட': 3843, 'en': 996, 'boat': 554, 'dino': 871, 'elected': 986, 'rajat_yaadav': 2544, 'यद': 3649, '61tjz4bbeg': 128, 'dusron': 944, 'btz1elkpgl': 586, 'मह': 3643, 'indiachinastandoff': 1493, 'hnijzl8dp2': 1369, 'diversity': 894, 'nndhqd14x6': 2163, 'glraiiqx6d': 1222, 'mcbgoud5uz': 1953, 'ksmnsrbo0a': 1755, '04zy84bxb5': 4, 'cha': 640, 'journalistvipin': 1634, 'sochte': 2866, 'wife': 3328, 'breakers': 574, 'અન': 3746, 'ವರ': 3916, 'address': 255, 'changing': 650, 'destination': 842, 'यटक': 3646, 'foxnews': 1144, 'developed': 844, 'iamsrk': 1438, 'yehzgyhbpv': 3413, 'औक': 3541, 'role': 2660, 'jrpnlqcjfa': 1638, 'jihadis': 1611, 'khane': 1701, 'zegtqxvwpp': 3464, 'बख': 3624, 'awkward': 419, 'roflgandhi_': 2658, 'cjdehv3ped': 675, 'nh': 2136, 'defend': 824, 'rp5ryz6wuo': 2664, 'jjfcy2tv0c': 1619, 'fool': 1129, '1d4aaqauju': 33, 'working': 3353, 'ur': 3185, 'chinese': 664, 'mh5aqhepha': 1981, 'vijay': 3236, 'ணர': 3842, 'z4ghsmfhwm': 3452, 'international': 1520, 'കണ': 3921, 'hx0qd13hn1': 1421, 'i6aj7wguud': 1430, 'bpide3nxed': 566, 'skgo5kgome': 2853, 'merit': 1972, 'maharashtra': 1895, 'bhai': 502, 'gdf7s0hix0': 1196, 'chor': 665, 'green': 1244, '5yvxbborzc': 127, 'single': 2845, 'rss': 2672, 'fkjpsyu33k': 1114, 'asardar': 380, 'hzt7t4zk55': 1425, 'lg5jdbom4r': 1818, 'muhamma43035201': 2039, 'vkyshkjalv': 3256, 'bgp9u4u8q7': 499, 'ministry': 1991, 'opens': 2259, 'shubhnsh': 2830, 'agama': 274, 'call': 610, 'combined': 694, 'extent': 1048, 'mxdeyewygj': 2054, 'soch': 2865, 'trainees': 3105, 'generation': 1199, 'ઉદ': 3758, 'sounds': 2882, 'gztnmaytwz': 1284, 'i18wvyizxu': 1426, 'qxsyyn7yc7': 2518, 'malviya': 1912, 'agoiypnbca': 279, 'zak': 3457, 'नह': 3610, 'my': 2055, 'includin': 1483, 'iuucismwg6': 1557, 'suppo': 2956, 'kashmir': 1678, 'ಜರ': 3901, 'aditynath': 260, 'far': 1073, 'consultations': 727, 'wcblh3y4vs': 3301, 'requests': 2617, 'shekhargupta': 2814, 'isolated': 1544, 'రయ': 3879, 'suhas': 2952, 'xajmsitqz7': 3373, 'b6yh8bybqg': 426, 'uejsxxpxzd': 3155, 'jwmjre1knz': 1651, 'echo': 963, 'army': 371, 'withdrew': 3336, 'w0cjtoevkt': 3273, 'kro': 1750, 'z8uuyttykc': 3455, 'board': 553, 'kkew3hvgve': 1727, 'cartoon': 628, 'ehsan': 976, 'amitshah': 324, 'mkuu': 2006, 'bhoochaal': 512, 'nahin': 2074, 'નવ': 3786, 'preferred': 2412, 'forward': 1138, 'i7ccmieypk': 1432, 'osoqad2nzg': 2271, 'saudi': 2754, 'ऑफ': 3540, 'fwq2gxsmnp': 1167, 'honored': 1384, 'stzcdliwnf': 2948, 'उदघ': 3528, 'balkay': 447, 'awards': 416, 'ps1ef8wxiw': 2454, 'khan': 1699, 'yk5kkkrfr9': 3423, 'service': 2791, 'which': 3319, 'intelligent': 1515, 'झलक': 3578, 'guli': 1267, 'government': 1237, 'along': 307, 'responsible': 2628, 'muqabla': 2046, 'veer': 3224, 'situational': 2851, 'og7wvgr44l': 2235, 'itis': 1552, 'lost': 1859, 'vinay20686': 3242, 'other': 2273, 'promocode': 2442, 'india_nhrc': 1490, 's6wylgwk6s': 2698, '2vj5mxu7mw': 70, 'gujarats': 1263, 'কস': 3718, 'baar': 433, 'इस': 3525, 'wmd0ueyuly': 3343, 'f4ff1fymm3': 1056, 'నర': 3869, '2019': 46, 'आन': 3514, 'awr3hrsecy': 420, 'mamataofficial': 1914, 'c5mhmir6lw': 605, 'hamare': 1300, 'displays': 885, 'book': 559, 'target': 2996, 'qp1o580rcf': 2503, 'jobs': 1623, 'rterdogan_ar': 2674, 'at': 396, 'sur': 2961, 'constituted': 724, 'meet': 1959, 'convincing': 738, 'uttrakhand': 3194, 'coronavirus': 743, 'crown': 766, '5upjevayrb': 123, 'kuch': 1757, '50iboqrqdn': 108, 'inko': 1502, 'stalls': 2919, '8400': 164, 'exciting': 1036, 'anniversary': 341, 'well': 3309, 'true': 3121, 'smashing': 2858, 'vikuyw45bd': 3240, 'guess': 1258, 'xtkqk7a3hf': 3392, 'great': 1243, 'chikkamagalour': 660, 'continues': 734, 'kmfzsqu1jf': 1729, 'zltjqdr1yz': 3476, 'ogiaev74af': 2236, 'unity': 3171, 'optimism': 2263, 'biharwithnda': 523, '2o2reu7ect': 66, '0sypg4wlai': 11, 'y8yx7coli2': 3400, 'xm6ik61u0p': 3386, 'यह': 3653, 'final': 1105, 'hustings': 1416, 'think': 3045, 'शन': 3678, '3ikukv8prw': 84, 'be': 472, '9b0o6uk1pu': 185, 'smkbkwovpl': 2859, 'mo8tivuozc': 2011, 'fuk3aytq07': 1160, 'looks': 1856, 'investigation': 1526, 'dcr4obbw4g': 810, 'कत': 3545, 'bangladesh': 453, 'due': 936, 'slw6bvmedo': 2857, 'zciwqmcdbt': 3459, 'td4cylobwy': 3001, 'keshubhai': 1685, 'ahmedbilal_jk': 287, 'अम': 3501, 'കച': 3920, 'gmpy0w2kbi': 1225, 'vahi': 3212, 'profnoorul': 2434, 'paresan': 2304, 'omthereality': 2247, 'चर': 3565, 'रस': 3667, 'populer': 2392, 'govt': 1239, 'swetamishraa': 2971, 'nlcqtsfuss': 2162, 'amitava_bjp': 322, 'histotical': 1358, 'bjp4bengal': 539, 'civil': 673, 'kiskummis': 1723, 'kuuzyitfkr': 1761, 'bangali': 452, 'cooperative': 740, 'hailing': 1296, 'kutir': 1760, 'rashtriya': 2557, 'bada': 439, 'their': 3034, 'ashamed': 381, 'ரஸ': 3853, 'नर': 3606, 'omxnl75p8c': 2249, 'covid': 754, 'corridor': 744, 'niti': 2150, 'uvdq4fsp7x': 3198, 'jafri': 1574, 'caa': 607, 'deiveegank83': 827, 'attr': 405, '5nov': 119, 'iit': 1456, '9e1z6fzc9m': 190, 'sobgyhdfqg': 2864, 'lesson': 1810, 'एम': 3536, 'decision': 820, 'o8vdbbhfoe': 2210, 'minister': 1990, '31bkukxchp': 73, '5brmagsxuy': 112, 'dharamv40802811': 857, 'bin': 524, 'mitti': 1999, 'ahj35ontzu': 285, 'jh0ub15eoi': 1607, 'receive': 2586, 'nd5qbii1vu': 2108, 'रखत': 3655, 'javadekar': 1596, 'mdrarlyazl': 1954, 'shares': 2809, 'security': 2779, 'wadood': 3281, 'kind': 1717, 'beauty': 475, 'narendra': 2088, 'ru6rn3o5vg': 2675, 'super': 2955, 'bihare': 519, 'share': 2807, 'discove': 876, 'dive': 892, 'gujarat': 1262, 'up': 3179, 'యక': 3872, 'ti9ywh5wcl': 3064, 'yxecw2xciy': 3447, 'witnessed': 3338, 'soon': 2879, 'fiqggum8gy': 1109, 'આપણ': 3751, 'jungle': 1642, 'nirash': 2148, 'cxyqcb2fba': 782, 'huyi': 1417, 'thought': 3051, 'everything': 1029, 'tu': 3127, 'environment': 1001, 'iqjl2ojiio': 1530, 'లభ': 3883, '7l39cpuubd': 156, 'chaurasia': 654, 'beat': 473, 'mission': 1995, 'আজ': 3708, 'try': 3125, 'bhagawat': 501, 'vlpm0ptjpq': 3259, '3ivmpqk5bg': 85, '7iqfzqs3kf': 154, 'village': 3241, 'mjsjqobjgm': 2002, '5rw8ev0niw': 120, 'introduced': 1525, 'आग': 3508, '90jxkcxmer': 183, 'yocyg8t2yo': 3432, 'majestic': 1902, 'jgqudg9wma': 1606, 'word': 3350, 'me': 1955, 'q4zm4dnkcc': 2482, 'htkmeveaex': 1406, 'force': 1131, '5000': 106, 'workers': 3352, 'tere': 3015, 'zzvnyovvnq': 3493, 'zovmqimk4k': 3484, 'move': 2029, '2006': 42, 'stores': 2940, 'sweetest': 2970, 'controversial': 737, 'bjp': 538, 'nutritrain': 2200, 'agde8zlobl': 275, 'modihaitohjumlahai': 2016, 'ih3fj4xdhv': 1452, 'pmnarendramodi': 2377, 'lowest': 1863, 'idea': 1445, 'economic': 965, 'sath': 2750, 'states': 2929, 'i1nfxszf6l': 1427, 'auto': 413, 'friend': 1154, 'এক': 3713, 'w6rll8pahi': 3277, 'hospital': 1388, 'jiii': 1613, 'ivpfulg30y': 1561, 'નમ': 3783, 'purani': 2471, 'them': 3035, 'jdqdp37qsd': 1600, 'na': 2069, 'মদ': 3733, 'accorded': 238, 'conidet': 719, 'base': 460, '2002': 41, 'fcjcygtrgg': 1091, 'ruled': 2678, 'liked': 1829, 'maze': 1950, 'iam': 1436, 'banned': 457, 'akesaeeree': 300, 'বন': 3731, 'face': 1059, '5lzl0ql6q5': 118, 'theashwiniraj': 3031, 'કન': 3764, 'unseen': 3176, 'sarova': 2748, 'hunt': 1415, 'spiritofcongres': 2900, 'respect': 2625, 'protect': 2446, 'ihol6zryub': 1453, '8hjaelw6a2': 174, 'बबरश': 3630, 'lynched': 1874, 'polls': 2387, 'massacre': 1939, 'rallies': 2550, 'later': 1788, 'lol': 1853, 'nautanki': 2104, 'pan': 2297, 'dailystarnews': 793, 'actor': 250, 'u0qcdgfymb': 3149, 'arrives': 377, 'યશસ': 3797, 'rajatsharmalive': 2545, 'markedsafefrombjp': 1933, 'zqaqxbtpga': 3485, 'raksh': 2549, 'photo': 2341, 'prakashraaj': 2403, 'lagana': 1778, 'khanumarfa': 1704, 'eaqpwax4jj': 958, '31stoctoberis': 75, 'hae': 1293, 'adani': 254, 'nofn4zptdw': 2168, 'nsa': 2190, 'gotten': 1236, 'evmef5lq4u': 1032, 'speed': 2895, 'rdaiceecdz': 2569, 'd3lqr72u16': 787, 'கள': 3836, 'wdykrmnxe4': 3302, 'kritika': 1748, 'tajyqg5a1o': 2986, 'ગત': 3768, 'wheel': 3315, 'love': 1861, 'nj4cilwzay': 2155, 'mohan': 2020, '2ubaq05iaq': 68, 'application': 356, 'prophet': 2445, '400th': 90, 'trolls': 3120, 'solidarity': 2871, 'ground': 1251, 'tejasvi': 3007, 'uiy1azamjh': 3159, 'rohitr_92': 2659, '2hqnkz09jm': 61, 'lalu': 1780, 'inteljence': 1514, 'gujar': 1261, 'should': 2822, 'वल': 3676, 'kore': 1740, 'ganvifvge4': 1185, 'crore': 764, 'interaction': 1516, '23': 56, '0chvosliad': 5, 'stands': 2922, 'iafvcbthlm': 1435, 'o9xc7qzpig': 2212, 'samajneke': 2735, 'amp': 328, '2oy2j1gqeu': 67, 'inkv46czzg': 1503, 'mmu8adt8xz': 2009, 'গল': 3719, 'sachhe': 2708, 'imquasmi786': 1468, 'grade': 1242, 'authenticity': 411, 'japan': 1590, 'zyrcticz71': 3490, 'b7b8um4m4q': 427, 'x5yrddwzym': 3368, 'પક': 3787, 'is6d7kmoqb': 1534, 'shrestha': 2828, 'saath': 2701, 'nomh7mmhfo': 2170, 'anniversar': 340, 'thank': 3027, '28pqfszfaa': 59, 'boyfriend': 564, 'prime': 2418, 'ynbvtdjz22': 3429, 'among': 326, 'donald': 910, 'mgfwc2mdig': 1978, 'gb4mmq3u5x': 1192, 'એપન': 3760, 'anaemia': 331, 'despica': 838, 'lzanssfpbc': 1877, 'nytimes': 2208, 'हम': 3704, 'chaos': 651, 'couldn': 747, 'skta': 2855, 'crores': 765, 'afunbi0my8': 271, 'లత': 3882, 'xpefobpgwc': 3390, 'full': 1161, 'mm': 2007, 'points': 2380, 'paytm': 2324, 'baithi': 444, '7x6sxkpmxw': 162, 'surly': 2963, 'thewire_in': 3039, 'tope': 3088, 'dear': 816, 'कदम': 3546, 'tourist': 3096, 'road': 2655, 'रम': 3663, 'newsfirstlive': 2131, 'સમ': 3816, 'વન': 3805, 'colonel': 692, 'erupts': 1010, 'વરદ': 3808, 'చడ': 3864, 'rscowqpwj3': 2669, 'bahot': 442, 'howmany': 1396, 'csnyrga23z': 770, 'reaches': 2574, 'dynamic': 950, 'onqmpxjawq': 2253, 'xnf9e7jugm': 3388, 'priya35651919': 2423, 'se': 2772, 'leader': 1800, 'anshumansail': 346, 'आव': 3520, 'aggression': 277, 'could': 746, 'j235agkdxk': 1566, 'eshe': 1011, 'mgwkee7g8p': 1980, 'nxytms1oyh': 2205, 'nalayak': 2076, 'gwvua60i1b': 1273, 'bisa': 533, 'ab2sy0wcki': 224, 'blbmky45vg': 546, 'relentless': 2600, 'lkey8poiu0': 1847, 'livelawindia': 1841, 'despicable': 841, 'study': 2947, 'tried': 3116, 'lived': 1840, 'batithi': 463, 'vallabhbhai': 3214, 'hoy': 1397, 'dwgzeakuig': 947, 'integrating': 1513, 'kyvawh012h': 1767, 'q7eftvozdj': 2483, 'acres': 245, 'remembe': 2603, 'mo': 2010, 'fotu': 1139, 'ehcfa6jldc': 975, 'pra': 2398, 'law1leo': 1793, 'kapilmishra': 1667, 'harshu7773': 1313, 'garvhinduar': 1187, 'orzzu7ansb': 2269, 'हप': 3703, 'short': 2820, 'pu3r6dgusg': 2460, 'itdpvxejfm': 1547, 've': 3223, 'இர': 3827, 'feet': 1095, 'economy': 967, 'aur': 410, 'this': 3048, 'kulburgi': 1758, 'bas': 459, 'পর': 3730, 'अवश': 3504, 'happened': 1305, 'kevadi': 1690, 'jokihat': 1627, 'jumla': 1640, 'agw0l5ypsy': 282, '20rl1jcs9w': 52, 'touch': 3091, 'seen': 2784, 'badnaam': 441, 'r0oqdskl3v': 2522, 'concerned': 707, 'wanted': 3288, 'sirf': 2847, 'hilltvlive': 1349, 'aranganathan72': 365, 'france': 1147, 'mr': 2032, 'a_k1992in': 210, 'icici': 1442, 'groomed': 1250, 'mrdmes7xa8': 2033, 'myumsm9tgf': 2061, 'जन': 3571, 'dr': 921, 'dgx7wgmhbx': 851, 'popularly': 2390, 'grewal1nikita': 1249, 'honor': 1382, 'chama': 646, 'सम': 3692, 'dhaka': 855, 'nlcheatsheet': 2161, 'લન': 3803, 'vcljxswmqm': 3221, 'નર': 3784, '6sscaupbwk': 142, 'non': 2171, 'banana': 450, 'uhqvtqkydl': 3157, 'indoctrinated': 1499, 'iab9bb7hft': 1433, 'speaking': 2890, 'sabka': 2706, 'majority': 1905, 'nagpurkarajini': 2072, 'chahiye': 641, 'तत': 3588, 'zljzrthjyk': 3475, 'qt2a2hwq4q': 2508, 'war': 3290, 'republic_bharat': 2614, 'ql2rurvckl': 2500, 'aarogya': 220, 'strategy': 2942, 'ashu02123744': 384, 'line': 1833, 'vabr2o8afn': 3209, 'wj2hhs21de': 3339, '16le0kzcok': 26, 'displaying': 884, 'display': 882, 'claims': 679, 'hhelzijubc': 1345, 'hindu': 1353, 'হচ': 3743, 'നര': 3930, 'uni': 3168, 'रध': 3659, 'milad': 1984, 'sab': 2702, 'b1acfbclgr': 424, 'kyun': 1766, 'cvhlmitcve': 777, 'while': 3320, 'സര': 3936, 'team': 3003, 'sanoj_kv1987': 2741, 'manmohan': 1921, 'जल': 3574, 's444qsywo5': 2697, 'banglai': 454, 'bhosdi': 513, 'jin': 1615, 'left': 1807, 'th': 3022, 'પણ': 3789, 'સન': 3814, 'nitish': 2152, 'isn': 1543, 'shiromani': 2817, 'nehabhagat_jk': 2118, 'યમ': 3795, 'nphorgtmhw': 2186, 'noticed': 2179, 'cons': 721, 'du5wocxplb': 933, 'announced': 342, 'wrwvb0kffe': 3361, 'gmnswwxma2': 1224, 'r22e9i5zfe': 2524, 'got': 1235, 'unilaterally': 3169, 'shown': 2825, 'pvasanthibai': 2474, 'indi': 1488, 'handicrafts': 1302, 'mjzlodzput': 2003, '2ng0ht6oe4': 65, 'stinqnfnaq': 2935, 'gb9akuzlqd': 1193, 'joosunlee': 1630, 'serving': 2793, 'intermingling': 1519, 'nu': 2195, 'had': 1292, 'prayer': 2407, 'cruise': 768, 'anti': 348, 'lite': 1838, 'tarikere': 2997, 'effort': 972, 'cares': 627, 'sing': 2842, '3cqi73fjnj': 81, '1962': 30, 'கடல': 3832, 'high': 1347, '5g12vayamc': 115, '2014': 44, 'start': 2923, 'યર': 3796, 'now': 2183, 'loymachedo': 1864, 'ram': 2551, 'ko3goqxi8k': 1735, 'nht0lotofd': 2138, 'qvmhhmxyxs': 2517, 'आप': 3515, 'आकर': 3507, 'yet': 3415, 'gu': 1257, 'st8sqkhdkq': 2916, 'ઓફ': 3762, 'instead': 1510, 'bharatwashi1': 505, 'pl5ixs155w': 2356, 'karan': 1669, 'ratio': 2561, 'zz4h9f1ehe': 3491, 'ekta': 983, 'knows': 1733, 'hqu89wjkqt': 1399, 'dpyw6hmki8': 918, 'area': 367, 'sukhbir': 2954, 'family': 1070, 'ibw9uxj9iw': 1440, 'caste': 632, 'iiovtachy5': 1455, 'dhramhindu': 858, 'dpradhanbjp': 917, 'raghavan': 2535, 'vijaita': 3235, 'सफ': 3689, 'shot': 2821, 'ಏಕತ': 3898, 'dunxw8goow': 939, 'हत': 3701, 'f3ztbyjsmh': 1055, 'sonusood': 2878, 'near': 2114, 'e14w0r5fo9': 954, 'scams': 2766, 'arabia': 363, 'उद': 3527, '3entgwd4kf': 82, 'సర': 3886, 'min': 1987, 'rup_inc': 2682, 'नट': 3602, 'fascist': 1080, 'advantage': 265, 'dbxhpvwdoc': 807, 'an': 330, 'vasudha_et': 3219, 'd8gvohyvol': 789, 'ഹനത': 3937, 'educated': 969, 'pmoindia': 2378, 'better': 496, 'inaugur': 1473, 'then': 3036, 'vsi3f84nxo': 3267, 'contrition': 735, 'ஜர': 3840, 'જપ': 3772, 'उस': 3529, 'tp86ctssb8': 3098, 'छल': 3568, 'ohh': 2237, 'ಇದ': 3894, 'rupees': 2685, 'cmvnw1tvk4': 684, 'thursday': 3061, 'sri': 2906, 'programs': 2435, 'fzjfkcl6d6': 1172, 'foundation': 1141, 'checking': 656, 'xi': 3382, 'sardarpatel': 2745, 'sxliv60kxc': 2975, 'he': 1326, 'making': 1910, 'families': 1069, 'ncosidcydi': 2106, 'ycpjrutszp': 3406, 'zgpjcynov4': 3469, 'interested': 1517, 'said': 2726, 'story': 2941, 'apvfsrga7o': 360, 'vadkqjaxry': 3211, 'एकत': 3532, 'run': 2680, 'mc0flcaobk': 1951, 'top': 3087, 'baxwnyvza4': 466, 'rs': 2668, 'mere': 1971, 'mohammad': 2018, 'everytime': 1030, 'हनत': 3702, 'yiss6mt6uh': 3421, 'srf': 2905, 'housing': 1394, 'ranbir_crpf': 2554, 'harishd19574508': 1310, 's1jg94tnrx': 2694, 'எந': 3829, 'aapse': 219, 'key': 1694, 'snehasneha173': 2862, 'diverse': 893, 'talmznlctm': 2992, 'count': 748, 'd4bhr7cjq7': 788, 'garden': 1186, 'helping': 1337, 'did': 862, 'r5hizrq8j0': 2526, 'ektamall': 984, 'par': 2301, 'investors': 1529, 'paise': 2292, 'box8jvjykn': 562, 'indiafightscorona': 1494, 'krne': 1749, 'இந': 3825, 'muscatphoto': 2047, 'vishwaas': 3246, 'side': 2835, 'gaa0hpvllw': 1179, 'hlc': 1360, 'horrible': 1387, 'నమ': 3868, 'sa': 2699, 'cj_sachde': 674, 'वर': 3674, 'traitors': 3106, 'fwycuet0n3': 1168, 'fxoenbtwm8': 1169, 'i766qbrkxn': 1431, 'homage': 1374, 'hour': 1392, 'violence': 3244, '3aeqjpyvpu': 79, 'zlxckfzgnw': 3478, 'inaugurating': 1477, 'politicians': 2384}\n"
     ]
    }
   ],
   "source": [
    "# summarize\n",
    "\n",
    "print(vectorizer.vocabulary_)"
   ]
  },
  {
   "cell_type": "code",
   "execution_count": 19,
   "metadata": {},
   "outputs": [],
   "source": [
    "# encode document\n",
    "\n",
    "vector = vectorizer.transform(text)"
   ]
  },
  {
   "cell_type": "code",
   "execution_count": 20,
   "metadata": {},
   "outputs": [
    {
     "name": "stdout",
     "output_type": "stream",
     "text": [
      "(1000, 3938)\n"
     ]
    }
   ],
   "source": [
    "# summarize encoded vector\n",
    "\n",
    "print(vector.shape)"
   ]
  },
  {
   "cell_type": "code",
   "execution_count": 21,
   "metadata": {},
   "outputs": [
    {
     "name": "stdout",
     "output_type": "stream",
     "text": [
      "<class 'scipy.sparse.csr.csr_matrix'>\n"
     ]
    }
   ],
   "source": [
    "print(type(vector))"
   ]
  },
  {
   "cell_type": "code",
   "execution_count": 22,
   "metadata": {},
   "outputs": [
    {
     "name": "stdout",
     "output_type": "stream",
     "text": [
      "[[0 0 0 ... 0 0 0]\n",
      " [0 0 0 ... 0 0 0]\n",
      " [0 0 0 ... 0 0 0]\n",
      " ...\n",
      " [0 0 0 ... 0 0 0]\n",
      " [0 0 0 ... 0 0 0]\n",
      " [0 0 0 ... 0 0 0]]\n"
     ]
    }
   ],
   "source": [
    "print(vector.toarray())"
   ]
  },
  {
   "cell_type": "code",
   "execution_count": 23,
   "metadata": {},
   "outputs": [],
   "source": [
    "BoW_array = vector.toarray()"
   ]
  },
  {
   "cell_type": "code",
   "execution_count": 24,
   "metadata": {},
   "outputs": [
    {
     "data": {
      "text/plain": [
       "array([[0, 0, 0, ..., 0, 0, 0],\n",
       "       [0, 0, 0, ..., 0, 0, 0],\n",
       "       [0, 0, 0, ..., 0, 0, 0],\n",
       "       ...,\n",
       "       [0, 0, 0, ..., 0, 0, 0],\n",
       "       [0, 0, 0, ..., 0, 0, 0],\n",
       "       [0, 0, 0, ..., 0, 0, 0]])"
      ]
     },
     "execution_count": 24,
     "metadata": {},
     "output_type": "execute_result"
    }
   ],
   "source": [
    "BoW_array"
   ]
  },
  {
   "cell_type": "markdown",
   "metadata": {},
   "source": [
    "### TF-IDF Vector"
   ]
  },
  {
   "cell_type": "code",
   "execution_count": 25,
   "metadata": {},
   "outputs": [],
   "source": [
    "# tfidf vectorize\n",
    "\n",
    "from sklearn.feature_extraction.text import TfidfVectorizer"
   ]
  },
  {
   "cell_type": "code",
   "execution_count": 26,
   "metadata": {},
   "outputs": [],
   "source": [
    "tfidf_vectorizer = TfidfVectorizer()"
   ]
  },
  {
   "cell_type": "code",
   "execution_count": 27,
   "metadata": {},
   "outputs": [],
   "source": [
    "tfidf_vector = tfidf_vectorizer.fit_transform(text)"
   ]
  },
  {
   "cell_type": "code",
   "execution_count": 28,
   "metadata": {},
   "outputs": [
    {
     "data": {
      "text/plain": [
       "(1000, 3938)"
      ]
     },
     "execution_count": 28,
     "metadata": {},
     "output_type": "execute_result"
    }
   ],
   "source": [
    "tfidf_vector.shape"
   ]
  },
  {
   "cell_type": "code",
   "execution_count": 29,
   "metadata": {},
   "outputs": [],
   "source": [
    "tfidf_array = tfidf_vector.toarray()"
   ]
  },
  {
   "cell_type": "code",
   "execution_count": 30,
   "metadata": {},
   "outputs": [
    {
     "data": {
      "text/plain": [
       "array([[0., 0., 0., ..., 0., 0., 0.],\n",
       "       [0., 0., 0., ..., 0., 0., 0.],\n",
       "       [0., 0., 0., ..., 0., 0., 0.],\n",
       "       ...,\n",
       "       [0., 0., 0., ..., 0., 0., 0.],\n",
       "       [0., 0., 0., ..., 0., 0., 0.],\n",
       "       [0., 0., 0., ..., 0., 0., 0.]])"
      ]
     },
     "execution_count": 30,
     "metadata": {},
     "output_type": "execute_result"
    }
   ],
   "source": [
    "tfidf_array"
   ]
  },
  {
   "cell_type": "markdown",
   "metadata": {},
   "source": [
    "### Cosine Similarity"
   ]
  },
  {
   "cell_type": "code",
   "execution_count": 31,
   "metadata": {},
   "outputs": [],
   "source": [
    "from sklearn.metrics.pairwise import cosine_similarity"
   ]
  },
  {
   "cell_type": "code",
   "execution_count": 32,
   "metadata": {},
   "outputs": [],
   "source": [
    "# Cosine Similarity function\n",
    "\n",
    "def Cosine_Similarity(arr):\n",
    "    tweet_similarity = []\n",
    "\n",
    "    for i in range(len(arr)):\n",
    "        tweet_similarity_row = []\n",
    "        for j in range(len(arr)):\n",
    "            a = np.reshape(arr[i], (1, arr[i].size))\n",
    "            b = np.reshape(arr[j], (1, arr[j].size))\n",
    "            c = cosine_similarity(a,b)\n",
    "            tweet_similarity_row.append(c[0][0])\n",
    "        tweet_similarity.append(tweet_similarity_row) \n",
    "    return tweet_similarity"
   ]
  },
  {
   "cell_type": "code",
   "execution_count": 33,
   "metadata": {},
   "outputs": [],
   "source": [
    "# Call Cosine Similarity function for BoW vector\n",
    "\n",
    "BoW_similarity = Cosine_Similarity(BoW_array)"
   ]
  },
  {
   "cell_type": "code",
   "execution_count": 34,
   "metadata": {},
   "outputs": [
    {
     "data": {
      "text/plain": [
       "1000"
      ]
     },
     "execution_count": 34,
     "metadata": {},
     "output_type": "execute_result"
    }
   ],
   "source": [
    "len(BoW_similarity)"
   ]
  },
  {
   "cell_type": "code",
   "execution_count": 35,
   "metadata": {},
   "outputs": [
    {
     "data": {
      "text/plain": [
       "1000"
      ]
     },
     "execution_count": 35,
     "metadata": {},
     "output_type": "execute_result"
    }
   ],
   "source": [
    "len(BoW_similarity[0])"
   ]
  },
  {
   "cell_type": "code",
   "execution_count": 36,
   "metadata": {},
   "outputs": [],
   "source": [
    "# Find pair which are most similar and creating dataframe\n",
    "# excluding similarity of one tweet with itself\n",
    "# and considering the pair only once i.e checking (a, b) but not (b, a)\n",
    "\n",
    "def similar_pairs(similarity_array):\n",
    "    row_col_similarity = []\n",
    "\n",
    "    for i in range(len(similarity_array)):\n",
    "        for j in range(i, len(similarity_array)):\n",
    "            if i != j:\n",
    "                row_col_similarity.append([i, j, similarity_array[i][j]])\n",
    "    \n",
    "    # Create the pandas DataFrame \n",
    "    similarity_df = pd.DataFrame(row_col_similarity, columns = ['Tweet1 index', 'Tweet2 index', 'cosine similarity'])\n",
    "    return similarity_df"
   ]
  },
  {
   "cell_type": "code",
   "execution_count": 37,
   "metadata": {},
   "outputs": [],
   "source": [
    "# Call similarity pair for BoW_similarity\n",
    "\n",
    "BoW_similarity_df = similar_pairs(BoW_similarity)"
   ]
  },
  {
   "cell_type": "code",
   "execution_count": 38,
   "metadata": {},
   "outputs": [],
   "source": [
    "# Top 10 similar tweets\n",
    "\n",
    "top_10_BoW_df = BoW_similarity_df.nlargest(10, 'cosine similarity')"
   ]
  },
  {
   "cell_type": "code",
   "execution_count": 39,
   "metadata": {},
   "outputs": [
    {
     "data": {
      "text/html": [
       "<div>\n",
       "<style scoped>\n",
       "    .dataframe tbody tr th:only-of-type {\n",
       "        vertical-align: middle;\n",
       "    }\n",
       "\n",
       "    .dataframe tbody tr th {\n",
       "        vertical-align: top;\n",
       "    }\n",
       "\n",
       "    .dataframe thead th {\n",
       "        text-align: right;\n",
       "    }\n",
       "</style>\n",
       "<table border=\"1\" class=\"dataframe\">\n",
       "  <thead>\n",
       "    <tr style=\"text-align: right;\">\n",
       "      <th></th>\n",
       "      <th>Tweet1 index</th>\n",
       "      <th>Tweet2 index</th>\n",
       "      <th>cosine similarity</th>\n",
       "    </tr>\n",
       "  </thead>\n",
       "  <tbody>\n",
       "    <tr>\n",
       "      <th>0</th>\n",
       "      <td>65</td>\n",
       "      <td>67</td>\n",
       "      <td>1.000000</td>\n",
       "    </tr>\n",
       "    <tr>\n",
       "      <th>1</th>\n",
       "      <td>206</td>\n",
       "      <td>212</td>\n",
       "      <td>1.000000</td>\n",
       "    </tr>\n",
       "    <tr>\n",
       "      <th>2</th>\n",
       "      <td>493</td>\n",
       "      <td>494</td>\n",
       "      <td>1.000000</td>\n",
       "    </tr>\n",
       "    <tr>\n",
       "      <th>3</th>\n",
       "      <td>293</td>\n",
       "      <td>849</td>\n",
       "      <td>0.971429</td>\n",
       "    </tr>\n",
       "    <tr>\n",
       "      <th>4</th>\n",
       "      <td>20</td>\n",
       "      <td>22</td>\n",
       "      <td>0.961538</td>\n",
       "    </tr>\n",
       "    <tr>\n",
       "      <th>5</th>\n",
       "      <td>20</td>\n",
       "      <td>23</td>\n",
       "      <td>0.961538</td>\n",
       "    </tr>\n",
       "    <tr>\n",
       "      <th>6</th>\n",
       "      <td>22</td>\n",
       "      <td>23</td>\n",
       "      <td>0.961538</td>\n",
       "    </tr>\n",
       "    <tr>\n",
       "      <th>7</th>\n",
       "      <td>96</td>\n",
       "      <td>137</td>\n",
       "      <td>0.960000</td>\n",
       "    </tr>\n",
       "    <tr>\n",
       "      <th>8</th>\n",
       "      <td>902</td>\n",
       "      <td>914</td>\n",
       "      <td>0.958333</td>\n",
       "    </tr>\n",
       "    <tr>\n",
       "      <th>9</th>\n",
       "      <td>201</td>\n",
       "      <td>203</td>\n",
       "      <td>0.958333</td>\n",
       "    </tr>\n",
       "  </tbody>\n",
       "</table>\n",
       "</div>"
      ],
      "text/plain": [
       "   Tweet1 index  Tweet2 index  cosine similarity\n",
       "0            65            67           1.000000\n",
       "1           206           212           1.000000\n",
       "2           493           494           1.000000\n",
       "3           293           849           0.971429\n",
       "4            20            22           0.961538\n",
       "5            20            23           0.961538\n",
       "6            22            23           0.961538\n",
       "7            96           137           0.960000\n",
       "8           902           914           0.958333\n",
       "9           201           203           0.958333"
      ]
     },
     "execution_count": 39,
     "metadata": {},
     "output_type": "execute_result"
    }
   ],
   "source": [
    "top_10_BoW_df.reset_index(drop=True)"
   ]
  },
  {
   "cell_type": "code",
   "execution_count": 40,
   "metadata": {},
   "outputs": [
    {
     "data": {
      "text/plain": [
       "'Nitish Kumar will talk about Tejaswi’s family. Narendra Modi will talk about my family. But neither of them will ta… https://t.co/DqkLkok9Gn'"
      ]
     },
     "execution_count": 40,
     "metadata": {},
     "output_type": "execute_result"
    }
   ],
   "source": [
    "df.iloc[398, 1]"
   ]
  },
  {
   "cell_type": "markdown",
   "metadata": {},
   "source": [
    "## Similar tweets pair using BoW"
   ]
  },
  {
   "cell_type": "code",
   "execution_count": 41,
   "metadata": {},
   "outputs": [],
   "source": [
    "# Print top 10 similar tweet pairs\n",
    "\n",
    "def print_tweet_pairs(top_10_df):\n",
    "    for i in range(len(top_10_df)):\n",
    "        print(\"\\nTweet pair \", i+1)\n",
    "        t1 = top_10_df.iloc[i, 0] # Tweet1 index in ith row\n",
    "        t2 = top_10_df.iloc[i, 1] # Tweet2 index in ith row\n",
    "        print(\"Tweet1\")\n",
    "        print(df.iloc[t1, 1]) # text at t1 index in df\n",
    "        print(\"Tweet2\")\n",
    "        print(df.iloc[t2, 1]) # text at t2 index in df\n",
    "        print(\"\\n************************************************************\")"
   ]
  },
  {
   "cell_type": "code",
   "execution_count": 42,
   "metadata": {},
   "outputs": [
    {
     "name": "stdout",
     "output_type": "stream",
     "text": [
      "\n",
      "Tweet pair  1\n",
      "Tweet1\n",
      "@Ranbir_Crpf Ssc Gd me sabhi 85k Conidet ka Final Merit Banana Chaiye Ye Manyavar Narendra Modi G se Vinti h.\n",
      "Tweet2\n",
      "@Ranbir_Crpf Ssc Gd me sabhi 85k Conidet ka Final Merit Banana Chaiye, Ye Manyavar Narendra Modi G se Vinti h.\n",
      "\n",
      "************************************************************\n",
      "\n",
      "Tweet pair  2\n",
      "Tweet1\n",
      "Narendra modi\n",
      "Tweet2\n",
      "Narendra Modi\n",
      "\n",
      "************************************************************\n",
      "\n",
      "Tweet pair  3\n",
      "Tweet1\n",
      "PM Shri Narendra Modi launches Kevadia App.\n",
      "Tweet2\n",
      "PM Shri Narendra Modi launches Kevadia App.\n",
      "\n",
      "************************************************************\n",
      "\n",
      "Tweet pair  4\n",
      "Tweet1\n",
      "Keshubhai Patel, the BJP stalwart who not only helped lay the foundation of the party but also mentored the likes o… https://t.co/B9CdsagLOM\n",
      "Tweet2\n",
      "Keshubhai Patel, the BJP stalwart who not only helped lay the foundation of the party but also mentored the likes P… https://t.co/uw35bHPeks\n",
      "\n",
      "************************************************************\n",
      "\n",
      "Tweet pair  5\n",
      "Tweet1\n",
      "Indian Prime Minister Narendra Modi says he condemns the massacre in a church in France. Regarding this, he said on… https://t.co/agUV66KL4F\n",
      "Tweet2\n",
      "Indian Prime Minister Narendra Modi says he condemns the massacre in a church in France. Regarding this, he said on… https://t.co/BpiDE3nxed\n",
      "\n",
      "************************************************************\n",
      "\n",
      "Tweet pair  6\n",
      "Tweet1\n",
      "Indian Prime Minister Narendra Modi says he condemns the massacre in a church in France. Regarding this, he said on… https://t.co/agUV66KL4F\n",
      "Tweet2\n",
      "Indian Prime Minister Narendra Modi says he condemns the massacre in a church in France. Regarding this, he said on… https://t.co/FUk3aYtQ07\n",
      "\n",
      "************************************************************\n",
      "\n",
      "Tweet pair  7\n",
      "Tweet1\n",
      "Indian Prime Minister Narendra Modi says he condemns the massacre in a church in France. Regarding this, he said on… https://t.co/BpiDE3nxed\n",
      "Tweet2\n",
      "Indian Prime Minister Narendra Modi says he condemns the massacre in a church in France. Regarding this, he said on… https://t.co/FUk3aYtQ07\n",
      "\n",
      "************************************************************\n",
      "\n",
      "Tweet pair  8\n",
      "Tweet1\n",
      "Glimpses from the Cactus Garden, which was inaugurated by PM Narendra Modi.The Sardar Sarovar Dam can also be seen.… https://t.co/8ByPoIhh0J\n",
      "Tweet2\n",
      "Glimpses from the Cactus Garden, which was inaugurated by PM Narendra Modi. The Sardar Sarovar Dam can also be seen. https://t.co/uvC7dePwU5\n",
      "\n",
      "************************************************************\n",
      "\n",
      "Tweet pair  9\n",
      "Tweet1\n",
      "India Inc captains echo PM Narendra Modi’s optimism on economic recovery\n",
      "https://t.co/uufTcR2zjL\n",
      "\n",
      "via NaMo App https://t.co/04Zy84bxb5\n",
      "Tweet2\n",
      "India Inc captains echo PM Narendra Modi’s optimism on economic recovery\n",
      "https://t.co/uufTcR2zjL\n",
      "\n",
      "via NaMo App https://t.co/ONQMPXJaWQ\n",
      "\n",
      "************************************************************\n",
      "\n",
      "Tweet pair  10\n",
      "Tweet1\n",
      "The Children Nutrition Park in Kevadia is a creative effort to spread awareness on aspects relating to nutrition. O… https://t.co/Gdf7S0hIx0\n",
      "Tweet2\n",
      "The Children Nutrition Park in Kevadia is a creative effort to spread awareness on aspects relating to nutrition. O… https://t.co/ZnzljyRovP\n",
      "\n",
      "************************************************************\n"
     ]
    }
   ],
   "source": [
    "print_tweet_pairs(top_10_BoW_df)"
   ]
  },
  {
   "cell_type": "markdown",
   "metadata": {},
   "source": [
    "## Similar tweets pair using TF-IDF\n"
   ]
  },
  {
   "cell_type": "code",
   "execution_count": 43,
   "metadata": {},
   "outputs": [
    {
     "name": "stdout",
     "output_type": "stream",
     "text": [
      "\n",
      "Tweet pair  1\n",
      "Tweet1\n",
      "Narendra modi\n",
      "Tweet2\n",
      "Narendra Modi\n",
      "\n",
      "************************************************************\n",
      "\n",
      "Tweet pair  2\n",
      "Tweet1\n",
      "@Ranbir_Crpf Ssc Gd me sabhi 85k Conidet ka Final Merit Banana Chaiye Ye Manyavar Narendra Modi G se Vinti h.\n",
      "Tweet2\n",
      "@Ranbir_Crpf Ssc Gd me sabhi 85k Conidet ka Final Merit Banana Chaiye, Ye Manyavar Narendra Modi G se Vinti h.\n",
      "\n",
      "************************************************************\n",
      "\n",
      "Tweet pair  3\n",
      "Tweet1\n",
      "PM Shri Narendra Modi launches Kevadia App.\n",
      "Tweet2\n",
      "PM Shri Narendra Modi launches Kevadia App.\n",
      "\n",
      "************************************************************\n",
      "\n",
      "Tweet pair  4\n",
      "Tweet1\n",
      "Please use the promocode \"Narendra Modi\" to receive 56% extra Jumla while receiving ₹15 lakh.\n",
      "\n",
      "PS: This is yet anot… https://t.co/FUxr4OMT54\n",
      "Tweet2\n",
      "Please use the promocode \"Narendra Modi\" to receive 56% extra Jumla while receiving ₹15 lakh.\n",
      "\n",
      "PS: This is yet anot… https://t.co/3IKUkV8prw\n",
      "\n",
      "************************************************************\n",
      "\n",
      "Tweet pair  5\n",
      "Tweet1\n",
      "প্রধানমন্ত্রী মোদী বলেন, ২৮ হাজার কোল্ড চেইন পয়েন্ট সংরক্ষিত হচ্ছে। আর সেই পয়েন্টের সূত্র ধরেই কোভিড ভ্যাকসিন বিত… https://t.co/DBxhPVWDoC\n",
      "Tweet2\n",
      "প্রধানমন্ত্রী মোদী বলেন, ২৮ হাজার কোল্ড চেইন পয়েন্ট সংরক্ষিত হচ্ছে। আর সেই পয়েন্টের সূত্র ধরেই কোভিড ভ্যাকসিন বিত… https://t.co/UlTqNa7CT8\n",
      "\n",
      "************************************************************\n",
      "\n",
      "Tweet pair  6\n",
      "Tweet1\n",
      "Keshubhai Patel, the BJP stalwart who not only helped lay the foundation of the party but also mentored the likes o… https://t.co/B9CdsagLOM\n",
      "Tweet2\n",
      "Keshubhai Patel, the BJP stalwart who not only helped lay the foundation of the party but also mentored the likes P… https://t.co/uw35bHPeks\n",
      "\n",
      "************************************************************\n",
      "\n",
      "Tweet pair  7\n",
      "Tweet1\n",
      "আজ ২ দিনের জন্য গুজরাত সফরে যাচ্ছেন প্রধানমন্ত্রী মোদী; স্ট্যাচু অফ ইউনিটি পরিদর্শন ও সি-প্লেনের উদ্বোধন করবেন… https://t.co/5XfkG20VIO\n",
      "Tweet2\n",
      "আজ ২ দিনের জন্য গুজরাত সফরে যাচ্ছেন প্রধানমন্ত্রী মোদী; স্ট্যাচু অফ ইউনিটি পরিদর্শন ও সি-প্লেনের উদ্বোধন করবেন… https://t.co/fY0BShSRfm\n",
      "\n",
      "************************************************************\n",
      "\n",
      "Tweet pair  8\n",
      "Tweet1\n",
      "Shiromani Akali Dal President Sukhbir Singh Badal writes to PM Narendra Modi to \"intervene &amp; direct the Lands Port… https://t.co/5260c4JvqB\n",
      "Tweet2\n",
      "Shiromani Akali Dal President Sukhbir Singh Badal writes to PM Narendra Modi to \"intervene &amp; direct the Lands Port… https://t.co/OP4WqAG4n7\n",
      "\n",
      "************************************************************\n",
      "\n",
      "Tweet pair  9\n",
      "Tweet1\n",
      "Shiromani Akali Dal President Sukhbir Singh Badal writes to PM Narendra Modi to \"intervene &amp; direct the Lands Port… https://t.co/5260c4JvqB\n",
      "Tweet2\n",
      "Shiromani Akali Dal President Sukhbir Singh Badal writes to PM Narendra Modi to \"intervene &amp; direct the Lands Port… https://t.co/shBYwGy4ql\n",
      "\n",
      "************************************************************\n",
      "\n",
      "Tweet pair  10\n",
      "Tweet1\n",
      "Shiromani Akali Dal President Sukhbir Singh Badal writes to PM Narendra Modi to \"intervene &amp; direct the Lands Port… https://t.co/OP4WqAG4n7\n",
      "Tweet2\n",
      "Shiromani Akali Dal President Sukhbir Singh Badal writes to PM Narendra Modi to \"intervene &amp; direct the Lands Port… https://t.co/shBYwGy4ql\n",
      "\n",
      "************************************************************\n"
     ]
    }
   ],
   "source": [
    "tfidf_similarity = cosine_similarity(tfidf_array)\n",
    "tfidf_similarity_df = similar_pairs(tfidf_similarity)\n",
    "top_10_tfidf_df = tfidf_similarity_df.nlargest(10, 'cosine similarity')\n",
    "top_10_tfidf_df.reset_index(drop=True)\n",
    "print_tweet_pairs(top_10_tfidf_df)"
   ]
  },
  {
   "cell_type": "markdown",
   "metadata": {},
   "source": [
    "### Find out unique users (N) who have posted these 1000 tweets. (N <= 1000) U1, u2, ….., uN"
   ]
  },
  {
   "cell_type": "code",
   "execution_count": 21,
   "metadata": {},
   "outputs": [
    {
     "data": {
      "text/html": [
       "<div>\n",
       "<style scoped>\n",
       "    .dataframe tbody tr th:only-of-type {\n",
       "        vertical-align: middle;\n",
       "    }\n",
       "\n",
       "    .dataframe tbody tr th {\n",
       "        vertical-align: top;\n",
       "    }\n",
       "\n",
       "    .dataframe thead th {\n",
       "        text-align: right;\n",
       "    }\n",
       "</style>\n",
       "<table border=\"1\" class=\"dataframe\">\n",
       "  <thead>\n",
       "    <tr style=\"text-align: right;\">\n",
       "      <th></th>\n",
       "      <th>tweet_id</th>\n",
       "      <th>creator_id</th>\n",
       "      <th>creator_followers</th>\n",
       "      <th>creator_friends</th>\n",
       "    </tr>\n",
       "  </thead>\n",
       "  <tbody>\n",
       "    <tr>\n",
       "      <th>count</th>\n",
       "      <td>5.460000e+02</td>\n",
       "      <td>5.460000e+02</td>\n",
       "      <td>546.000000</td>\n",
       "      <td>546.000000</td>\n",
       "    </tr>\n",
       "    <tr>\n",
       "      <th>mean</th>\n",
       "      <td>1.322188e+18</td>\n",
       "      <td>8.128704e+17</td>\n",
       "      <td>139.498168</td>\n",
       "      <td>229.862637</td>\n",
       "    </tr>\n",
       "    <tr>\n",
       "      <th>std</th>\n",
       "      <td>3.916222e+13</td>\n",
       "      <td>5.472017e+17</td>\n",
       "      <td>197.454798</td>\n",
       "      <td>247.084715</td>\n",
       "    </tr>\n",
       "    <tr>\n",
       "      <th>min</th>\n",
       "      <td>1.322126e+18</td>\n",
       "      <td>3.140897e+07</td>\n",
       "      <td>0.000000</td>\n",
       "      <td>0.000000</td>\n",
       "    </tr>\n",
       "    <tr>\n",
       "      <th>25%</th>\n",
       "      <td>1.322159e+18</td>\n",
       "      <td>3.330192e+09</td>\n",
       "      <td>7.000000</td>\n",
       "      <td>42.250000</td>\n",
       "    </tr>\n",
       "    <tr>\n",
       "      <th>50%</th>\n",
       "      <td>1.322186e+18</td>\n",
       "      <td>1.069470e+18</td>\n",
       "      <td>50.000000</td>\n",
       "      <td>119.000000</td>\n",
       "    </tr>\n",
       "    <tr>\n",
       "      <th>75%</th>\n",
       "      <td>1.322214e+18</td>\n",
       "      <td>1.279720e+18</td>\n",
       "      <td>190.000000</td>\n",
       "      <td>336.250000</td>\n",
       "    </tr>\n",
       "    <tr>\n",
       "      <th>max</th>\n",
       "      <td>1.322296e+18</td>\n",
       "      <td>1.322239e+18</td>\n",
       "      <td>996.000000</td>\n",
       "      <td>999.000000</td>\n",
       "    </tr>\n",
       "  </tbody>\n",
       "</table>\n",
       "</div>"
      ],
      "text/plain": [
       "           tweet_id    creator_id  creator_followers  creator_friends\n",
       "count  5.460000e+02  5.460000e+02         546.000000       546.000000\n",
       "mean   1.322188e+18  8.128704e+17         139.498168       229.862637\n",
       "std    3.916222e+13  5.472017e+17         197.454798       247.084715\n",
       "min    1.322126e+18  3.140897e+07           0.000000         0.000000\n",
       "25%    1.322159e+18  3.330192e+09           7.000000        42.250000\n",
       "50%    1.322186e+18  1.069470e+18          50.000000       119.000000\n",
       "75%    1.322214e+18  1.279720e+18         190.000000       336.250000\n",
       "max    1.322296e+18  1.322239e+18         996.000000       999.000000"
      ]
     },
     "execution_count": 21,
     "metadata": {},
     "output_type": "execute_result"
    }
   ],
   "source": [
    "# Unique users with followers/friends atmost 1000 (<= 1000)\n",
    "\n",
    "df_user = df[(df['creator_followers'] <= 1000) & (df['creator_friends'] <= 1000)]\n",
    "df_user.describe()"
   ]
  },
  {
   "cell_type": "code",
   "execution_count": 22,
   "metadata": {},
   "outputs": [
    {
     "data": {
      "text/plain": [
       "20"
      ]
     },
     "execution_count": 22,
     "metadata": {},
     "output_type": "execute_result"
    }
   ],
   "source": [
    "unique_creators = df_user.created_by.unique()\n",
    "unique_creators = list(unique_creators)\n",
    "len(unique_creators)\n",
    "len(unique_creators[:20])\n"
   ]
  },
  {
   "cell_type": "code",
   "execution_count": 10,
   "metadata": {},
   "outputs": [],
   "source": [
    "\n",
    "followers = []\n",
    "user1 = tweepy.Cursor(api.followers, 'beckylynch81', count=200).items()\n",
    "for follower in user1:\n",
    "    followers.append(follower.screen_name)\n",
    "        \n",
    "friends = []\n",
    "user2 = tweepy.Cursor(api.friends, 'A_K1992in', count=200).items()\n",
    "for friend in user2:\n",
    "    friends.append(friend.screen_name)"
   ]
  },
  {
   "cell_type": "code",
   "execution_count": 27,
   "metadata": {},
   "outputs": [],
   "source": [
    "def limit_handled(cursor, list_name):\n",
    "    while True:\n",
    "        try:\n",
    "            yield cursor.next()\n",
    "        # Catch Twitter API rate limit exception and wait for 15 minutes\n",
    "        except tweepy.RateLimitError:\n",
    "            print(\"Data points in list = {}\".format(len(list_name)))\n",
    "            print(\"Hit Twitter API rate limit.\")\n",
    "            for i in range(3, 0, -1):\n",
    "                print(\"Wait for {} mins.\".format(i*5))\n",
    "                time.sleep(5*60)\n",
    "        # Catch any other Twitter API exceptions\n",
    "        except tweepy.error.TweepError:\n",
    "            print('\\nCaught TweepError exception')"
   ]
  },
  {
   "cell_type": "code",
   "execution_count": null,
   "metadata": {},
   "outputs": [],
   "source": [
    "# Create a list of followers and friends of these unique creators\n",
    "\n",
    "user_list = []\n",
    "\n",
    "for user in unique_creators:\n",
    "    ff_list = []\n",
    "    followers = []\n",
    "    for follower in limit_handled(tweepy.Cursor(api.followers, screen_name=user, count=1000).items(), user_list):\n",
    "        followers.append(follower.screen_name)\n",
    "    \n",
    "    friends = []\n",
    "    for friend in limit_handled(tweepy.Cursor(api.friends, screen_name=user, count=1000).items(), user_list):\n",
    "        friends.append(friend.screen_name)    \n",
    "        \n",
    "    ff_list = [followers, friends]\n",
    "    user_list.append(ff_list)"
   ]
  },
  {
   "cell_type": "markdown",
   "metadata": {},
   "source": [
    "### Create Network Graph using NetworkX\n",
    "\n",
    "Followers and followees are also users, so create a follower-followee directed graph among them, G. (ui → uj) iff ui is followed by uj"
   ]
  },
  {
   "cell_type": "code",
   "execution_count": null,
   "metadata": {},
   "outputs": [],
   "source": [
    "#!pip install networkx\n",
    "\n",
    "import networkx as nx\n",
    "import matplotlib.pyplot as plt"
   ]
  },
  {
   "cell_type": "code",
   "execution_count": null,
   "metadata": {},
   "outputs": [],
   "source": [
    "# Instantiate Graph object (Directed graph)\n",
    "\n",
    "g = nx.DiGraph()"
   ]
  },
  {
   "cell_type": "code",
   "execution_count": null,
   "metadata": {},
   "outputs": [],
   "source": [
    "for i in range(len(user_list)):\n",
    "    for j in range(len(user_list[i][0])): # For followers\n",
    "        g.add_edge(unique_creators[i], user_list[i][0][j])\n",
    "    \n",
    "    for k in range(len(user_list[i][1])): # For friends\n",
    "        g.add_edge(user_list[i][1][k], unique_creators[i])"
   ]
  },
  {
   "cell_type": "code",
   "execution_count": null,
   "metadata": {},
   "outputs": [],
   "source": [
    "# Draw Graph\n",
    "\n",
    "nx.draw(g)"
   ]
  },
  {
   "cell_type": "code",
   "execution_count": null,
   "metadata": {},
   "outputs": [],
   "source": []
  },
  {
   "cell_type": "code",
   "execution_count": null,
   "metadata": {},
   "outputs": [],
   "source": []
  },
  {
   "cell_type": "code",
   "execution_count": null,
   "metadata": {},
   "outputs": [],
   "source": []
  }
 ],
 "metadata": {
  "kernelspec": {
   "display_name": "Python 3",
   "language": "python",
   "name": "python3"
  },
  "language_info": {
   "codemirror_mode": {
    "name": "ipython",
    "version": 3
   },
   "file_extension": ".py",
   "mimetype": "text/x-python",
   "name": "python",
   "nbconvert_exporter": "python",
   "pygments_lexer": "ipython3",
   "version": "3.5.2"
  }
 },
 "nbformat": 4,
 "nbformat_minor": 4
}
