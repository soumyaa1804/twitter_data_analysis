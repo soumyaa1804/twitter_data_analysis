{
 "cells": [
  {
   "cell_type": "markdown",
   "metadata": {},
   "source": [
    "# Network Analysis \n",
    "\n",
    "### Problem:\n",
    "\n",
    "1. Use Twitter API to collect 1000 tweets in which keyword ‘narendra modi’ appears, save the collected tweets in nm.txt\n",
    "\n",
    "2. Convert the collected tweets into BoW vectors and find cosine similarity of a pair of tweets and print the top-10 most similar tweet pairs, print these pairs\n",
    "\n",
    "3. Do the same using TF-IDF vectors\n",
    "\n",
    "4. Find out unique users (N) who have posted these 1000 tweets. (N <= 1000)\n",
    "    U1, u2, ….., uN\n",
    "5. Find the followers and followee of each user from the N users obtained before\n",
    "    * u1 - [followers list] [followee list]\n",
    "    * u2 - [followers list] [followee list]\n",
    "    * .\n",
    "    * .\n",
    "    * uN - [followers list] [followee list]\n",
    "6. Followers and followees are also users, so create a follower-followee directed graph among them, G. (ui → uj) iff ui is followed by uj\n",
    "7. Find popular users in this G based on \n",
    "    * Degree centrality\n",
    "    * Betweeness centrality\n",
    "    * Closeness centrality\n"
   ]
  },
  {
   "cell_type": "markdown",
   "metadata": {},
   "source": [
    "---"
   ]
  },
  {
   "cell_type": "markdown",
   "metadata": {},
   "source": [
    "**Step 1** Use Twitter API to collect 1000 tweets in which keyword ‘narendra modi’ appears, save the collected tweets in nm.txt"
   ]
  },
  {
   "cell_type": "code",
   "execution_count": 1,
   "metadata": {},
   "outputs": [],
   "source": [
    "# import libraries\n",
    "\n",
    "import tweepy\n",
    "import json\n",
    "import csv\n",
    "import pandas as pd\n",
    "import numpy as np\n",
    "import time"
   ]
  },
  {
   "cell_type": "code",
   "execution_count": 2,
   "metadata": {},
   "outputs": [],
   "source": [
    "# Twitter API Credentials\n",
    "\n",
    "from secrets import *"
   ]
  },
  {
   "cell_type": "code",
   "execution_count": 3,
   "metadata": {},
   "outputs": [],
   "source": [
    "# Stablish connection with API\n",
    "\n",
    "auth = tweepy.OAuthHandler(consumer_key, consumer_secret)\n",
    "auth.set_access_token(access_token, access_token_secret)\n",
    "api = tweepy.API(auth, wait_on_rate_limit=True)"
   ]
  },
  {
   "cell_type": "code",
   "execution_count": 4,
   "metadata": {},
   "outputs": [],
   "source": [
    "# Location to store data\n",
    "\n",
    "data_path = './data/'"
   ]
  },
  {
   "cell_type": "code",
   "execution_count": 5,
   "metadata": {},
   "outputs": [],
   "source": [
    "# function for searching keyword \n",
    "# Attr: search words: word to be searched\n",
    "#       no_of_tweets: no. of tweets to be fetched\n",
    "# Ignore retweets\n",
    "\n",
    "def search_tweets_by_keywords(search_words='narendra modi', max_tweets=1000):\n",
    "    search_words = search_words + \"-filter:retweets\"\n",
    "    search_tweets = tweepy.Cursor(api.search,\n",
    "                  q=search_words).items(max_tweets)\n",
    "    return search_tweets"
   ]
  },
  {
   "cell_type": "code",
   "execution_count": 6,
   "metadata": {},
   "outputs": [],
   "source": [
    "# Saving the tweets as a text file for future reference\n",
    "# creating a dataframe and converting it to a csv file\n",
    "\n",
    "def save_tweets_to_text_file(search_tweets, file_name):\n",
    "    my_list_of_dicts = []\n",
    "    for each_json_tweet in search_tweets:\n",
    "        my_list_of_dicts.append(each_json_tweet._json)\n",
    "        \n",
    "    with open(data_path + file_name + '.txt', 'w') as file:\n",
    "        file.write(json.dumps(my_list_of_dicts, indent=4))             "
   ]
  },
  {
   "cell_type": "code",
   "execution_count": 7,
   "metadata": {},
   "outputs": [],
   "source": [
    "# save id, text, creator's id and creator's name of the tweets\n",
    "# from text file and create a dataframe and save it in CSV format\n",
    "\n",
    "def save_required_data_from_txt_to_csv(file_name):\n",
    "    my_demo_list = []\n",
    "    with open(data_path + file_name + '.txt', encoding='utf-8') as json_file:\n",
    "        all_data = json.load(json_file)\n",
    "        for each_dictionary in all_data:\n",
    "            tweet_id = each_dictionary['id'] # can also use id_str attr\n",
    "            text = each_dictionary['text']\n",
    "            creator_id = each_dictionary['user']['id']\n",
    "            created_by = each_dictionary['user']['screen_name']\n",
    "            creator_followers_count = each_dictionary['user']['followers_count']\n",
    "            creator_friends_count = each_dictionary['user']['friends_count']\n",
    "            \n",
    "\n",
    "            my_demo_list.append({'tweet_id': str(tweet_id),\n",
    "                             'text': str(text),\n",
    "                             'creator_id': str(creator_id),\n",
    "                             'created_by': str(created_by),\n",
    "                             'creator_followers': creator_followers_count,\n",
    "                             'creator_friends': creator_friends_count,\n",
    "                            })    \n",
    "        \n",
    "            tweet_dataset = pd.DataFrame(my_demo_list, columns = ['tweet_id', 'text', \n",
    "                                       'creator_id', 'created_by', 'creator_followers', 'creator_friends'])\n",
    "            \n",
    "    # Writing tweet dataset to csv file for future reference\n",
    "    tweet_dataset.to_csv(data_path + file_name + '.csv', index=False)  "
   ]
  },
  {
   "cell_type": "code",
   "execution_count": 8,
   "metadata": {},
   "outputs": [],
   "source": [
    "# Collect 1000 tweets with keyword 'narendra modi'\n",
    "\n",
    "tweets = search_tweets_by_keywords()"
   ]
  },
  {
   "cell_type": "code",
   "execution_count": 9,
   "metadata": {},
   "outputs": [],
   "source": [
    "# save the tweets in nm.txt file and create dataframe from it\n",
    "\n",
    "save_tweets_to_text_file(tweets, 'nm')"
   ]
  },
  {
   "cell_type": "code",
   "execution_count": 10,
   "metadata": {},
   "outputs": [],
   "source": [
    "# Create CSV of required data\n",
    "\n",
    "save_required_data_from_txt_to_csv('nm')"
   ]
  },
  {
   "cell_type": "markdown",
   "metadata": {},
   "source": [
    "---"
   ]
  },
  {
   "cell_type": "markdown",
   "metadata": {},
   "source": [
    "**Step 2** Convert the collected tweets into BoW vectors and find cosine similarity of a pair of tweets and print the top-10 most similar tweet pairs, print these pairs"
   ]
  },
  {
   "cell_type": "code",
   "execution_count": 11,
   "metadata": {},
   "outputs": [],
   "source": [
    "# Read from CSV\n",
    "\n",
    "df = pd.read_csv(data_path + 'nm.csv')"
   ]
  },
  {
   "cell_type": "code",
   "execution_count": 12,
   "metadata": {
    "scrolled": true
   },
   "outputs": [
    {
     "data": {
      "text/html": [
       "<div>\n",
       "<style scoped>\n",
       "    .dataframe tbody tr th:only-of-type {\n",
       "        vertical-align: middle;\n",
       "    }\n",
       "\n",
       "    .dataframe tbody tr th {\n",
       "        vertical-align: top;\n",
       "    }\n",
       "\n",
       "    .dataframe thead th {\n",
       "        text-align: right;\n",
       "    }\n",
       "</style>\n",
       "<table border=\"1\" class=\"dataframe\">\n",
       "  <thead>\n",
       "    <tr style=\"text-align: right;\">\n",
       "      <th></th>\n",
       "      <th>tweet_id</th>\n",
       "      <th>text</th>\n",
       "      <th>creator_id</th>\n",
       "      <th>created_by</th>\n",
       "      <th>creator_followers</th>\n",
       "      <th>creator_friends</th>\n",
       "    </tr>\n",
       "  </thead>\n",
       "  <tbody>\n",
       "    <tr>\n",
       "      <th>0</th>\n",
       "      <td>1325834282225471500</td>\n",
       "      <td>West Bengal CM requests @narendramodi to help ...</td>\n",
       "      <td>990761677</td>\n",
       "      <td>MumbaiMirror</td>\n",
       "      <td>394610</td>\n",
       "      <td>236</td>\n",
       "    </tr>\n",
       "    <tr>\n",
       "      <th>1</th>\n",
       "      <td>1325834237874876417</td>\n",
       "      <td>My next Prime Minister is not Narendra Modi.\\n...</td>\n",
       "      <td>2982502830</td>\n",
       "      <td>Awadhtrk</td>\n",
       "      <td>129</td>\n",
       "      <td>2507</td>\n",
       "    </tr>\n",
       "    <tr>\n",
       "      <th>2</th>\n",
       "      <td>1325834202076467200</td>\n",
       "      <td>‘महादेव की काशी कभी थमती नहीं’: PM मोदी ने वार...</td>\n",
       "      <td>972052524449505280</td>\n",
       "      <td>ShreeP1960</td>\n",
       "      <td>770</td>\n",
       "      <td>1579</td>\n",
       "    </tr>\n",
       "    <tr>\n",
       "      <th>3</th>\n",
       "      <td>1325834086296870912</td>\n",
       "      <td>@narendramodi \\n@narendramodi \\nDear Narendra ...</td>\n",
       "      <td>1270742819947384834</td>\n",
       "      <td>PNirmql</td>\n",
       "      <td>0</td>\n",
       "      <td>37</td>\n",
       "    </tr>\n",
       "    <tr>\n",
       "      <th>4</th>\n",
       "      <td>1325834001584680960</td>\n",
       "      <td>पीएम मोदी ने एक ट्वीट कर कहा है-मेरा आग्रह है ...</td>\n",
       "      <td>2895345258</td>\n",
       "      <td>HindiNews18</td>\n",
       "      <td>198247</td>\n",
       "      <td>64</td>\n",
       "    </tr>\n",
       "  </tbody>\n",
       "</table>\n",
       "</div>"
      ],
      "text/plain": [
       "              tweet_id                                               text  \\\n",
       "0  1325834282225471500  West Bengal CM requests @narendramodi to help ...   \n",
       "1  1325834237874876417  My next Prime Minister is not Narendra Modi.\\n...   \n",
       "2  1325834202076467200  ‘महादेव की काशी कभी थमती नहीं’: PM मोदी ने वार...   \n",
       "3  1325834086296870912  @narendramodi \\n@narendramodi \\nDear Narendra ...   \n",
       "4  1325834001584680960  पीएम मोदी ने एक ट्वीट कर कहा है-मेरा आग्रह है ...   \n",
       "\n",
       "            creator_id    created_by  creator_followers  creator_friends  \n",
       "0            990761677  MumbaiMirror             394610              236  \n",
       "1           2982502830      Awadhtrk                129             2507  \n",
       "2   972052524449505280    ShreeP1960                770             1579  \n",
       "3  1270742819947384834       PNirmql                  0               37  \n",
       "4           2895345258   HindiNews18             198247               64  "
      ]
     },
     "execution_count": 12,
     "metadata": {},
     "output_type": "execute_result"
    }
   ],
   "source": [
    "df.head()"
   ]
  },
  {
   "cell_type": "code",
   "execution_count": 13,
   "metadata": {},
   "outputs": [
    {
     "data": {
      "text/html": [
       "<div>\n",
       "<style scoped>\n",
       "    .dataframe tbody tr th:only-of-type {\n",
       "        vertical-align: middle;\n",
       "    }\n",
       "\n",
       "    .dataframe tbody tr th {\n",
       "        vertical-align: top;\n",
       "    }\n",
       "\n",
       "    .dataframe thead th {\n",
       "        text-align: right;\n",
       "    }\n",
       "</style>\n",
       "<table border=\"1\" class=\"dataframe\">\n",
       "  <thead>\n",
       "    <tr style=\"text-align: right;\">\n",
       "      <th></th>\n",
       "      <th>tweet_id</th>\n",
       "      <th>creator_id</th>\n",
       "      <th>creator_followers</th>\n",
       "      <th>creator_friends</th>\n",
       "    </tr>\n",
       "  </thead>\n",
       "  <tbody>\n",
       "    <tr>\n",
       "      <th>count</th>\n",
       "      <td>1.000000e+03</td>\n",
       "      <td>1.000000e+03</td>\n",
       "      <td>1.000000e+03</td>\n",
       "      <td>1000.000000</td>\n",
       "    </tr>\n",
       "    <tr>\n",
       "      <th>mean</th>\n",
       "      <td>1.325767e+18</td>\n",
       "      <td>7.138795e+17</td>\n",
       "      <td>1.229968e+05</td>\n",
       "      <td>679.058000</td>\n",
       "    </tr>\n",
       "    <tr>\n",
       "      <th>std</th>\n",
       "      <td>3.684144e+13</td>\n",
       "      <td>5.792779e+17</td>\n",
       "      <td>9.185981e+05</td>\n",
       "      <td>1784.448879</td>\n",
       "    </tr>\n",
       "    <tr>\n",
       "      <th>min</th>\n",
       "      <td>1.325701e+18</td>\n",
       "      <td>6.509832e+06</td>\n",
       "      <td>0.000000e+00</td>\n",
       "      <td>0.000000</td>\n",
       "    </tr>\n",
       "    <tr>\n",
       "      <th>25%</th>\n",
       "      <td>1.325738e+18</td>\n",
       "      <td>1.258551e+09</td>\n",
       "      <td>1.175000e+01</td>\n",
       "      <td>51.000000</td>\n",
       "    </tr>\n",
       "    <tr>\n",
       "      <th>50%</th>\n",
       "      <td>1.325768e+18</td>\n",
       "      <td>9.899347e+17</td>\n",
       "      <td>1.400000e+02</td>\n",
       "      <td>181.500000</td>\n",
       "    </tr>\n",
       "    <tr>\n",
       "      <th>75%</th>\n",
       "      <td>1.325799e+18</td>\n",
       "      <td>1.275969e+18</td>\n",
       "      <td>1.084000e+03</td>\n",
       "      <td>592.250000</td>\n",
       "    </tr>\n",
       "    <tr>\n",
       "      <th>max</th>\n",
       "      <td>1.325834e+18</td>\n",
       "      <td>1.325797e+18</td>\n",
       "      <td>1.135083e+07</td>\n",
       "      <td>24946.000000</td>\n",
       "    </tr>\n",
       "  </tbody>\n",
       "</table>\n",
       "</div>"
      ],
      "text/plain": [
       "           tweet_id    creator_id  creator_followers  creator_friends\n",
       "count  1.000000e+03  1.000000e+03       1.000000e+03      1000.000000\n",
       "mean   1.325767e+18  7.138795e+17       1.229968e+05       679.058000\n",
       "std    3.684144e+13  5.792779e+17       9.185981e+05      1784.448879\n",
       "min    1.325701e+18  6.509832e+06       0.000000e+00         0.000000\n",
       "25%    1.325738e+18  1.258551e+09       1.175000e+01        51.000000\n",
       "50%    1.325768e+18  9.899347e+17       1.400000e+02       181.500000\n",
       "75%    1.325799e+18  1.275969e+18       1.084000e+03       592.250000\n",
       "max    1.325834e+18  1.325797e+18       1.135083e+07     24946.000000"
      ]
     },
     "execution_count": 13,
     "metadata": {},
     "output_type": "execute_result"
    }
   ],
   "source": [
    "df.shape\n",
    "df.describe()"
   ]
  },
  {
   "cell_type": "markdown",
   "metadata": {},
   "source": [
    "### Bag of Words vector"
   ]
  },
  {
   "cell_type": "code",
   "execution_count": 14,
   "metadata": {},
   "outputs": [],
   "source": [
    "# tokenize texts to get meaningful words\n",
    "from sklearn.feature_extraction.text import CountVectorizer"
   ]
  },
  {
   "cell_type": "code",
   "execution_count": 15,
   "metadata": {},
   "outputs": [],
   "source": [
    "# list of Tweet's text\n",
    "\n",
    "text = list(df['text'])"
   ]
  },
  {
   "cell_type": "code",
   "execution_count": 16,
   "metadata": {},
   "outputs": [],
   "source": [
    "vectorizer = CountVectorizer()"
   ]
  },
  {
   "cell_type": "code",
   "execution_count": 17,
   "metadata": {},
   "outputs": [
    {
     "data": {
      "text/plain": [
       "CountVectorizer(analyzer='word', binary=False, decode_error='strict',\n",
       "                dtype=<class 'numpy.int64'>, encoding='utf-8', input='content',\n",
       "                lowercase=True, max_df=1.0, max_features=None, min_df=1,\n",
       "                ngram_range=(1, 1), preprocessor=None, stop_words=None,\n",
       "                strip_accents=None, token_pattern='(?u)\\\\b\\\\w\\\\w+\\\\b',\n",
       "                tokenizer=None, vocabulary=None)"
      ]
     },
     "execution_count": 17,
     "metadata": {},
     "output_type": "execute_result"
    }
   ],
   "source": [
    "# tokenize and build vocab\n",
    "\n",
    "vectorizer.fit(text)"
   ]
  },
  {
   "cell_type": "code",
   "execution_count": 18,
   "metadata": {},
   "outputs": [
    {
     "name": "stdout",
     "output_type": "stream",
     "text": [
      "{'indore': 1676, 'kamalaharris': 1888, 'qeey3exp9n': 2815, 'sanjukta': 3068, 'guys': 1441, '145th': 22, 'xzxxeg1mu8': 3883, '_ashwatthama_': 189, 'ರತ': 4434, 'jasodaben': 1784, 'एक': 4042, 'darbara': 912, 'needed': 2388, 'ngl': 2404, 'have': 1492, 'vaiko': 3658, 'fools': 1278, 'ambani': 328, 'eumes6xyxl': 1170, 'ટલ': 4319, 'ggalpoj8it': 1356, 'gy6gfaule1': 1446, 'লয': 4288, 'ranbir_crpf': 2876, 'jnuchaap': 1827, 'bharat28chopra': 573, 'yogi': 3919, 'jyotiraju09': 1868, 'kbkkcg57h2': 1917, 'janata': 1777, 'potatoes': 2710, 'kalla': 1883, 'freedanicholas': 1301, 'cheap': 769, 'or': 2525, 'befall': 539, 'muhammad': 2301, 'महत': 4172, 'वल': 4202, '5lioa8w90n': 111, 'thackrey': 3437, 'real_goswami5': 2897, 'indianeconomy': 1666, 'amreli': 343, '73': 135, 'sakte': 3049, 'respect': 2956, 'खर': 4067, 'ruptures': 3017, 'bachpan': 483, 'આપણ': 4308, 'deceased': 931, 'delhipolice': 947, 'sorry': 3238, 'infront': 1688, 'mannkibaat': 2169, 'arnablifeunderthreat': 411, 'texminindia': 3427, 'red': 2910, 'still': 3292, 'when': 3792, 'pidis': 2650, 'chhayahimalay': 772, 'bhueeqr7xd': 585, '5ggdstvonx': 108, 'statue': 3286, 'minhazmerchant': 2243, 'mind': 2242, 'advani': 278, 'kuta': 1986, 'रण': 4180, 'kstfvahx9c': 1976, 'twittersupport': 3558, 'soul': 3239, 'maniny': 2164, 'uth3cx1mhe': 3635, '31bjecfjxa': 84, 'every': 1175, 'mean': 2198, 'existed': 1183, 'sattelite': 3080, 'allowing': 318, 'rss': 3009, 'come': 818, 'বর': 4274, 'ekchjhllgc': 1119, 'i4mi9y0ihs': 1603, 'chile': 777, 'salami': 3052, 'coaching': 811, 'police': 2684, 'kkem302rfa': 1956, 'b1knlwaug9': 472, 'mera': 2221, 'call': 693, 'role': 2994, 'jamane': 1773, 'silence': 3196, '2014': 51, 'le': 2035, 'trumpout': 3533, 'zldhygkskb': 3964, 'candideto': 703, 'bhootnath': 582, 'nilotpalm3': 2414, 'kandahar': 1889, 'kyaaa': 1991, 'nitindhote24': 2417, '1883': 28, 'sk77872309': 3209, 'lambaalka': 2017, 'seems': 3116, 've': 3675, 'hunger': 1590, 'nadia': 2345, 'xhocrcrlh1': 3865, 'spoken': 3255, 'flourishes': 1268, 'respected': 2958, '7ku94ysl2p': 149, 'drrpnishank': 1067, 'bfj2g1kz2e': 563, 'bolsonaro': 632, 'priyankagandhi': 2760, 'pmnarendramodi': 2677, 'thenewsbangla': 3452, 'him': 1529, 'shri_v': 3186, 'vldcbjcosg': 3714, 'balakot': 498, 'ଘର': 4363, 'thewire_in': 3459, 'আজ': 4235, 'नगरस': 4119, 'increase': 1656, 'cb6c6n8umy': 718, 'लय': 4194, 'fialqymmwc': 1245, 'fault': 1224, 'straight': 3299, 'charts': 764, 'ready': 2895, 'repeated': 2939, 'oo2xunub8m': 2510, 'आल': 4020, 'encuentra': 1139, 'russian': 3019, 'અગ': 4301, 'kuchawati': 1979, 'hamara': 1459, 'mehbooba': 2208, 'atomic': 442, 'prakash14708196': 2729, 'patrlotas': 2606, 'beware': 562, 'gt': 1431, 'ho': 1551, 'ankita_barthwal': 358, 'dikhai': 990, '0sd6erticx': 10, 'amjad': 338, 'zindegi': 3960, 'gave': 1335, 'expresses': 1190, '2oa5mvev66': 73, 'tejyadav14': 3414, 'patatha': 2602, 'acceptance': 247, 'historic': 1540, 'thing': 3462, 'জন': 4256, 'party': 2596, '12herxryyg': 17, 'muteno1': 2324, 'diwali2020': 1019, 'profiteering': 2767, 'aimed': 302, 'case': 714, 'kf3bmxkvda': 1931, 'mango': 2163, 'qpq2u1g0rn': 2831, 'peoples': 2625, '9ರ': 188, 'prime': 2754, 'নমন': 4265, 'joshi': 1840, 'ಪರ': 4425, 'majdpsingh': 2142, 'shree': 3184, 'byhonourable': 682, 'chittis': 780, 'shivsena': 3176, 'dchautala': 922, 'easy': 1097, 'sah': 3043, 'ckw6bfs0t1': 800, 'techno': 3409, 'জহরল': 4258, '8454': 159, 'making': 2151, 'khatm': 1938, 'sack': 3034, 'vinay20686': 3696, 'सद': 4210, 'pulwama': 2795, 'ipl': 1723, 'ensure': 1149, 'और': 4050, 'supply': 3332, 'bjp': 600, 'revert': 2971, 'napunsak': 2353, 'degree': 940, 'cpqrj1lvdq': 872, 'fdmkaqbr0p': 1228, '755': 139, 'waar': 3744, 'elect': 1123, 'sir': 3204, 'money': 2271, 'banaskantha': 503, 'mann': 2167, 'rahulgandhi': 2853, 'hindu': 1535, 'kaun': 1914, 'the_hindu': 3446, 'enem': 1143, 'irrelevant': 1729, 'maan': 2128, 'govt': 1408, 'm9mvccqgmx': 2125, '2005': 49, 'eldredv': 1122, 'नम': 4121, 'कई': 4051, 'sayanigupta': 3088, 'yadi': 3894, 'strengthen': 3301, 'orpeap4i1j': 2529, 'अब': 4000, 'ଳନ': 4378, 'netanyahu': 2397, 'unsubtledesi': 3597, 'zj2dkmuwuz': 3961, 'মধ': 4277, 'akhri': 309, 'women': 3825, 'nirav': 2415, 'company': 826, 'bhen': 579, 'srilanka': 3268, 'dgpmaharashtra': 974, 'whatsapp': 3791, 'shocking': 3177, 'yjxdbi5vvf': 3914, 'k6vfkmwbrp': 1872, 'and': 350, 'পর': 4269, 'inspiration': 1698, 'avdvvwn9py': 457, 'masses': 2185, 'qhfvegjv3u': 2820, 'galwan': 1330, 'gmpui6brcf': 1379, 'forged': 1282, 'scene': 3096, 'rupees': 3015, 'upon': 3608, 'career': 711, 'sahab': 3045, 'नर': 4123, 'ukhad': 3578, 'tr': 3515, 'hu': 1577, 'tgkehvbp5p': 3432, 'ಅಸ': 4407, 'uksu3h13yf': 3579, 'aashi': 220, 'posters': 2707, 'manoniyo': 2172, 'sco': 3100, 'bevqqpyeci': 561, 'also': 323, 'ahora': 301, 'discontent': 1005, 'g50ync9rpc': 1324, 'proposal': 2778, 'haryana': 1484, 'यह': 4177, 'mananiy': 2159, 'xvovxtvtef': 3879, 'behthei': 544, 'pbdtmqr65c': 2612, 'prathikshakpai': 2738, 'abetment': 230, 'dv2yf18sxp': 1082, 'afd7m08nhr': 280, 'mdtzbbykla': 2194, 'swarajrajkaj': 3359, 'yaro': 3896, 'detihe': 964, 'nscvnxkswr': 2451, 'wwlptlb9hl': 3851, 'increasing': 1658, 'at': 437, 'sumansh58123278': 3321, 'nxaesb8r9x': 2464, 'scheme': 3097, 'poojameena110': 2696, 'shah': 3151, 'katariya': 1912, 'पन': 4133, 'inaugurates': 1649, 'esvek1bg22': 1164, 'rsprasad': 3008, 'back': 484, 'urged': 3614, 'our': 2537, 'use': 3623, 'stupid': 3308, 'dolaand': 1040, 'uyfgnyozg0': 3645, 'involve': 1718, 'hv': 1592, 'years': 3905, 'तस': 4110, 'sumitku63186290': 3322, 'loksabhaspeaker': 2095, 'aaj': 208, 'loyal': 2109, 'super': 3329, 'রন': 4286, 'wouldn': 3838, 'monthly': 2273, '78': 144, 'regret': 2919, 'opindia_com': 2520, 'avt2bfkdni': 460, 'डक': 4095, 'q0z2ptvzlr': 2809, 'bold': 629, 'grassroots': 1416, 'personally': 2637, 'tulsidasbhoite': 3543, 'sdzqh4eenh': 3105, 'global': 1374, 'ensuring': 1150, 'already': 322, 'presstitutes': 2749, 'cum': 888, 'unveil': 3598, 'انتظامیہ': 3982, '2bulu8n1yc': 65, 'jindabad': 1814, 'kahiye': 1878, 'athavale_abhi': 440, 'deshdrohi': 959, 'told': 3503, 'topic': 3509, 'wait': 3746, 'son': 3233, 'kf75rshsvu': 1932, 'ऐस': 4048, 'platform': 2661, 'namastetrump': 2349, 'jai': 1763, 'election': 1125, 'iyervval': 1751, 'do': 1034, 'stop': 3296, 'stand': 3279, 'disha': 1008, 'initiatives': 1691, 'duplicate': 1078, 'anildeshmukhncp': 356, 'mujhe': 2305, 'vacancy': 3656, 'rxso6iypzy': 3022, 'some': 3229, 'mobility': 2260, 'status': 3287, 'yxcbotydfa': 3938, 'teri': 3422, 'dega': 939, 'ravired46937871': 2887, 'अर': 4002, 'deh': 941, 'e3cvp0zkv7': 1089, 'school': 3098, 'एग': 4043, 'टलर': 4094, 'shame': 3155, 'nivedan': 2419, 'muhammdhamza99': 2302, 'vqw891zn6t': 3728, 'ಸವ': 4447, 'jethmalanim': 1803, 'resilience': 2955, 'generalbakshi': 1344, 'usagov': 3622, 'aaye': 225, 'out': 2539, 'reforms': 2917, 'usa': 3620, 'riarevealed': 2976, 'nitikamusale': 2416, 'policy': 2688, 'thmz5l2m5w': 3467, 'five': 1263, 'battoleybaz': 521, 'ladai': 2005, 'manyabar': 2178, 'कभ': 4055, 'minister': 2246, 'has': 1485, 'کرونا_پھیلاتی_نانی': 3989, 'speeches': 3250, 'khade': 1935, 'bro': 654, 'bhi': 580, 'candidates': 702, 'try': 3536, 'baap': 475, 'karr': 1905, 'disturb': 1013, 'current': 893, 'sebastian': 3111, 'weisz': 3777, 'greeting': 1421, 'however': 1571, 'imran': 1642, 'pmmodiyojna': 2676, 'jaiyega': 1771, 'blood': 621, 'blocked': 619, 'ishiliye': 1732, 'pmcares': 2674, 'finding': 1253, 'fdconjbyob': 1227, 'connected': 847, 'peace': 2618, 'kee': 1921, 'x1zngn4jct': 3854, 'kabhi': 1875, 'pay': 2611, 'amiteshr2': 335, 'banaya': 504, '7tdpwo8rnp': 153, 'nodpbieifk': 2429, 'keh_ke_le_lunga': 1923, 'muje': 2303, 'sabhi': 3032, 'commi': 820, 'changes': 758, 'proves': 2785, 'bmkwa8mimy': 624, 'cbxulji7ro': 720, 'तरह': 4108, 'oojvmvkz2j': 2512, 'yjfcqapi0y': 3912, 'pratap': 2737, 'aeawydugud': 279, 'jahan': 1762, '0borbtpjp4': 2, 'bengal': 554, 'alien_landed': 314, 'ଉଛ': 4357, 'ରର': 4376, 'analysis': 346, 'click': 804, 'residential': 2953, 'waving': 3761, 'sagarja19089615': 3041, 'izletdscta': 1752, 'debayandictum': 928, 'initiative': 1690, 'gawar': 1336, 'came': 697, 'chokshi': 782, 'suicide': 3318, 'rachel': 2844, 'tgulhfsrny': 3433, 'thhe': 3461, 'expressed': 1189, 'രധ': 4460, 'axykqlctcb': 467, 'kqotjsvtmd': 1967, 'convocation': 859, 'इज': 4024, 'committee': 822, 'atal': 438, 'being': 545, 'qfkzdimoom': 2817, 'মমত': 4279, 'policymakers': 2689, 'dialogue': 980, 'marklevinshow': 2181, 'vl1ffbczsp': 3712, 'proactive': 2761, 'large': 2020, 'g4amo5s96w': 1323, 'કલન': 4314, 'entitled': 1152, 'pagd': 2563, 'jii': 1810, 'ji': 1809, 'गहर': 4074, 'stefan': 3289, 'kmrcgafkxt': 1959, 'piche': 2648, 'planned': 2659, 'കഴ': 4453, 'il2vturart': 1631, 'timesofindia': 3486, 'a4mgw1tqgv': 197, 'रत': 4181, 'spoilt': 3252, 'cgtrjcgsqu': 739, 'oyfkwy6hpm': 2552, 'wfjyk4dph0': 3789, 'ssrfan478780364': 3276, 'aadami': 204, 'vijayrupani': 3692, 'सशक': 4220, 'hrpe0j0lj6': 1573, 'cvmukudtfg': 898, 'srinivasarao': 3269, 'awh9eq6vqb': 465, 'enduring': 1142, 'cbi': 719, 'पतन': 4132, 'bahar': 492, 'maharashtra': 2134, 'false': 1207, 'charge': 762, 'gotten': 1402, 'gosw': 1398, 'chuki': 786, '7f5bl1lo1b': 146, 'shri': 3185, 'sabse': 3033, 'bihar': 593, 'yahan': 3895, 'harrysargodhia': 1482, 'gfad4xaqy2': 1352, 'arrestarnab': 418, 'incarceration': 1651, 'propaganda': 2776, 'ik_kbjp': 1629, 'q9em1uno0c': 2813, 'bete': 557, 'chutiya': 791, 'aundh': 451, 'actn9xikp1': 259, '6qny5vgued': 128, 'everyone': 1177, 'word': 3827, 'may': 2193, 'lfk6kusytq': 2055, 'vohra': 3719, 'pravinsbankar': 2739, 'renamed': 2935, '70': 133, 's61cvb9mpw': 3023, 'mahi26920749': 2137, 'ssc_gd_seat_increase_2018': 3273, 'leaderly': 2037, 'not': 2435, 'तभ': 4104, 'f0upfwoqfr': 1196, 'hgxlwyrwdj': 1520, '3ka9pmc2ta': 92, 'ষমত': 4289, 'ashiwalsakshi': 428, 'learn': 2041, 'tavleen_singh': 3400, 'most': 2278, 'rehjayega': 2922, 'english': 1146, 'left': 2045, 'for': 1279, 'bsdhanoa': 659, 'നര': 4457, 'illiberal': 1633, 'laya': 2031, 'iwr9oz9su2': 1748, 'ts3hqcrczo': 3539, 'v2a1c7fmks': 3650, 'tagging': 3377, 'my': 2328, 'dikh': 988, 'effect': 1107, 'seguridad': 3118, 'bodkheshilpa': 626, '5व': 118, 'che_guevara_in_': 768, 'targeting': 3395, 'shehzad_ind': 3171, 'rajpoot': 2868, 'indousrelations': 1677, 'free_thinker': 1300, 'yourself': 3925, 'priorities': 2756, 'npsscpxt1i': 2446, 'sagnikkar': 3042, 'karenge': 1898, 'keazgovqzc': 1919, 'above': 241, 'kxvljysxol': 1989, 'politely': 2690, 'dl5ilqvzso': 1027, 'awog5trysr': 466, 'hitler': 1542, 'parmukh': 2590, 'yuvytqlv7j': 3936, 'इतन': 4026, 'battle': 519, 'wow': 3839, 'invited': 1717, 'where': 3794, 'mystics': 2333, 'mention': 2219, 'prabhupada': 2721, 'v9bezcjl6t': 3653, 'semma': 3125, 'jaye': 1788, 'j0zx53apox': 1753, 'bol': 628, 'ୟନ': 4381, 'leaders': 2038, 'really': 2902, 'whom': 3800, 'angela': 352, 'বক': 4271, 'moca_goi': 2261, 'hidden': 1523, 'beleive': 547, 'motives': 2280, '6ivbqfbumg': 126, 'unable': 3583, 'आर': 4019, 'congratulating': 842, 'ydki6d51wf': 3901, 'ऑफ': 4049, 'attention': 447, '0zpzurzv51': 12, 'ಯದ': 4430, 'ykr6jfzmvb': 3915, 'wasn': 3758, 'vashishthkesha1': 3671, 'punjab': 2799, 'hajar': 1457, 'congratulates': 841, 'it': 1742, 'showed': 3183, '95': 176, 'shyamjikushwa17': 3192, '201': 50, 'wishers': 3812, 'हणत': 4223, 'gkq2p74ywu': 1373, 'piyush': 2653, 'jani': 1778, 'occupying': 2472, '24': 59, '2miwrikowz': 71, '9mmhey7gkq': 183, 'meeting': 2205, 'happening': 1468, 'vandalized': 3665, 'witch': 3816, '9qeujjqgce': 184, 'lgta': 2057, 'aktiwari0003': 311, 'वर': 4201, 'mtddmcib0f': 2298, 'remember': 2931, 'mila': 2237, 'urges': 3617, 'top10news': 3508, 'ki': 1942, 'tfbhkgtlyy': 3431, 'sale': 3054, 'nat': 2367, 'mzjthif80b': 2334, 'welcome': 3778, 'consumes': 851, 'unveiled': 3599, 'a52vxvp9sx': 198, 'tea': 3405, 'ladka': 2007, 'xvtkqsuelp': 3880, 'am': 325, 'happens': 1469, 'valles': 3661, 'ce3iujhyyw': 724, 'bhukhe': 586, 'chowdhury': 785, 'gdnrkqnlsp': 1341, '8ngngipttf': 170, 'friend': 1306, 'swami': 3355, 'tribunal': 3526, 'tiy5gurhpk': 3488, 'adoring': 275, 'fully': 1317, 'defeated': 938, 'pnnhswmny5': 2680, 'rahi': 2851, '1lrqytrk7q': 39, 'আগ': 4234, 'indo': 1675, 'kumar': 1983, 'gande': 1331, 'working': 3831, 'juna': 1858, 'arn': 405, 'रश': 4187, 'ranjan': 2877, 'plot': 2666, 'goswami': 1400, 'monday': 2270, 'rot': 2996, 'p4hxgw6gzg': 2555, 'stone': 3295, 'critical': 879, 'uthqhr1ke3': 3636, 'maa': 2127, '0nhkjjz74i': 8, 'pernav31': 2633, 'vivekanand': 3706, 'zxfp3bionw': 3978, 'tuorqwbtq2': 3546, 'opdhankar': 2514, 'vx1r9gtmzm': 3733, 'ranbir': 2875, 'parikramah': 2585, 'va9qigindm': 3655, 'kuchh': 1980, 'jr7alb5iwr': 1850, 'رخ': 3985, 'ಮಧ': 4428, 'mozzs8jry0': 2289, 'cn1rtydfge': 809, 'asap': 427, 'xxr7moff6p': 3881, 'બદલ': 4331, 'anything': 371, 'ಅಗತ': 4404, 'कन': 4053, 'virtual': 3700, 'jtj3mmevm7': 1854, '8hhdk5nclf': 167, 'koi': 1964, 'snd': 3220, 'riots': 2982, 'पहन': 4137, 'tf2ufth4ju': 3430, 'dwvddjhl8g': 1085, 'নত': 4263, 'kggk2pzgqj': 1934, 'spreading': 3262, 'bhadreshjadav2': 566, 'bidenharris2020': 589, 'mahesh1630': 2136, 'always': 324, 'sanatanis': 3064, '0nikwxqmlh': 9, 'cthtltm2ek': 886, 'bhaiyo': 569, 'musalman': 2319, 'ବପର': 4368, 'ଆମର': 4354, 'helped': 1511, 'kplf1vtuyz': 1966, 'କର': 4361, 'blames': 614, 'press': 2747, 'glory': 1375, 'dailymail': 906, 'e2oes2pdhe': 1088, 'interfering': 1706, 'concerns': 831, 'forget': 1283, 'syamkalli': 3365, 'apart': 375, 'permissible': 2631, 'dlrinqncrf': 1029, 'currency': 892, 'czjzilzrxi': 900, 'friends': 1308, 'zpqrp75xft': 3968, 'anandmahindra': 348, 'lies': 2062, 'sunte': 3328, 'cmohry': 808, 'banned': 510, 'einstein': 1115, 'vgir': 3682, 'presenting': 2744, 'qhdkg4llha': 2819, 'આત': 4306, 'condolences': 834, 'kannadanews': 1893, 'condition': 832, 'bjpleader': 606, 'la': 2003, 'perdieron': 2627, 'elected': 1124, 'esliye': 1161, 'youth': 3926, 'atbbi5pffa': 439, 'കള': 4452, 'shekhargupta': 3172, 'vijaythottathil': 3693, 'kevadia': 1929, 'faith': 1204, 'jashodaben': 1783, '2degaphxtx': 67, 'virtualsummit': 3701, 'focused': 1275, 'opens': 2518, 'connection': 848, 'lash': 2023, 'block': 618, 'chhudao': 774, 'vxuehda1wn': 3735, 'president': 2746, '26v435f4lm': 61, 'surnell': 3349, 'u3roxhabxa': 3565, 'unconditional': 3585, 'beneficial': 551, '8bbfe7nknv': 162, 'yasaswi': 3897, 'desh': 956, 'tak': 3380, 'drjmnayak': 1063, 'kuch': 1978, 'reuters': 2969, 'students': 3306, 'qzwblohup1': 2839, 'fi': 1244, 'empowers': 1135, 'investor': 1716, 'ଫର': 4366, 'nyewemrveo': 2466, 'सबस': 4213, 'damodar': 909, 'fella': 1233, 'courage': 865, 'mendonsacyril': 2217, 'rd11hstbuh': 2890, 'hamare': 1460, 'hardw': 1478, '3mng3mjk5o': 94, 'then': 3451, 'afu8io4tp0': 286, 'pura': 2801, 'zct0yfr5fm': 3952, 'lsnj2fjgrm': 2113, 'pqmqjkscwi': 2717, 'receive': 2906, 'want': 3752, 'day': 919, 'పత': 4401, 'bolne': 631, 'drawing': 1058, 'யன': 4395, 'that': 3443, 'કહ': 4315, 'dies': 983, 'ihailmyindia': 1620, 'batao': 517, 'father': 1222, 'pappu': 2578, 'તહ': 4322, 'nmdafj4qyq': 2426, 'bachho': 482, 'pensions': 2623, 'engine': 1145, 'airindiain': 304, '66': 121, 'kiuzdhi1yb': 1952, 'flight': 1267, 'cases': 715, 'unveiling': 3600, 'nusratchirps': 2459, 'वन': 4199, 'centre': 732, 'ashoksi18296512': 429, 'countrymen': 863, 'muslim': 2321, 'plea': 2663, 'kala': 1882, 'non': 2430, 'dharna': 975, 'बढ': 4143, 'spain': 3243, 'majorpoonia': 2147, 'cji': 796, 'kz6isydwrc': 1996, 'ke': 1918, 'lay': 2030, 'affect': 282, 'dia': 979, 'ikaushikdafda': 1630, 'badri': 491, 'ਹਰ': 4300, 'nxd7eolzt8': 2465, 'raavan': 2843, 'kaise': 1880, 'ईड': 4031, 'kuhdviqvlg': 1982, 'kehna': 1924, 'damodardas': 910, 'rpfi6c2jcd': 2999, 'challenge': 750, 'pow': 2712, 'blame': 612, 'bel': 546, 'rotpzjlfwa': 2997, 'sang': 3065, 'ummid': 3581, 'h50ipzq3mi': 1449, '600': 119, 'changing': 759, 'laloo': 2016, 'pmo': 2678, 'tatkaal': 3397, '6blyiotpa7': 124, 'kriye': 1974, 'administration': 272, 'ours': 2538, 'weed': 3775, '2zopspzuug': 81, 'mukesh': 2306, 'asked': 432, 'sghodgerikar': 3146, 'sab': 3031, 'i5a2iruidc': 1604, 'mh': 2227, 'ಮನ': 4429, 'keliye': 1925, 'nem': 2395, 'inside': 1696, 'upzqt9dnae': 3610, 'udhav': 3573, 'fourth': 1294, 'bhai': 568, 'aranb': 394, 'kho': 1941, 'narendra_modi': 2363, 'thought': 3471, 'cartelisation': 713, 'padhao': 2560, 'digiye': 986, '5bahen123i': 107, 'mk9xcsshe4': 2251, 'hame': 1462, 't8haqbucam': 3373, 'eco': 1100, 'piwdyomofc': 2652, 'lines': 2070, 'distance': 1011, 'সব': 4290, 'were': 3783, 'wseh5mpbue': 3845, 'અટક': 4302, 'abhiyan': 235, 'reiterated': 2923, 'arnab_goswami1': 407, 'w3dlowd1jl': 3739, 'twitterindia': 3557, 'chup': 788, 'matter': 2190, 'കല': 4451, 'farming': 1216, 'paiga': 2567, 'kursi': 1985, 'ghogha': 1362, 'tem': 3418, 'pradhan': 2725, 'hegdepooja': 1504, 'ivan': 1745, 'indian': 1664, 'oyeskd': 2551, 'uh1h61u8ik': 3575, 'varadarajan': 3668, 'search': 3108, 'lalit': 2015, 'bzo8i9mjen': 685, 'શન': 4348, 'public': 2792, 'உள': 4387, 'bcoz': 525, 'વડ': 4344, 'wlfixut9ye': 3821, 'lqhcon9bft': 2111, 'div': 1014, 'realdonaldtrump': 2898, '2hpcjdomuy': 69, 'surprised': 3350, 'turning': 3550, 'st': 3277, 'xdeil5lvkp': 3863, 'hokar': 1555, 'mahanalayk': 2133, 'kb_indian19': 1916, 'reali': 2899, 'donkhotte': 1045, 'action': 258, 'please': 2664, 'sharadpawar': 3161, 'rply': 3001, 'थमत': 4112, 'putin': 2805, 'therss_piyussh': 3457, 'bhayi': 578, 'trying': 3537, 'black': 609, 'danger': 911, 'as': 426, 'भव': 4159, 'b6djxvchfz': 474, '5h087ykknq': 110, 'gopinath': 1396, 'textile': 3429, 'rename': 2934, 'local4diwali': 2088, 'unprecedented': 3596, 'seeks': 3115, 'গত': 4249, 'cautious': 717, 'economy': 1102, 'service': 3138, 'hamlog': 1463, 'k2r5ovm7gl': 1869, 'q02atkakyy': 2808, 'y2fyatvtr8': 3885, 'skte': 3210, 'abusing': 245, 'different': 984, 'bolte': 633, 'qo6xmzinjn': 2827, 'them': 3449, 'sarkar': 3075, 'e0rpnz9eli': 1087, 'enough': 1148, 'release': 2926, 'fellow': 1235, 'ios1b71rwh': 1721, 'cards': 709, 'અન': 4303, 'author': 455, 'వళ': 4403, 'nueqms8t3l': 2457, 'worth': 3836, 'pak': 2570, 'wife': 3804, 'eelbbkmokf': 1106, 'qocf96msod': 2828, 'modiji': 2266, 'lagaying': 2010, 'tnbk3haitj': 3496, 'weh4s9k8tk': 3776, 'greatly': 1419, '_sabanaqvi': 192, 'battleforbihar': 520, 'employee': 1134, 'cua45dnobx': 887, 'negative': 2390, 'products': 2766, 'justiceforanvaynaik': 1863, 'uxcicxlppc': 3644, 'control': 858, 'करण': 4058, 'aapko': 217, 'rpifbbhzmo': 3000, 'start': 3281, 'rankarupali': 2878, '1el0ztyqwv': 32, 'पए': 4128, 'szwob1zrph': 3371, 'very': 3680, 'majorgauravarya': 2144, 'কর': 4245, 'steam': 3288, 'isis': 1735, 'commodities': 824, 'badhana': 487, 'उपर': 4037, 'efgmz3ujz3': 1110, 'kept': 1928, 'answerable': 365, 'joke': 1838, 'agree': 296, 'বশ': 4275, 'kuchi': 1981, 'fbf88lcr8z': 1226, 'golden': 1392, 'mygovindia': 2330, 'ali': 313, 'ऐल': 4047, 'meenadasnarayan': 2204, '5gq22arsdp': 109, 'sacrifice': 3035, 'ವಶದಲ': 4440, 'mimpibr79w': 2240, 'telling': 3417, 'wears': 3772, 'earthen': 1096, 'ini': 1689, 'तव': 4109, 'mib_india': 2232, 'governance': 1405, 'naq0qzswdl': 2354, 'performindia': 2628, 'lays': 2033, 'xrabj6x9ut': 3875, 'petition': 2639, 'हफ': 4226, 'tajinderbagga': 3379, 'k5airchuhg': 1870, 'je': 1794, 'age': 290, 'productivity': 2765, 'high': 1525, 'trends': 3525, '1rbktg6cck': 42, 'deal': 925, 'saying': 3089, 'ayurveda': 469, 'tens': 3419, 'dipped': 997, '9sfrwrpjhb': 185, 'em': 1129, 'thank': 3440, 'no': 2427, 'thepushpendra_': 3455, 'অত': 4230, 'रक': 4178, 'quickly': 2836, 'hind': 1532, 'hyd4jnrvnz': 1599, 'path': 2604, 'दक': 4113, 'tadipaar': 3375, 'south': 3242, 'custody': 895, 'taman': 3390, 'light': 2064, 'डल': 4096, 'uncqgvdk7j': 3586, 'updates': 3606, 'କଙ': 4359, 'respectable': 2957, 'divorce': 1017, 'আৰ': 4238, 'closed': 806, 'सल': 4219, 'हनत': 4225, 'educated': 1104, 'enyy8ut1ys': 1154, 'mercy': 2222, 'nikala': 2412, 'टल': 4093, 'jawaharlal': 1787, 'rtdi8ndpef': 3010, 'ષન': 4349, 'vasundhara': 3672, 'kar': 1894, 'hardik': 1477, 'rw': 3020, 'wishes': 3813, 'orgulloso': 2526, 'blind': 617, 'যই': 4280, 'up': 3602, 'black_day_india_economy': 610, '3dpkqzgfkb': 88, 'arac4lqfrl': 393, 'face': 1200, 'create': 875, 'n2o3frfvx8': 2337, '0etvuhyvbc': 6, 'pgnob3dmlf': 2640, 'बल': 4154, 'credibility': 877, 'teptcxvxhi': 3421, 'commodit': 823, '2018': 53, 'ಒತ': 4410, 'respective': 2959, 'જપમ': 4318, 'multiple': 2308, 'manmohan': 2166, 'gielnn3ayq': 1365, 'capt_amarinder': 706, 'यद': 4174, 'xyqww0ipiv': 3882, 'aqc5fpdmbt': 388, 'aqubk8qjni': 391, 'rs6mms5k5t': 3005, 'strong': 3303, 'ऐकत': 4045, 'disband': 1004, 'ne': 2384, 'uilwlbwgkz': 3577, 'কৰ': 4247, 'yea': 3903, 'look': 2098, 'nearly': 2386, 'diwali': 1018, 'several': 3141, 'message': 2225, 'सर': 4217, 'hm': 1546, 'es': 1160, 'forgive': 1286, 'now': 2444, 'bg7rfwtysb': 565, 'osdugmb1eq': 2530, 'delegitimise': 945, 'hegemony': 1505, 'qzloihixfu': 2838, 'rakha': 2870, 'dam': 908, 'raiser': 2858, 'hu7q9tvdjj': 1578, 'works': 3832, 'aggarwal': 291, 'graduating': 1413, 'piñera': 2656, 'sari': 3073, 'gover': 1404, 'loksevanews': 2096, 'hours': 1568, 'கள': 4391, 'டம': 4392, 'arrest': 417, 'drnpokhriyal': 1065, 'reach': 2893, 'yadav': 3892, 'rajneeti': 2866, 'sarojpandeybjp': 3076, 'hands': 1465, 'yachwifunm': 3891, 'lekin': 2048, 'mr': 2291, 'muslims': 2322, 'இல': 4385, 'jsqxaxalv0': 1853, 'शव': 4205, 'biznrjv5gh': 599, 'motu': 2282, 'jge5cociiu': 1805, 'बदलन': 4148, 'projects': 2770, 'heralded': 1515, 'jgfplctrpm': 1806, 'small': 3215, 'सम': 4215, 'abki': 236, 'jit': 1819, 'position': 2702, 'jc1wwjzlel': 1791, 'hopes': 1565, 'guilty': 1435, 'w7vo4ghhua': 3740, 'w8wymrivpu': 3741, 'डस': 4097, 'turnover': 3551, 'proof': 2775, 'mei': 2210, 'xal6bixoez': 3860, 'qf5psfyvxm': 2816, 'elections': 1126, 'नब': 4120, 'adalah': 263, 'honorable': 1561, 'ezmy6fzlyi': 1195, 'sucherita_k': 3317, 'anand_mishra98': 347, 'dsqsjkcdtq': 1071, 'chijo': 776, 'desperate': 961, 'hesitate': 1517, 'dropout': 1066, 'eh7xzsmqud': 1112, 'selfish': 3121, 'criticise': 880, 'cure': 891, 'sdtvkfliyx': 3103, 'macron': 2129, 'hai': 1455, 'reason': 2904, 'taki': 3383, 'হচ': 4294, 'whereas': 3795, 'khan': 1936, 'spineless': 3251, 'nawaz': 2374, 'rtwl9e7yh4': 3012, 'officialarnab9': 2487, 'boycott': 642, 'indiausa': 1671, 'ro': 2987, 'thankful': 3441, 'donald': 1043, 'interference': 1705, 'ye': 3902, 'shouldn': 3181, 'did': 982, 'k5zrs4iyjq': 1871, 'pagareharish1': 2562, 'anniversary': 360, 'भगदड': 4157, 'fascistmodimuslim': 1219, 'मर': 4167, 'she': 3168, 'masters': 2187, 'dizer': 1024, 'वध': 4198, 'ಕಗ': 4411, 'bat': 516, 'accession': 249, 'independence': 1662, 'surat': 3343, 'இன': 4384, 'sol7sfgnxe': 3226, 'wdwcc2gz80': 3767, 'rs7nary2xw': 3006, 'narendramodi': 2364, 'big': 590, 'before': 540, '1400': 21, 'question': 2834, 'nawab': 2373, 'yiuseppe': 3911, 'kangana': 1890, 'disgusting': 1007, 'adarniya': 265, 'keep': 1922, 'x8ljbcihf7': 3857, 'gaya': 1337, 'x9lc7olui4': 3858, 'om': 2501, 'video': 3689, 'prices': 2752, 'fellas': 1234, '7zgxo7evqh': 158, 'আম': 4236, 'yrs': 3932, 'witnessing': 3820, 'ullrq5zzcx': 3580, 'reliant': 2929, 'punyaprakop_': 2800, 'enabler': 1137, 'लगत': 4192, 'scientists': 3099, 'areas': 397, 'fascist': 1218, 'nota': 2436, 'angry': 353, 'aakhir': 211, 'meghupdates': 2207, 'level': 2054, 'jeevan': 1797, 'odsc4fycws': 2476, 'ଆମ': 4353, 'jo': 1830, 'z1ebwzqzfi': 3941, 'towards': 3511, 'style': 3310, 'chaired': 746, 'honey': 1560, 'by': 681, 'chee_newz': 771, 'innlogoko': 1693, 'mmn6vsmmnl': 2257, 'rwnekvjeyq': 3021, 'farmers': 1215, 'mumbaipolice': 2311, 'qnyirnmrmq': 2825, 'asv8vaxczn': 436, 'heads': 1501, 'gimail': 1366, 'নন': 4264, 'blossom': 623, 'aptly': 387, 'narendra': 2361, 'mantri': 2174, 'stock': 3293, 'લવ': 4342, 'yxtptjkogg': 3940, 'गय': 4070, 'खण': 4066, 'urgent': 3615, 'baat': 477, 'raise': 2857, '3e0aqr6ge7': 89, 'kisike': 1949, 'my_lyff': 2329, 'retweets': 2968, 'wq5hlooogs': 3840, 'yes': 3908, 'वड': 4196, 'jarurat': 1782, 'director': 1000, 'who': 3799, 'he': 1497, 'taloj': 3388, 'jfsfnlf4az': 1804, 'divali': 1015, 'ramkid': 2872, 'less': 2049, 'aayenge': 226, 'antonio': 366, 'vikram_2504': 3695, 'wuuyj96aap': 3849, 'mem': 2213, 'ieqjupxsjw': 1618, '2o5wltlhja': 72, '75ljnvosu7': 140, 'akshay': 310, 'rkradhakrishn': 2985, 'બહ': 4334, 'viwvg8mcw3': 3709, 'জওহরল': 4254, 'goswam': 1399, 'kingdom': 1947, 'gov': 1403, 'toushniky': 3510, 'anos': 362, 'રહ': 4341, 'opponents': 2522, 'strict': 3302, 'ameetdmello': 330, 'પણ': 4329, 'sunetrac': 3326, 'satta': 3079, 'murderer': 2318, 'അസ': 4448, 'size': 3208, 'cclranchi': 722, 'kyoki': 1995, 'पहल': 4138, 'karte': 1907, 'dushyant': 1081, 'sense': 3129, 'memorial': 2215, 'rhzmtbfxqc': 2975, 'seats': 3110, 'j5abepeltn': 1754, '74osyjhvzg': 137, 'abcqzlblvn': 229, 'demo': 948, 'recognition': 2909, 'iin': 1623, 'ಗಗನಕ': 4414, 'join': 1836, 'fydy6xjanu': 1322, 'oz6wf43g68': 2553, 'pdkpxdau1h': 2616, 'sleeping': 3212, 'rhea': 2974, 'court': 868, 'gandhi': 1332, 'winner': 3807, 'drew': 1060, 'decades': 930, 'ypgxql57mm': 3929, 'rupeshthe1st': 3016, 'para': 2581, 'll': 2083, 'pressfreedom': 2748, 'टरव': 4092, 'tqdroksrvu': 3513, 'बघ': 4140, 'imamofpeace': 1634, 'yuva': 3934, 'below': 549, 'sanginamby': 3066, 'sleepy': 3213, 'usne': 3631, 'आई': 4007, 'likes': 2066, 'chahera': 742, 'v2nvfn0sid': 3651, 'paading': 2557, 'army': 404, 'livelawindia': 2079, 'promoting': 2773, 'rev': 2970, 'talk': 3386, 'dipahindustani2': 995, 'y992lkw6ht': 3887, 'medal': 2201, 'hollywood': 1556, 'ગરભ': 4317, 'with': 3818, 'ନତ': 4364, 'number': 2458, 'toda': 3499, 'wali': 3750, 'investigate': 1713, 'ek': 1117, 'illegal': 1632, 'બન': 4333, 'हर': 4229, 'ideal': 1614, 'tributes': 3527, 'qplnplvlqt': 2830, 'think': 3464, 'staple': 3280, 'jcprhysf1e': 1793, 'l4lkhth0fs': 2000, 'gopu54269062': 1397, 'କଠ': 4360, 'launched': 2026, 'मल': 4168, 'like': 2065, 'clear': 802, 'नय': 4122, 'णब': 4098, 'filmmakers': 1250, 'voters': 3723, 'tiwari_sintu999': 3487, 'aisa': 305, 'સન': 4350, 'pst': 2790, 'उनक': 4035, 'modi': 2263, 'fate': 1221, 'gruh': 1428, 'var': 3667, '0e3oucu8hu': 4, 'w9fcbflmcs': 3742, 'jaisa': 1768, 'masood__khan': 2183, 'encsp77oaj': 1138, 'nehajaatni123': 2391, 'soldiers': 3227, 'practices': 2723, 'improve': 1640, 'amitshah': 337, 'going': 1390, 't1ckjgn3xy': 3372, 'ja': 1757, 'rinkal1100': 2980, 'bu': 661, 'യത': 4459, 'davn14d0hr': 918, 'शन': 4204, '12hdsmnhux': 16, '7ezcyydado': 145, 'original': 2527, '543se': 105, 'ambedkar': 329, 'happy': 1470, 'hun': 1589, 'जप': 4082, 'barandbench': 513, 'tuesday': 3542, '90s': 174, 'bright': 650, 'nutrition': 2461, 'their': 3448, 'yqhih0pqse': 3930, 'questioning': 2835, 'injustice': 1692, 'burden': 668, 'policenama': 2685, '2od3u1ftss': 74, '22': 57, 'hui': 1582, 'zq6q9jf25e': 3971, 'surakshya': 3342, 'an': 344, 'armada': 403, 'mehul': 2209, 'team': 3406, '3zxlknyktp': 98, 'success': 3315, 'prakashjavdekar': 2730, 'sheeshe': 3169, 'tej': 3410, 'main': 2141, 'manoj': 2171, 'yuvrajkhanna_': 3935, 'ইত': 4239, 'करन': 4060, 'born': 639, 'fact': 1201, 'punisharnab': 2798, 'counts': 864, '3ogmwllsak': 96, '17': 26, 'bless': 616, 'sal': 3051, 'his': 1539, 'minute': 2249, 'vgmp5ak0eg': 3683, 'young': 3922, 'step': 3290, 'zpsnyzadlc': 3970, 'kecx7ksbxz': 1920, 'towardsdharma': 3512, 'mod': 2262, 'legislative': 2047, 'hw3xwrksmx': 1593, 'speech': 3249, 'positive': 2703, 'glove': 1376, 'हम': 4228, 'leader': 2036, 'অবস': 4231, 'arnabofficiai9': 412, 'honourable': 1562, 'follow': 1276, 'xi': 3866, 'inform': 1685, 'etejytw5wy': 1166, 'তব': 4261, 'sunday': 3325, 'bully': 666, 'democracy': 949, 'develop': 967, 'sg4ynnlm7w': 3145, 'pakistan': 2571, 'odtggnqvtl': 2477, 'arnab_goswami3': 408, 'supported': 3334, 'see': 3114, 'hxkiusimn0': 1597, 'primeminister': 2755, 'tjaeinuuno': 3489, 'tum': 3544, 'اہم': 3983, 'du': 1073, 'johnson': 1835, 'aatmanirbhar': 223, 'journalist': 1843, 'arm': 402, 'lady': 2009, 'ijyb8qyhg6': 1626, 'tyauy2buwh': 3561, 'penguin': 2621, 'decision': 933, 'har': 1471, 'z8xdupe5ct': 3946, 'sun': 3324, 'aukat': 450, 'annoyed': 361, 'खक': 4065, 'গঠন': 4248, 'रदय': 4182, 'someone': 3231, 'wanting': 3754, 'supporting': 3337, 'labour': 2004, 'rebeldes': 2905, 'भवर': 4160, 'rdk54l23mb': 2891, 'resi': 2951, 'gx4turkest': 1445, 'thinking': 3465, 'একজ': 4241, 'moreis05': 2276, 'कर': 4057, 'september': 3132, 'adap': 264, 'caution': 716, 'झर': 4088, 'sad': 3036, 'ban': 501, '25000': 60, 'کیا': 3990, 'પર': 4330, 'selfishness': 3122, 'intervention': 1709, 'common': 825, 'passed': 2598, 'rock': 2989, 'nhiftynem2': 2407, 'gmgargbdbj': 1378, 'रध': 4184, 'lzfjhr0nsr': 2118, 'would': 3837, 'zeenews': 3954, 'pramaan': 2731, 'rejuvenates': 2925, 'babitaphogat': 479, 'sanjiv': 3067, 'reaping': 2903, 'transparency': 3522, 'सत': 4209, 'fans': 1212, 'tag': 3376, 'mentioned': 2220, '2fzulgulyp': 68, 'telangana': 3415, 'solution': 3228, 'ଉଚ': 4356, 'ppiwyedez5': 2715, 'member': 2214, 'lahore': 2012, 'chart': 763, 'disagree': 1002, 'developing': 968, 'patti': 2607, 'muzaffarpur': 2325, 'hunted': 1591, 'local': 2087, 'jana': 1775, 'ucgo0pmnvi': 3571, 'shat': 3167, 'zehoro97cl': 3955, 'ocyhqtvnho': 2474, 'બધ': 4332, 'en': 1136, 'progress': 2769, 'txk9nmxb4m': 3560, 'policies': 2687, 'supporters': 3336, 'crpaatil': 883, 'dvjzfhaym6': 1083, 'too': 3506, 'erzwlyuqcm': 1159, 'panja': 2575, 'ab': 228, 'priest': 2753, 'into': 1710, 'v1xub7nria': 3649, 'karbadh': 1895, 'spok': 3253, 'key': 1930, 'hello': 1509, 'qjgqgdenge': 2822, 'आडव': 4013, 'x7kitijhi3': 3856, '182defpkks': 27, 'cjijmwkdia': 797, 'uttar': 3638, 'upyog': 3609, 'firm': 1257, 'vocalforlocal': 3718, 'सज': 4208, 'કરવ': 4312, 'jxd7raarev': 1866, 'your': 3923, 'social': 3224, 'both': 640, 'letter': 2052, 'r119bxhc66': 2841, 'ch': 740, 'indics': 1673, 'madad': 2130, 'avoid': 459, 'bail': 495, 'ihejacp3gm': 1621, 'x2ovfrr5uf': 3855, 'xuzwybytva': 3878, 'હશ': 4351, 'ଗର': 4362, 'setting': 3140, 'jirania': 1818, 'tdpsatish': 3404, 'imsushcartoon': 1644, 'idea': 1613, 'xpzflx0us3': 3873, 'world': 3834, 'vivekananda': 3707, 'chief': 775, 'djxzoixiuw': 1026, 'phenomenal': 2643, 'loyalties': 2110, 'ಸಬ': 4446, 'vision': 3704, 'thrust': 3477, 'sbi': 3092, 'four': 1293, 'what': 3790, 'shipping': 3174, 'good': 1394, 'shud': 3190, 'kashmir': 1910, 'lostsoul_apu': 2106, 'uua32hlvnr': 3643, 'joining': 1837, 'request': 2947, 'mail': 2140, 'kyee9mackf': 1992, 'fix': 1264, 'lists': 2075, 'bwxd4j9jbq': 679, 'neither': 2394, 'west': 3784, 'fjquvzshsf': 1265, 'r0000ayw4k': 2840, 'kutia': 1987, 'jerusale': 1801, 'band': 505, 'ahead': 300, 'zbdexygbqh': 3950, 'type': 3562, 'vinmra': 3697, 'emphasized': 1133, 'thanks': 3442, 'pehchan': 2619, 'बदलकर': 4147, '30': 82, 'w2wpku9uaa': 3738, 'rti': 3011, 'saudi': 3081, 'उत': 4032, 'rajnathsingh': 2865, 'note': 2437, 'ya': 3889, 'agrees': 297, 'past': 2600, 'más': 2335, 'तरफ': 4106, 'shgk8pstju': 3173, 'गज': 4069, 'expressing': 1191, 'her': 1514, 'paid': 2566, 'plan': 2657, 'acting': 257, 'ya5fjyto4r': 3890, 'manage': 2157, 'sealed': 3107, 'supporter': 3335, 'engaged': 1144, 'bootlicking': 637, 'बड': 4142, '7uyjppo5iz': 155, 'kaijjorrf9': 1879, '75th': 141, 'yehin': 3907, 'might': 2234, 'iy654k73dj': 1750, 'njufcdeprd': 2422, 'പണ': 4458, 'ik': 1628, 'modijee': 2265, 'prachar': 2722, 'weakening': 3770, 'urqpcdllq2': 3618, 'reminder': 2933, 'recently': 2908, 'specs': 3247, 'so1u6nay8p': 3222, 'timesnow': 3485, 'ipl2020': 1724, 'rawnksood': 2889, '202': 55, 'digital': 985, 'education': 1105, 'રબ': 4339, 'u3zdnbyebw': 3567, 'sx0ccj2jvw': 3363, '20': 46, 'limits': 2068, 'lhjsc1qpjt': 2059, 'azad': 470, 'thrown': 3476, '7gxkuhd9fk': 147, 'aapse': 219, 'mhgybboh1o': 2229, 'yobg9smqsq': 3917, 'kumari': 1984, 'mahiway_7': 2138, 'ni4gv8wmdd': 2409, 'devirupam': 971, 'cc5n43kppg': 721, 'nar': 2355, 'building': 664, 'karta': 1906, 'talaq': 3385, 'f1uihcw5mg': 1197, 'than': 3439, 'flywithix': 1271, 'created': 876, 'laws': 2029, 'actress': 260, 'curtain': 894, 'process': 2763, 'menos': 2218, 'gncz8ifggm': 1381, 'wwg1gwa': 3850, 'bharatiya': 574, 'byronyork': 683, 'while': 3798, 'future': 1319, 'adore': 274, 'ally': 319, 'adhirrcinc': 269, 'oo5wzuzbnk': 2511, 'complete': 827, 'znotvkukgu': 3967, 'zxblbo1esk': 3977, 'unfollow': 3590, 'live': 2077, '16': 25, 'গতবছর': 4250, 'freedomofspeech': 1303, 'someday': 3230, 'arrested': 419, 'મન': 4335, 'weav': 3773, 'prov': 2784, 'q882nulgne': 2812, 'id': 1612, 'fist': 1259, 'ma3s3qvrr3': 2126, 'mrqbbdoyek': 2293, 'आश': 4021, 'cinco': 792, 'दव': 4117, 'usmanal05952010': 3630, 'lgw49gunyw': 2058, 'threat': 3472, 'generations': 1345, 'm70xibxgv1': 2123, 'qh9entgsgq': 2818, '4kaytzeiqf': 101, 'जत': 4079, 'harinakhola': 1479, 'friendly': 1307, 'iamaatmanirbhar': 1609, 'ରମ': 4375, 'vqxzgilzsg': 3729, 'jaise': 1769, 'befriended': 541, 'medical': 2203, 'roopaspeaks': 2995, 'उभ': 4038, 'ಪತ': 4424, 'gujju': 1437, 'jaega': 1760, 'gruha': 1429, 'after': 285, 'hiding': 1524, 'swayamsevak': 3360, 'palghar': 2574, 'नवम': 4126, 'vladimir': 3713, 'ck5d0nd3dx': 799, 'bug3wfgvgj': 663, 'rahul': 2852, 'katalyst': 1911, 'stream': 3300, 'driving': 1062, 'myogiadityanath': 2332, 'acharya': 253, 'sit': 3206, 'gvhyrzyg2a': 1443, 'voting': 3724, 'hfnmj70f7w': 1518, 'কসভ': 4246, 'jaikisan': 1764, 'चन': 4077, 'terms': 3424, 'bqmib2nlgb': 646, 'bhavesh': 577, 'पत': 4131, 'how': 1569, 'god': 1385, 'kalli': 1884, 'wepau0r01r': 3782, 'isn': 1739, 'तक': 4100, 'ಒಟ': 4409, 'love': 2108, 'dsc509a0gd': 1070, 'acc': 246, 'accepted': 248, 'episodes': 1155, 'ઉજવણ': 4309, 'hh5tlnrovo': 1521, 'gggnnddd': 1357, 'waw9xxxzja': 3762, 'sexual': 3142, 'aren': 399, 'mundaa': 2313, '15': 24, 'janardanmis': 1776, 'l1cq0bqodb': 1997, 'nonsense': 2431, 'qnyw9r6a3t': 2826, 'anrab': 364, 'isi': 1734, 'ವರ': 4438, 'हण': 4222, 'top': 3507, 'adshivendra': 276, 'pains': 2569, 'lr6tfekmqv': 2112, 'y9h1bj11wn': 3888, 'neamz4efkr': 2385, '85': 160, 'nsg': 2452, 'aapka': 215, 'mamatabanerjee': 2153, 'lesserfrederick': 2050, 'tamil': 3391, 'ur': 3611, 'सकत': 4207, 'anymore': 369, 'mi': 2231, 'xnmbmzdb2g': 3871, 'benefit': 552, 'vcub86n8vk': 3674, 'तरस': 4107, 'crore': 881, '1hrs6qmupj': 35, 'freind': 1304, 'nutrisi': 2460, 'center': 730, 'one': 2504, 'kal': 1881, 'இலங': 4386, 'wfd9lvuit3': 3788, 'loses': 2103, 'shakti': 3154, 'saal': 3029, 'swamy39': 3357, 'xmscmmyufv': 3869, 'hoga': 1553, 'attempts': 446, 'sportsm': 3258, 'nahi': 2346, 'ବଙ': 4367, 'kmiuzft44n': 1958, 'elementos': 1127, 'tbyrirsvjf': 3402, 'selected': 3119, 'aml85o61ju': 339, 'prasad': 2734, 'makes': 2150, 'unfollowed': 3591, 'bl0bnk61ml': 608, 'door': 1047, 'per': 2626, 'abno3pj0nz': 238, 'vanitajain21': 3666, 'zxppgmlmqt': 3979, 'drsjaishankar': 1068, 'णस': 4099, 'rao': 2880, 'si6f17ptys': 3194, 'sb': 3091, 'ravishndtv': 2888, 'whenever': 3793, 'fine': 1254, 'provide': 2786, 'murdered': 2317, 'bo4kpdmwdq': 625, 'realising': 2901, 'utbmt54mk5': 3634, '9vtcmjw2lj': 187, 'sureshsambandam': 3347, 'eg': 1111, 'move': 2285, 'smritiirani': 3219, 'xclxdsd5ix': 3861, 'urgently': 3616, 'gd': 1340, 'ದತ': 4420, 'evening': 1172, 'ऐप': 4046, 'portfolio': 2700, 'hoon': 1563, 'eyfhsqzrpu': 1194, 'terminal': 3423, 'तह': 4111, 'gold': 1391, 'dmhhskhok9': 1032, 'since': 3199, 'annivers': 359, 'helping': 1512, 'six': 3207, 'intervene': 1708, 'doubt': 1051, 'dlvxhuig40': 1030, 'actual': 261, 'sector': 3112, '1325707315744440325': 18, 'offensive': 2483, 'yogiadityanath': 3920, 'addresses': 267, 'government': 1406, 'humare': 1585, 'poojafanforever': 2695, 'rsexu5xjdm': 3007, 'headline': 1499, 'svuyvosr4f': 3354, 'afraid': 283, 'iw00sebfkn': 1747, 'jeet': 1796, 'confrontación': 838, 'effective': 1108, 'मव': 4169, 'ବଳ': 4370, 'greeted': 1420, 'people': 2624, 'ഗത': 4454, 'admire': 273, 'things': 3463, 'w076nzcths': 3736, 'रह': 4189, 'condole': 833, 'sharad': 3160, 'despite': 962, 'wins': 3809, 'नव': 4125, 'noting': 2441, 'gfch1eanhf': 1353, 'ktv3lds1as': 1977, 'foundations': 1292, 'तन': 4102, 'drlekhashree': 1064, 'कह': 4063, 'pr': 2718, 'efforts': 1109, 'predi': 2741, '0c2mnumkb9': 3, 'nsm2f2ifjr': 2453, 'harami': 1472, 'greets': 1422, 'yp8svdbeb5': 3928, 'hateful': 1489, 'perhaps': 2629, 'ranaayyub': 2874, 'rehe': 2921, 'zee': 3953, 'ssr': 3275, 'parro': 2591, 'ভগ': 4276, 'write': 3841, 'pune': 2796, 'intrupt': 1712, 'a9k6rpuv57': 201, 'जनत': 4081, '9th': 186, 'same': 3058, 'joshipralhad': 1841, 'dissatisfaction': 1010, 'khatra': 1939, 'el': 1121, 'आए': 4008, 'વર': 4346, 'દર': 4323, 'tmkdexmqfj': 3493, 'आग': 4011, 'gya': 1447, '2019': 54, 'del': 944, 'dorcygb9jo': 1048, 'kripya': 1973, 'uttarakhand': 3639, 'behavior': 542, 'city': 794, 'surgical': 3348, 'anuragsinghis4u': 367, 'ha': 1451, 'prarthna': 2733, 'policenama1': 2686, 'diresmikan': 1001, 'harassed': 1473, 'ಸನ': 4445, 'economic': 1101, 'sure': 3344, 'fed': 1230, 'janta': 1780, 'coiwfpunvf': 815, 'available': 456, 'saath': 3030, 'heard': 1502, 'जय': 4085, 'this': 3466, 'focus': 1274, 'કર': 4311, 'visionary': 3705, 'उन': 4034, 'sateek': 3077, 'bad': 486, 'lot': 2107, 'salute': 3056, 'jitu': 1821, 'kqw3bqjc0g': 1969, 'eatdxtc0hz': 1098, 'new': 2399, 'avn': 458, 'opposition': 2524, 'man': 2156, 'home': 1557, 'shankhnaad': 3158, 'comrade': 829, 'down': 1053, 'movie': 2287, 'everybody': 1176, 'narendramodi_in': 2366, 'trump': 3532, 'gauravbh': 1334, 'बरत': 4153, 'zjaij2z05g': 3962, 'planes': 2658, 'governor': 1407, 'hint': 1538, 'without': 3819, 'the__profess0r': 3445, '1ihawskjuv': 36, 'kaashimishra': 1874, 'मह': 4171, 'nrc': 2448, 'जन': 4080, 'sgwvl2lmqy': 3147, 'can': 700, 'lm5ajlg9uz': 2084, 'result': 2965, 'china': 778, 'shaha': 3152, 'liapbfhiza': 2061, 'blackmoney': 611, 'aapke': 216, 'november': 2443, '2002': 48, 'jnu': 1826, 're': 2892, 'businesses': 672, 'loosing': 2100, 'abhinandan': 232, 'teamsarnab': 3407, 'movement': 2286, 'craftsmen': 874, 'read': 2894, '13yrs': 20, 'ixisilcmm0': 1749, 'ಕಟ': 4412, 'chahta': 744, 'says': 3090, 'उनल': 4036, 'nthwn9afec': 2455, 'pmoindia': 2679, 'deshbandhunews': 957, 'aage': 207, 'लग': 4191, 'followed': 1277, 'jobs': 1832, 'கட': 4389, 'ଆସନ': 4355, 'nivedita': 2420, 'दर': 4114, 'পণ': 4268, 'ajit': 307, 'including': 1653, 'prosper': 2779, 'rrxok4djxz': 3003, 'nvlnjuz2f4': 2463, 'bslbzvr9pl': 660, 'vallés': 3663, 'कब': 4054, 'ଭର': 4371, 'इय': 4029, 'मतलब': 4163, 'price': 2750, 'mass': 2184, 'chal': 748, '10': 13, 'wish': 3811, 'bombay': 635, 'desi': 960, 'narendra_modeee': 2362, 'ndtv': 2382, 'victory': 3687, 'bharat': 572, 'rahega': 2850, 'ଆତ': 4352, 'parliament': 2587, 'tho': 3469, 'are': 396, 'coalfields': 813, 'vcokyoxtvs': 3673, 'article': 421, 'irani': 1728, 'rohit58_': 2991, 'infrastructure': 1687, 'outside': 2540, 'bamboo': 500, 'ybp4t0bhjv': 3898, 'paagal': 2558, 'ಗಳನ': 4416, 'justin': 1864, 'become': 535, '6urhwwkmpc': 131, 'ofkzn2qogd': 2488, 'line': 2069, 'ngm0yyag6d': 2405, 'z4onojzsjm': 3943, 'idzvdn44zt': 1617, 'hay': 1493, 'uyfru2vqea': 3646, 'nrh18jv75b': 2449, 'próximo': 2788, 'diya': 1020, 'दरब': 4115, 'otherwise': 2533, 'kiya': 1954, 'm6hxbe0s4b': 2122, 'parallel': 2583, 'arnav': 414, 'awbvdztxgm': 464, 'parmesh214': 2589, 'rr5ke0p5xx': 3002, 'regulations': 2920, 'tu': 3541, 'under': 3587, '1u9rpd9r3i': 44, 'behind': 543, 'tweat': 3554, 'north': 2434, 'mvp0fmyeqz': 2326, 'isamelissams': 1731, 'ಕಲ': 4413, 'aadmi': 206, 'entre': 1153, 'आइए': 4005, 'idiotic': 1616, 'prudent': 2787, 'art': 420, 'kanika': 1892, 'fossilfuel': 1290, 'few': 1242, 'এন': 4242, 'men': 2216, 'inspired': 1699, 'fight': 1247, 'multiplication': 2309, 'wobwpreyu9': 3823, 'sept': 3131, 'wisdomed': 3810, 'pib_india': 2647, 'involved': 1719, 'stoltenberg': 3294, 'n3dcuhctcj': 2338, 'നമന': 4456, 'kariye': 1899, 'etw9zkalo9': 1168, 'reopen': 2937, 'typically': 3563, 'कल': 4061, 'overthrow': 2543, 'vots': 3725, 'h4dqry4t8s': 1448, 'restore': 2964, 'ಯಲ': 4432, 'z6kfirccsc': 3944, 'बदल': 4146, 'mvvwwns1h1': 2327, 'olavo': 2498, 'pradhanmantri': 2726, 'long': 2097, 'minimum': 2244, 'bjpbiplab': 605, 'cuqnfjcu3t': 889, 'russia': 3018, 'jesuit': 1802, 'value': 3664, 'own': 2545, 'एम': 4044, 'pension': 2622, '5mkbs6vgg1': 113, 'entire': 1151, 'cuttack': 897, 'com': 817, 'truth': 3535, 'patwari': 2608, 'watch': 3759, 'dilemma': 992, 'master': 2186, 'th': 3434, 'increased': 1657, 'open': 2515, 'अपन': 3999, 'banerjee': 507, 'will': 3805, 'bomb': 634, 'pcmohanmp': 2615, 'jobi': 1831, '09': 1, 'reddy85227119': 2911, 'hoarding': 1552, 'ತರ': 4418, 'bar': 512, 'v1fnkfjd9z': 3648, 'जक': 4078, 'artisans': 424, 'all': 315, 'rate': 2884, 'murder': 2316, 'rohan': 2990, 'ymt8hiayjp': 3916, 'attached': 444, 'even': 1171, 'आपल': 4017, '19': 29, 'gujarat': 1436, 'ks0cd38stl': 1975, 's67rjym4au': 3024, 'rise': 2984, 'jupiter_astro': 1860, 'those': 3470, 'pbhushan1': 2613, 'breitbartnews': 649, 'आइय': 4006, 'saipapu': 3047, 'mamle': 2154, 'sharp': 3166, 'responsible': 2961, 'https': 1576, 'ou': 2535, 'nor': 2432, 'dna': 1033, 'hain': 1456, 'dpzczz2sj5': 1056, 'wrote': 3844, 'बनत': 4151, 'yxdhp7btym': 3939, 'amaa': 326, 'sharing': 3164, 'xrmg3rmtit': 3876, 'three': 3473, 'cm': 807, 'bd5ou7ntaw': 526, 'mante': 2173, 'd1iymyherl': 902, 'jair': 1767, 'भर': 4158, 'chanel': 756, 'jaiwanth1': 1770, 'incomes': 1655, 'j7of8yl3kq': 1755, 'manya': 2177, 'गर': 4071, 'jjrsjbznkf': 1822, 'political': 2692, 'rail': 2854, 'goods': 1395, '9714wwpnhk': 177, 'remarkable': 2930, 'whether': 3796, 'jiiiiiii': 1812, 'utar': 3633, 'onion': 2506, 'dreaming': 1059, '2lbbt9fpjp': 70, 'qojjbaygku': 2829, 'according': 251, 'loca': 2086, 'promoted': 2772, 'hgalddiqvk': 1519, 'fell': 1232, 'zvcvdqv0mo': 3975, 'sadhvi': 3039, 'puri': 2802, 'prayas': 2740, 'fervent': 1239, 'nhi': 2406, 'sof0wxzerc': 3225, '75': 138, 'scosummit': 3101, 'restless': 2963, 'mouthpiece': 2284, 'busy': 673, 'வள': 4398, 'bjp4india': 603, 'રણ': 4337, 'pahili': 2564, 'हब': 4227, 'mil': 2236, '5oblqzodrh': 114, 'koduku': 1963, 'inactio': 1646, 'kivbd21ztg': 1953, 'चण': 4076, 'tejasvi_surya': 3413, 'l8dwb9ub1y': 2002, 'conte': 853, 'rifle': 2977, 'xuxoz7neul': 3877, 'singular': 3203, 'amitmalviya': 336, 'repeat': 2938, 'shadabmadni9': 3150, 'underst': 3588, 'a8kcefk4io': 200, 's9zmp14j6l': 3025, 'ask': 431, 'italian': 1743, 'felt': 1237, 'ojt22ld49y': 2496, 'westandforssr': 3785, 'v6osfcmvwl': 3652, 'himmat': 1530, 'ఉత': 4399, 'link': 2071, 'ycs4fa8olm': 3899, 'else': 1128, 'arasada': 395, 'vocal': 3716, 'mar': 2179, 'gre': 1417, 'continuity': 856, 'impos': 1638, 'amp': 342, 'ravinan30310294': 2886, 'jp43ohlrtb': 1845, 'delhi': 946, 'such': 3316, 'why': 3802, 'లన': 4402, 'populism': 2699, 'suppot': 3339, 'notes': 2438, 'gfo17os1e5': 1355, 'z8ngnrr0gm': 3945, 'bahot': 493, 'पमध': 4134, '97ljb3zxyn': 178, 'ivnuigkznp': 1746, 'savukku': 3085, 'boris': 638, 'ரதமர': 4396, 'exchange': 1182, 'goelgauravbjp': 1388, 'hsa3tdjhit': 1575, 'finally': 1251, 'na': 2344, 'puch': 2794, 'interrogante': 1707, '40': 99, '77': 142, 'swodoiwbz8': 3362, 'pradesh': 2724, 'opindia_in': 2521, 'sensing': 3130, 'u3sykekfqb': 3566, 'conexiones': 836, 'min': 2241, 'ಪಸ': 4426, 'bhrugubjp': 583, 'c6udar3jwz': 689, 'hemant_ghai': 1513, 'freedom': 1302, 'arnsb': 415, 'jata': 1785, 'oydok7zgfs': 2550, 'congress': 844, 'sh98efcisi': 3149, 'grass': 1415, '232': 58, 'free': 1299, 'ghus': 1363, 'nidhi_republic': 2410, 'participate': 2594, 'bbcworld': 523, 'railway': 2856, 'ni': 2408, 'ଶର': 4379, 'shun': 3191, 'bars': 515, 'ரஸ': 4397, 'pakodas': 2572, 'sath': 3078, 'dallas': 907, '5lzb79qzfd': 112, 'za5ncsgnll': 3947, 'properly': 2777, 'anyone': 370, 'baaz': 478, 'iit': 1624, 'ibhp5tplkv': 1610, '000': 0, 'whose': 3801, '0en4vocnux': 5, 'released': 2927, 'med': 2200, 'personality': 2636, 'grudge': 1427, 'yoc7cqviix': 3918, 'ogxf35oxt4': 2493, 'spot': 3260, 'smartcity': 3216, 'suru': 3351, 'rip': 2983, 'over': 2541, 'purush': 2803, 'ots': 2534, 'bjp4bengal': 601, 'gai': 1327, 'least': 2043, 'dog': 1038, 'liya': 2080, 'जर': 4086, 'a2vbthjdab': 194, 'connect': 846, 'arnab': 406, '1oyvreyjm1': 41, 'yqifurxvk4': 3931, 'n7a4jjlu4t': 2341, 'vah': 3657, 'workers': 3830, 'muscatphoto': 2320, 'publish': 2793, 'doesn': 1037, 'अध': 3996, 'singh': 3201, 'islie': 1736, 'अक': 3994, 'f8xmq2kmnf': 1198, 'gscbknh21x': 1430, 'e7r9vhaehq': 1091, 'lxjrbwgkww': 2117, 'wit': 3815, 'पर': 4136, 'ministers': 2247, 'jkf9pws4i8': 1824, 'abhishekschoud3': 234, 'know': 1960, 'veda_padma': 3676, 'fly': 1270, 'ધન': 4325, 'aqi9vrgqrs': 389, 'জক': 4255, 'ળમ': 4343, 'talking': 3387, 'pass': 2597, 'more': 2275, 'jald': 1772, 'jiiii': 1811, '8omv4cgzo7': 171, 'ebtsakv6hs': 1099, 'realise': 2900, 'institutes': 1702, 'आण': 4014, 'appellate': 384, 'blody': 620, 'goyal': 1409, 'ધર': 4326, 'but': 674, 'par': 2580, 'presidency': 2745, 'himself': 1531, 'first': 1258, 'special': 3246, 'american': 333, 'wishing': 3814, 'parallels': 2584, 'universal': 3594, 'gpyvrqmyfl': 1412, 'chhote': 773, 'kr': 1970, 'मदद': 4165, 'inste': 1700, 'fast': 1220, 'joebiden': 1834, 'যক': 4281, 'ہوگا': 3993, 'hindi': 1533, 'ವಸ': 4441, 'ble': 615, 'sena': 3126, 'löfven': 2119, 'accolades': 250, 'unveils': 3601, 'dekh': 942, 'express': 1188, 'play': 2662, 'personnel': 2638, 'dekhne': 943, 'bhagal': 567, 'hejm1ec1mk': 1507, 'dlhk7xi0es': 1028, 'রত': 4284, 'buy': 677, 'kqs3hob33c': 1968, '614': 120, 'diyas': 1022, 'falta': 1208, 'juml': 1857, 'sh': 3148, 'carefully': 712, 'khare': 1937, 'aajtak': 210, 'jayege': 1790, 'leadership': 2039, 'trafficking': 3519, 'بائیڈن': 3984, 'inaugurate': 1647, 'seen': 3117, 'kamal': 1886, '297jerosx1': 63, 'ex98jpfify': 1179, 'जपन': 4083, 'ognxzlt7fs': 2492, 'su': 3311, 'its': 1744, 'l6ayia4qfo': 2001, 'dm7houf6na': 1031, 'ports': 2701, 'plans': 2660, 'me': 2196, 'dum': 1075, 'just': 1861, 'बध': 4149, 'monikasingh__': 2272, 'modijitogiveupspg': 2267, 'yjpr1cxfif': 3913, 'opcxb0ghdb': 2513, 'ছব': 4253, 'fathervalles': 1223, 'is': 1730, 'myhero_mrssr': 2331, 'year': 3904, 'caamresh': 690, 'constituency': 850, 'ತವ': 4419, 'ocieows8vf': 2473, 'thepunemirror': 3454, '7tghcy4flf': 154, 'vi': 3684, 'રન': 4338, 'jk7jsvrmht': 1823, 'essential': 1162, 'अप': 3998, 'users': 3627, 'gnjdckoxym': 1383, 'arnub': 416, 'નર': 4328, 'adkjl0k170': 271, 'abrogation': 244, 'g8hciyrce5': 1326, 'gentleman': 1346, 'khel': 1940, 'fsvplk6osg': 1312, 'seri': 3133, 'owning': 2548, 'கதற': 4390, 'knows': 1961, 'આઝ': 4305, 'nov': 2442, 'dhruv_ck': 977, 'gain': 1328, 'kfapzqj2i9': 1933, 'nd': 2379, 'transparent': 3523, 'kovind': 1965, 'self': 3120, 'e9o9hwsjlh': 1094, 'right': 2978, 'baar': 476, 'complex': 828, 'twitter': 3556, 'leftist': 2046, 'dhiksha21': 976, 'wo': 3822, 'data': 916, 'ms': 2296, 'pradip103': 2727, 'chapter': 761, 'cfyfwgdpon': 737, 'रदर': 4183, 'ppl': 2716, 'dosa': 1049, 'phone': 2645, 'ministry': 2248, 'salmaan': 3055, 'karu': 1908, 'adhir': 268, 'pm4xr9jqah': 2673, 'godhr': 1386, 'hc': 1495, 'swanandgangal': 3358, 'merkel': 2223, 'does': 1036, 'ಶದಲ': 4443, 'आज': 4012, 'मसमर': 4170, 'अत': 3995, 'ਨਹ': 4298, 'उर': 4040, '2001': 47, '1xswoso5tg': 45, 'foundation': 1291, 'o2q9ithzx8': 2468, 'check': 770, 'বন': 4272, 'used': 3624, 'कदम': 4052, 'sarkaar': 3074, 'politician': 2693, 'chunab': 787, 'ankho': 357, 'ncp': 2378, 'maunsingh': 2191, 'mohanpur': 2268, 'waterways': 3760, 'rajanya59955795': 2861, 'vktcgs07lz': 3711, 'hrd': 1572, 'logo': 2093, 'shou': 3179, 'take': 3381, 'botwithheart': 641, 'tcadww8tit': 3403, 'roundtable': 2998, 'aise': 306, 'consecutive': 849, 'institutions': 1703, 'जस': 4087, '1mcsjryen9': 40, 'incindia': 1652, 'washroom': 3757, 'बन': 4150, 'xqqmuhyccs': 3874, 'flowery': 1269, 'michéa': 2233, 'mumbai': 2310, 'jorgensen4potus': 1839, 'gaye': 1338, 'bloody': 622, 'powerful': 2714, 'sharif': 3163, 'karo': 1904, 'nbmb4ld8gm': 2375, 'nation': 2368, 'radio': 2846, 'farm': 1213, 'kare': 1896, 'hmbkzxltss': 1547, 'shahid': 3153, 'vs': 3730, 'atrocities': 443, 'rafale': 2847, 'establish': 1163, 'रव': 4186, 'gndi': 1382, '6aycycjhny': 123, 'taught': 3398, 'nda': 2381, 'hzdte1dx5e': 1601, 'arises': 400, 'टन': 4089, 'overseas': 2542, 'benjamin': 555, 'shameness': 3156, 'समय': 4216, 'harris': 1481, 'nightmare': 2411, 'hua': 1579, 'bhutto': 587, 'smitaparikh2': 3217, 'करत': 4059, 'potatoprice': 2711, 'aoiqc526t7': 372, 'syndrome': 3366, 'help': 1510, 'results': 2966, 'traction': 3516, 'utter': 3642, 'clgo7hovyd': 803, '13th': 19, 'beti': 558, 'bpyxjjiso7': 644, 'sonamakapoor': 3234, 'against': 288, 'odds': 2475, 'wale': 3749, 'demonetization': 952, 'sa9yzgolun': 3028, 'i6kmwj7ntw': 1606, 'fa6qvba4ll': 1199, 'tavleen': 3399, 'so': 3221, 'jayega': 1789, 'सभ': 4214, 'kre': 1972, 'congis': 840, 'kwivhu3kxt': 1988, 'zhkjkrhlot': 3959, 'sri': 3267, 'गलत': 4072, 'urg': 3613, 'body': 627, 'thakrey': 3438, 'veteran': 3681, 'industr': 1680, 'diye': 1023, 'on': 2502, 'celebration': 727, 'financ': 1252, 'anak': 345, 'bahut': 494, 'film': 1249, 'letters': 2053, 'karke': 1900, 'hon': 1558, 'etc': 1165, 'conference': 837, 'corruption': 860, 'আইন': 4233, 'supreme': 3340, 'grievances': 1423, 'power': 2713, 'should': 3180, 'nerfufi6xi': 2396, 'frequent': 1305, '8givlqh58n': 164, 'stupids': 3309, 'namaha': 2348, 'tejashwi': 3411, 'बर': 4152, 'dinn': 994, 'selfmusing21': 3123, 'india': 1663, 'যমন': 4282, 'goel': 1387, 'make': 2148, 'buqvjcvau6': 667, 'xpv9kmkl1r': 3872, 'punia': 2797, 'toh': 3502, 'ehjshyal6f': 1113, 'poster': 2706, 'matrubhakt': 2189, 'vwy5m0b5mc': 3732, 'mandatarios': 2160, 'head': 1498, 'crpfindia': 884, 'deepotsava': 937, '77yrs': 143, 'weakened': 3769, 'वस': 4203, 'sweet': 3361, 'ful': 1316, 'called': 694, '74': 136, 'റച': 4461, 'यम': 4175, 'demonetisation': 951, 'rasx9xpsgy': 2883, 'squarely': 3265, 'wcdnpzbllz': 3765, 'sushant': 3352, 'cabal': 691, 'meaindia': 2197, 'pywxvwv1dy': 2806, 'exposed': 1187, 'mrkcnmbooj': 2292, 'support': 3333, 'they': 3460, 'deshbhakt': 958, 'imprasad29': 1639, 'soniya': 3236, 'yhowsp0b2u': 3910, 'silent': 3197, 'bush': 670, 'tenure': 3420, 'mujh': 2304, 'रम': 4185, 'able': 237, 'psba4l64vv': 2789, 'mrs': 2294, 'joe': 1833, 'rajput_justice': 2869, 'આગળ': 4304, 'ಬದಲ': 4427, 'report': 2943, 'apachekadriver': 374, 'beloved': 548, 'done': 1044, 'इक': 4023, 'sapna': 3069, 'nehin': 2392, 'plvcnj7j56': 2670, 'permitted': 2632, 'running': 3014, 'cement': 729, 'due': 1074, 'दल': 4116, 'ನರ': 4422, 'improved': 1641, 'las': 2022, 'looking': 2099, 'nehru': 2393, 'about': 240, 'failed': 1203, 'granted': 1414, 'reliance': 2928, 'बज': 4141, 'certificate': 736, 'which': 3797, 'officeofut': 2486, 'kyo': 1994, 'soaring': 3223, 'baki': 497, 'owner': 2547, 'articualted': 423, 'தவ': 4394, 'hardeepspuri': 1476, 'keopkdkxul': 1927, 'अहम': 4004, 'traditionally': 3518, 'congratulations': 843, 'if': 1619, '500': 104, 'bjp4delhi': 602, 'savarkar': 3083, 'jpulasaria': 1847, 'alm7c3yvgo': 320, 'well': 3780, 'becom': 534, 'tha': 3435, 'ou7mehtckl': 2536, 'away': 463, 'p8xobhso8s': 2556, '1apeh1xano': 30, 'bb': 522, 'pgurus1': 2641, 'आत': 4015, 'directly': 999, 'indiawitharnab': 1672, 'dwr48nac0q': 1084, 'kender': 1926, 'agriculture': 299, 'melz2604': 2212, 'majo': 2143, 'યકર': 4336, 'pe': 2617, 'd1': 901, 'qnfxz6ojvm': 2824, 'jannatferdousee': 1779, 'agricultural': 298, 'permanent': 2630, 'supposed': 3338, 'bench': 550, '93rd': 175, 'tax': 3401, 'hli24fzebq': 1545, 'sanaonline__': 3063, 'n3wqws4ze0': 2339, 'bihari': 595, 'any': 368, 'sameerrajbhar11': 3059, 'trust': 3534, 'to': 3498, '33zmchjc9q': 85, 'other': 2531, 'b3hgfhccaw': 473, 'canada': 701, '୭୫': 4382, 'maximum': 2192, 'course': 867, '2scjpykffp': 75, 'aft': 284, 'aatmnirbhar': 224, 'nothing': 2440, 'pronounced': 2774, 'introduced': 1711, 'cyado3rns0': 899, 'jaakar': 1759, 'al': 312, 'bhari': 575, 'crubjihed8': 885, 'speaking': 3245, 'ghlbub10dx': 1361, 'nitish': 2418, 'covid': 870, 'jeevanpramaan': 1798, 'download': 1054, 'post': 2705, 'actually': 262, 'tweet': 3555, 'हन': 4224, 'jee': 1795, 'celebrations': 728, 'chahiye': 743, 'reporter': 2944, 'bedazzled': 536, 'u4ywjmzs2g': 3568, 'hindutva': 1537, 'moment': 2269, 'residence': 2952, 'ovrtmufcct': 2544, 'galat': 1329, 'uttarpradesh': 3641, 'media': 2202, 'dfzwk4t4ij': 973, 'prosperity': 2780, 'naoqgs5ajf': 2352, 'parliamentary': 2588, 'jailed': 1766, '1ikemulbca': 37, 'gccadh9axp': 1339, 'oleh': 2500, 'lo': 2085, 'jens': 1800, 'dikhadi': 989, 'vktcgrivxp': 3710, 'heights': 1506, 'spoke': 3254, 'aur': 454, 'trynnppe02': 3538, 'parrukaushal': 2592, 'aayi': 227, '1bhcycyfqt': 31, 'fake': 1205, 'ಶವ': 4444, 'xahfn2gfon': 3859, 'uddhav': 3572, 'se': 3106, 'farmbill': 1214, 'pmmodi': 2675, 'chottubnd': 784, 'single': 3202, 'yours': 3924, 'series': 3134, 'nviwlx0mpc': 2462, 'subjudice': 3313, 'kymmyem0wr': 1993, 'tune': 3545, 'beautiful': 531, 'brother': 657, 'points': 2683, 'shriman': 3188, 'millions': 2239, 'headlines': 1500, 'family': 1210, '7rbi1v6wph': 150, 'slogan': 3214, 'veil': 3678, 'চরম': 4252, 'speak': 3244, 'hwinv7uz8s': 1594, 'great': 1418, 'सबक': 4212, 'dear': 926, 'fts50ljtop': 1313, 'hmoindia': 1549, 'rapist': 2881, 'phasa': 2642, '9ggarojprg': 181, 'ody1gryq8g': 2478, '8havgbbblf': 165, 'upcopshivang': 3605, 'sharma': 3165, 'losses': 2104, 'कहन': 4064, 'owned': 2546, 'investment': 1715, 'national': 2369, 'heart': 1503, 'diqbebsxna': 998, 'prashanti14': 2736, 'chaiwala': 747, 'ends': 1141, 'jlivog6u3l': 1825, 'profmkay': 2768, 'kites': 1950, 'started': 3282, 'germany': 1348, 'nqduleozzg': 2447, 'hilyaeagzq': 1528, 'mszhtoltxd': 2297, 'united': 3592, 'fwvwejkugr': 1321, 'crowds': 882, 'pappus': 2579, 'ago': 294, 'c4eh9iyzas': 688, 'sounded': 3240, 'listener': 2074, 'kattar': 1913, 'das': 915, 'pra': 2719, 'acti': 256, 'systematically': 3368, 'possible': 2704, 'curb': 890, 'ch3v3uwnij': 741, 'mahatama': 2135, 'mouth': 2283, 'text': 3428, 'senatedems': 3127, 'seriously': 3137, 'रख': 4179, 'm2kavyinh8': 2120, 'tamilnadu': 3392, 'majority': 2146, 'una': 3582, 'wuhagsxmoz': 3847, 'usaelections2020': 3621, 'mor': 2274, 'private': 2758, 'a091ahcj5c': 193, 'responsibility': 2960, 'gmwdwy0zxg': 1380, 'britain': 652, 'dil': 991, 'કલ': 4313, 'mhuy6in0ez': 2230, 'fruyni6u4b': 1311, 'rajatsharmalive': 2862, 'morning': 2277, 'mataonline': 2188, 'citizens': 793, '11hwdne9lo': 15, '8jedxjytex': 168, 'tnazldkofa': 3495, 'wala': 3748, 'atmanirbhar': 441, 'summit': 3323, 'unnlogok': 3595, '9m4prg4lqh': 182, 'detention': 963, 'badi': 489, 'dena': 953, 'gwbkjp3ww9': 1444, 'ധന': 4455, 'andhbhakth': 351, 'aashib95': 221, 'decide': 932, 'ap': 373, 'utmost': 3637, 'qwklfaisur': 2837, 'rackets': 2845, 'fpq2iz05yd': 1296, 'excellent': 1180, 'bee': 537, 'bhatt': 576, 'de': 924, 'vn8k2vduuk': 3715, 'frameless': 1298, 'pax': 2610, 'up8nobvrnb': 3603, 'chandrashekhar': 755, 'immediately': 1635, 'rathe': 2885, 'd9cogqzwwx': 904, 'hwlgpktjzy': 1595, 'squad': 3264, 'clarion': 801, 'இண': 4383, 'real': 2896, 'pcjnv2i5dw': 2614, 'inaugurating': 1650, 'টন': 4259, 'bapgvgqzn8': 511, 'kitni': 1951, 'crisis': 878, 'sidk3389': 3195, 'politic': 2691, 'jinnah': 1815, 'hn7mk5ymzg': 1550, 'accountantvarun': 252, 'narend': 2359, 'gm': 1377, 'scammer': 3095, '2aqzq7penk': 64, 'mota': 2279, 'ણસ': 4320, 'be': 529, 'হয': 4295, 'chosen': 783, 'jgg9ikh7c4': 1807, 'arnabofficial9': 413, 'weapon': 3771, 'laying': 2032, 'burnol': 669, 'aajevan': 209, 'सरक': 4218, 'isme': 1737, 'taniok59ki': 3394, 'spor': 3257, 'muncher': 2312, 'sscgd': 3274, 'फल': 4139, 'among': 341, 'vx3dmiwuux': 3734, 'pranam': 2732, 'sag0ll9nin': 3040, 'ہندوستان': 3992, 'subhas': 3312, 'vote': 3721, 'hates': 1490, 'pzihqxh9qy': 2807, 'majoritarian': 2145, 'divert': 1016, 'scam': 3094, 'mlkhattar': 2254, 'tras': 3524, 'naren': 2358, 'worker': 3829, 'ssc': 3272, 'syyedsuhail': 3370, 'quality': 2832, 'was': 3756, 'vinodtaparia1': 3698, 'parties': 2595, 'officeofknath': 2485, 'cpax7eiluk': 871, 'sambitswaraj': 3057, 'psycharora': 2791, 'approach': 386, 'palgadh': 2573, 'short': 3178, 'इस': 4030, 'another': 363, 'fits': 1261, 'newly': 2400, 'lgb1t4wyck': 2056, 'developmental': 970, 'uaxyio7jvb': 3570, 'scumbag': 3102, 'বব': 4273, 'happen': 1467, 'zmnh4htk3l': 3965, 'courageous': 866, 'ನಲ': 4423, 'aam': 212, 'mj6ycjhgzx': 2250, 'नल': 4124, 'abhi': 231, 'hata': 1486, 'stronger': 3304, 'ऊनल': 4041, 'contagiuz': 852, 'attack': 445, 'giy': 1371, 'timely': 3483, 'dtegbyewjz': 1072, 'along': 321, 'arnabgoswamy': 410, 'arnabgoswamirtv': 409, 'zero': 3956, 'student': 3305, 'motor': 2281, 'ain': 303, 'listened': 2073, 'sadhguru': 3037, 'remembered': 2932, '6lpitn2dau': 127, 'ବର': 4369, 'rejected': 2924, 'growth': 1426, 'ମଧ': 4372, 'ಅಭ': 4406, 'co': 810, 'secur': 3113, 'sq1gxhkicy': 3263, 'guest': 1432, 'lost': 2105, 'jr81e6djrk': 1851, 'condoles': 835, 'campaign': 698, 'soon': 3237, 'arvindkejriwal': 425, 'hindinewsguru': 1534, 'give': 1367, 'ariwapzvvl': 401, '𝙆𝙪𝙢𝙖𝙧': 4463, 'individual': 1674, 'aunts': 452, 'आद': 4016, 'regarding': 2918, 'que': 2833, 'hwpfqwunza': 1596, 'ddv9mn7cgo': 923, 'uzydjvgkpe': 3647, '8deoydmdop': 163, 'rinkiku87450522': 2981, 'jnvnvkxyw2': 1829, 'ex': 1178, 'l1o54mwczm': 1998, 'fo': 1273, 'sing': 3200, 'jinda': 1813, 'oglzqwf1mo': 2490, 'former': 1288, 'karein': 1897, 'pankaj': 2576, 'industry': 1682, 'ihrbbsmfec': 1622, 'waking': 3747, 'znauas9tga': 3966, 'youtube': 3927, 'mile': 2238, 'abhishbanerj': 233, 'development': 969, 'जब': 4084, 'वप': 4200, 'iss': 1740, 'zcdl487ygu': 3951, 'celebrate': 725, 'butcher': 676, 'bare': 514, 'ajzzlchr33': 308, 'statehood': 3284, 'amazing': 327, 'vice': 3686, 'ra': 2842, 'braze': 647, 'hrtw1ijrut': 1574, 'shefvaidya': 3170, 'srivatsayb': 3270, 'agar': 289, 'change': 757, 'oehatjl5v1': 2479, 'tripura': 3529, 'pata': 2601, 'hindus': 1536, 'extremely': 1193, 'proudly': 2783, 'dijia': 987, 'breaking': 648, 'nikalo': 2413, 'maneezapredicts': 2161, 'rajanth': 2860, 'spread': 3261, 'ದರ': 4421, 'scale': 3093, 'उद': 4033, 'festivals': 1241, 'pls': 2667, 'यशस': 4176, 'wuhz1iecbs': 3848, 'embassy': 1131, 'sdv9fdml6c': 3104, 'blamed': 613, 'ধন': 4262, 'district': 1012, 'દરમ': 4324, 'problem': 2762, 'forgets': 1285, 'hue': 1580, 'kavita_tewari': 1915, 'devlop': 972, 'nlpeyqms1r': 2424, 'indias': 1670, 'abpnews': 242, 'রক': 4283, 'received': 2907, 'except': 1181, 'jriqkg8voj': 1852, 'civil': 795, 'durbhagya': 1079, 'uncertain': 3584, 'u1ehahotwo': 3564, 'તમ': 4321, 'via': 3685, 'ttu091qqrc': 3540, 'bg1z6g5nph': 564, 'old': 2499, 'superber': 3330, 'productively': 2764, 'bil': 596, 'nytfood': 2467, 'taking': 3384, 'ladies': 2006, 'pada': 2559, 'here': 1516, 'resign': 2954, 'we': 3768, 'uper': 3607, 'rs': 3004, 'useless': 3626, '1hmroajd6s': 34, 'پر': 3987, 'feeling': 1231, 'wants': 3755, 'vp': 3727, 'dono': 1046, '4th': 103, 'm3wb9onkpf': 2121, 'aankhien': 213, 'mufti': 2300, 'sujamal': 3320, 'extensivel': 1192, 'redquee62313204': 2912, 'gujrati': 1438, 'many': 2176, 'rojgaar': 2992, 'replac': 2942, 'lagta': 2011, 'vegetables': 3677, 'din': 993, 'migrant': 2235, 'book': 636, 'nationalist': 2370, 'butch': 675, 'fan': 1211, 'munde': 2314, 'thuk': 3478, 'badly': 490, 'formation': 1287, 'jiping': 1817, 'a4fspkfcls': 196, 'gpjuveag81': 1411, 'batch': 518, 'ಯವರ': 4433, 'l21yzayq9w': 1999, 'postion': 2708, '3sal': 97, 'ioszr8vdsd': 1722, 'ministe': 2245, 'ql9wixllsh': 2823, 'off': 2482, 'lokpria': 2094, 'protested': 2781, 'jagritibutnew': 1761, 'care': 710, 'bdek7pcivn': 527, 'suresh': 3345, 'tandhesi': 3393, 'সম': 4291, 'dev_fadnavis': 966, 'tmddz74jcg': 3492, '14th': 23, 'hacemos': 1452, 'rahe': 2849, 'taloja': 3389, 'amnestyusa': 340, 'need': 2387, 'biggest': 592, 'kra8etbxom': 1971, '2sytfncoh3': 76, 'edu': 1103, 'fields': 1246, 'মপন': 4278, 'shamshadalamaap': 3157, '7rcr': 151, 'work': 3828, 'samman': 3061, 'doval': 1052, 'name': 2350, 'of3sijvlwr': 2481, 'ৰস': 4296, 'department': 954, 'earlier': 1095, 'bdwwxzhrxe': 528, 'stopped': 3297, 'arabia': 392, 'killing': 1946, 'confused': 839, 's_goswamii': 3026, 'insinuate': 1697, 'आएग': 4009, 'covers': 869, 'mla': 2253, 'howdymodi': 1570, 'became': 532, 'ਣਗ': 4297, 'calorajghat': 696, 'deeply': 936, '5th': 115, 'the': 3444, 'shanti': 3159, 'murdabad': 2315, 'xfj5jv3qxe': 3864, 'version': 3679, 'cant': 704, 'fmz9wat3b2': 1272, 'office': 2484, 'induced': 1679, 'time': 3482, 'chiz': 781, 'event': 1173, 'rgkeymitlb': 2973, 'demolishingcorruption': 950, 'equipo': 1156, 'sadhu': 3038, 'implicated': 1636, 'yeh': 3906, 'managed': 2158, 'comm': 819, 'zgzwznqlg0': 3957, 'capratikkarpe': 705, 'jammu': 1774, 'ja8ndbghih': 1758, 'made': 2131, 'uselections': 3625, 'oil': 2495, 'চত': 4251, 'fuerzas': 1314, 'c38hs7cp0k': 687, 'means': 2199, 'এর': 4244, 'کے': 3991, 'buddy': 662, 'opengym': 2516, 'visa': 3702, 'bring': 651, 'benefits': 553, 'bk0z1qweha': 607, 'had': 1453, 'tkevaded8e': 3490, 'much': 2299, 'agr': 295, 'dev9rohfef': 965, 'तब': 4103, 'guidance': 1434, 'broken': 656, 'chancellor': 754, '6wxufcljdu': 132, 'm9axjpoazp': 2124, 'studnts': 3307, 'मद': 4164, 'p1cwrkpau3': 2554, 'birthday': 598, 'death': 927, 'tejasvi': 3412, 'aaplog': 218, '404toht8qb': 100, 'jante': 1781, 'अन': 3997, 'mamta': 2155, 'thackeray': 3436, 'mp': 2290, 'ncc': 2376, 'उम': 4039, 'general': 1343, 'sirjambavan': 3205, 'zwyhcu4bm8': 3976, 'retweet': 2967, 'westbengal': 3786, 'ଲନ': 4377, 'ഇല': 4450, 'bigger': 591, 'આપ': 4307, 'giving': 1370, 'dushtt_praani': 1080, 'jnuನಲ': 1828, 'cg2mrf8qgf': 738, 'পড': 4267, 'in': 1645, 'kmhgmc7c9o': 1957, 'presence': 2742, 'nationalistic': 2371, 'harish': 1480, 'appears': 382, 'gonna': 1393, 'there': 3456, 'jel': 1799, 'xlxjbpfglk': 3868, 'zafar': 3948, 'humari': 1586, 'throw': 3475, 'নৰ': 4266, 'raha': 2848, 'zh4xnptpwn': 3958, 'cadet': 692, 'bpf7v4gb6w': 643, 'broadcast': 655, 'protesting': 2782, 'farsighted': 1217, 'article370': 422, '2016': 52, 'must': 2323, 'gurugram': 1440, 'tonyashai': 3505, 'tomorrow': 3504, 'politics': 2694, 'lildchcfqu': 2067, 'you': 3921, 'amendments': 332, 'yadavtejashwi': 3893, 'salary': 3053, 'univer': 3593, 'mh3suyx3ld': 2228, 'hue28zcgjw': 1581, 'appeasement': 383, 'roads': 2988, 'photo': 2646, 'thukta': 3479, 'duniya': 1077, 'bachao': 481, 'shyma': 3193, 'days': 920, 'superpower': 3331, 'go': 1384, 'c1ptky4csy': 686, 'zuqkll30iv': 3974, 'dbczdzagia': 921, '5vurjkx7kn': 116, 'moving': 2288, 'calling': 695, 'terrorist': 3425, 'shripralhadmodiji': 3189, 'ରକ': 4374, 'sources': 3241, 'app': 379, 'nkokljomlm': 2423, 'ખર': 4316, 'ଏବ': 4358, 'zbbglk4yw1': 3949, 'manenge': 2162, 'poors': 2697, 'instructions': 1704, 'woh': 3824, 'আল': 4237, 'welovetrump': 3781, 'mrsinha_': 2295, 'rashtrapatibhvn': 2882, 'next': 2402, 'of': 2480, 'dostkhan_jammu': 1050, 'sakti': 3050, 'ghar': 1359, 'apnfjd5e8a': 377, 'videos': 3690, 'hauuvmk9mz': 1491, 'gfdsbti1eq': 1354, 'n4unrvv28n': 2340, 'leadi': 2040, 'way': 3763, 'paralised': 2582, 'fit': 1260, 'piyushgoyaloffc': 2655, 'எக': 4388, 'bhakts': 571, 'systems': 3369, 'writes': 3842, 'otherwi': 2532, 'worry': 3835, 'passing': 2599, 'narendramodi177': 2365, 'mara': 2180, 'ycwckmvylw': 3900, 'pankaj_ka_dum': 2577, '2zhbgckyaw': 80, 'onionprice': 2507, 'کا': 3988, 'industrious': 1681, 'theprinthindi': 3453, 'wb': 3764, 'kahi': 1877, 'backdrop': 485, 'rest': 2962, 'टम': 4091, 'hard': 1474, 'code': 814, 'repertoire': 2940, 'opindia': 2519, 'amit': 334, 'bhide': 581, 'ഇടയ': 4449, 'i6qu3pa8vf': 1607, 'तकऱ': 4101, '6a6elh1sur': 122, 'ones': 2505, 'something': 3232, 'nm327dloyi': 2425, 'jyada': 1867, 'chalorajghat': 751, 'lauds': 2025, 'wanted': 3753, 'ekdum': 1120, 'trad': 3517, 'fundador': 1318, 'g7dto0onq0': 1325, 'end': 1140, 'nothi': 2439, 'mo': 2258, 'afdx1fmcee': 281, 'traitor': 3521, 'hazira': 1494, 'ghanaian': 1358, 'undue': 3589, 'hate': 1488, 'till': 3481, 'varanasi': 3669, 'karmariaz': 1901, 'ಶಕ': 4442, '29': 62, 'busi': 671, 'normal': 2433, 'sponsored': 3256, 'babu': 480, '2ujkgzpxqu': 78, 'chaudhrgurnam': 767, 'samj': 3060, 'dpqgr9yor1': 1055, 'hyy8bikjrj': 1600, '6sgweg0fz1': 130, 'web': 3774, 'aukad': 449, 'इम': 4028, 'kanganateam': 1891, 'jvlmk': 1865, 'jpnadda': 1846, 'logewwcgcs': 2092, 'di': 978, 'daughter': 917, 'justice': 1862, 'बद': 4145, 'ka': 1873, 'namo': 2351, 'aata': 222, 'आह': 4022, 'ideology': 1615, '2020': 56, 'hojayega': 1554, 'best': 556, 'bank': 509, 'n18z2bqrzb': 2336, 'karna': 1902, 'skyrocketi': 3211, 'got': 1401, 'infinite': 1684, 'abrahmisation': 243, 'voice': 3720, 'ranveer': 2879, 'channel': 760, 'mkyqz16h75': 2252, 'sfbfsxfeqk': 3143, 'fvbsss8n06': 1320, 'x09ljdtcrc': 3852, 'gvfrorijpf': 1442, 'sunitayadav007': 3327, 'repetitively': 2941, 'adhura': 270, 'ernhap9uoy': 1158, 'zulfikar': 3973, 'ମନ': 4373, 'wa': 3743, 'সময': 4292, 'urbannaxal': 3612, 'aa': 203, 'कम': 4056, 'meetings': 2206, 'ಅನ': 4405, 'point': 2682, 'reelected': 2916, 'hme': 1548, 'vida': 3688, 'voted': 3722, 'contra': 857, 'plt4cld64t': 2668, 'chura': 790, '9afry5dscc': 180, 'emanuel': 1130, 'cut': 896, 'b0qjtyb6tz': 471, 'lived': 2078, '_preetipandey': 191, 'law': 2028, 'jail': 1765, 'lose': 2102, 'turant': 3547, '700': 134, 'incrise': 1660, 'patna': 2605, 'steps': 3291, 'grip': 1424, 'requesting': 2949, 'sportsmen': 3259, 'aykojqrcwp': 468, 'vivekanandg': 3708, 'saw': 3086, 'gets': 1350, 'ruining': 3013, 'laid': 2013, 'ancient': 349, 'kijiye': 1943, 'won': 3826, 'coal': 812, 'makeinindia': 2149, 'debt': 929, 'two': 3559, 'bajwohupo2': 496, 'britishvogue': 653, 'ashoswai': 430, 'drugs': 1069, 'phir': 2644, 'inertia': 1683, 'teamwork': 3408, 'জয': 4257, 'disenfranchised': 1006, 'bz4jp8ehrx': 684, 'ywsc7rm5xe': 3937, 'इन': 4027, 'gp': 1410, 'jr': 1849, 'बह': 4155, 'fellows': 1236, 'dungi': 1076, 'allegations': 316, 'ties': 3480, 'aqsgzbxch9': 390, 'ఒప': 4400, 'gjp': 1372, 'a8jngeykxi': 199, 'i5zpwiifo4': 1605, 'visfixhxvy': 3703, 'learning': 2042, 'indianexpress': 1667, 'fam': 1209, 'hamm': 1464, 'mdvyrlap15': 2195, 'rfabrq1fje': 2972, 'adv': 277, 'ramnath': 2873, 'lapkuwhfc3': 2019, 'biden': 588, 'ethical': 1167, 'trained': 3520, 'jce1zsow9d': 1792, 'অভ': 4232, 'gunda': 1439, 'hjepnerwmw': 1543, 'ceo': 734, 'अल': 4003, 'ua1e0faz3n': 3569, 'sxylddat8q': 3364, 'plz': 2671, 'share': 3162, 'luck': 2114, 'save': 3084, 'growing': 1425, 'wider': 3803, 'themselves': 3450, 'karunga': 1909, 'expected': 1184, 'vajpayee': 3659, 'tatha': 3396, 'act': 255, 'ofse8hps88': 2489, 'इत': 4025, 'hardeep': 1475, 'winds': 3806, 'tell': 3416, 'o9uly40bzg': 2470, 'fhz6tjdu7j': 1243, 'hagfrnce8v': 1454, 'witchsm': 3817, 'could': 861, 'ljuuixjrcq': 2082, 'alleged': 317, 'mls5mr3zj1': 2255, 'honest': 1559, 'q6tvgjoz7k': 2811, 'ವರಣಗ': 4439, 'built': 665, 'ସମୟର': 4380, 'log': 2091, 'ರದ': 4435, 'assault': 435, 'tqetcf0qq5': 3514, 'fadien': 1202, '2xavvknccj': 79, 'lakh': 2014, '99': 179, 'serious': 3135, 'ognmxlxpwr': 2491, 'eulogized': 1169, 'v_k_yadava': 3654, 'fuktt93cng': 1315, 'seat': 3109, 'nuclear': 2456, 'indresh': 1678, 'aap': 214, 'human': 1584, 'birth': 597, 'prasar': 2735, 'qhiis6boke': 2821, 'inaugurated': 1648, 'address': 266, 'hijack': 1526, 'promote': 2771, 'gi': 1364, 'tnjwshx8er': 3497, 'true': 3531, 'deserve': 955, '85000': 161, 'appeal': 381, '3nilrr5dkv': 95, 'rajniti': 2867, 'e9evtldv58': 1093, 'hataao': 1487, 'ਲਗ': 4299, 'mannia': 2168, 'ips': 1725, 'j7qbe5tfro': 1756, 'lbxqmyu5xh': 2034, 'plight': 2665, 'ornament': 2528, 'brothers': 658, 'રવ': 4340, 'e5e4wmnmhg': 1090, 'da4cmztd5r': 905, 'waise': 3745, 'vallabhbhai': 3660, 'rajnath': 2864, 'incwestbengal': 1661, 'cr': 873, 'লড': 4287, 'xj5qbvkv0t': 3867, 'information': 1686, 'getting': 1351, 'era': 1157, 'jgq8wa8dvp': 1808, 'swamivivekananda': 3356, '3dm9s0bk0v': 87, 'simple_astro': 3198, 'part': 2593, 'personal': 2635, 'openly': 2517, 'these': 3458, 'indians': 1669, 'dedicate': 934, '303': 83, 'doing': 1039, 'yghfqxkpzh': 3909, 'issue': 1741, 'explains': 1186, 'auox9rpuks': 453, 'winning': 3808, 'mannkibaatofmodi': 2170, 'journalists': 1844, 'madhukarmusale': 2132, 'patel': 2603, 'uska': 3629, 'आख': 4010, '6quhlgh3hj': 129, 'shiv': 3175, 'avzwzaxv4x': 461, 'using': 3628, 'ceremony': 735, '7rdurmmog1': 152, 'no8cxmkpdt': 2428, 'hanged': 1466, 'pisspots': 2651, 'darbhanga': 913, 'usvisa': 3632, 'ever': 1174, 'led': 2044, 'enjoy': 1147, 'finish': 1255, 'colonies': 816, 'be6rbpgb3b': 530, 'investing': 1714, 'ಉಡ': 4408, 'sreemaan': 3266, '8hfiljmxuu': 166, 'been': 538, 'lv2nsd57lj': 2116, 'hota': 1566, 'explained': 1185, 'এব': 4243, 'said': 3046, 'tms9t8cka1': 3494, 'पढ': 4129, 'kis': 1948, 'padma': 2561, 'ndtvindia': 2383, 'present': 2743, 'icx7fpvvvp': 1611, 'ପର': 4365, 'wtnsqmxomw': 3846, 'hit': 1541, '1ipvf5ybnp': 38, 'bq3s8wlf5b': 645, 'requested': 2948, 'amend': 331, 'humne': 1588, 'fdwuq6qliouz8yh': 1229, 'captain': 707, 'वद': 4197, 'priority': 2757, 'hijo': 1527, 'involvement': 1720, 'djr25qd5dw': 1025, 'champion': 752, 'mgwev3sc6t': 2226, 'chala': 749, 'अभ': 4001, 'w2rnt48zov': 3737, 'say': 3087, 'drive': 1061, 'zr1vsrcw89': 3972, 'तर': 4105, 'badhi': 488, 'रस': 4188, 'ins': 1695, 'states': 3285, 'narajfoofaji': 2356, 'hy0vjogdyw': 1598, 'x1vdvs014j': 3853, 'appe': 380, 'ismein': 1738, 'forwards': 1289, 'fp0sdmtkgt': 1295, 'kilclooneyjohn': 1944, 'narendr': 2360, 'central': 731, 'ghbqoc4g05': 1360, 'judge': 1855, 'dare': 914, 'कव': 4062, 'लकर': 4190, 'q1jyowytej': 2810, '4mydguwaol': 102, 'reduced': 2915, 'deepawali': 935, 'needs': 2389, 'ehv4gjfj7s': 1114, 'nrukaeczon': 2450, 'ളപ': 4462, 'indiandiplomats': 1665, 'pahle': 2565, 'manio': 2165, '1eoo7dwg4o': 33, 'tex': 3426, 'important': 1637, 'forgetfulness': 1284, 'thn0a5rcy0': 3468, 'pragya': 2728, 'गवर': 4073, 'chur': 789, 'षण': 4206, 'july': 1856, 'reduce': 2914, 'manufacturing': 2175, 'امور': 3981, 'put': 2804, 'gives': 1369, 'ಣಸ': 4417, 'ohopgqtfdp': 2494, 'wdepdw4haw': 3766, 'sardanarohit': 3071, 'apko': 376, 'con': 830, 'लन': 4193, 'larkio': 2021, 'pain': 2568, 'ijqkeowmnz': 1625, 'ladna': 2008, 'टब': 4090, 'વધ': 4345, 'jitendra': 1820, 'hope': 1564, 'seriousfunnyguy': 3136, 'pehle': 2620, 'person': 2634, 'mmbgc4f9ph': 2256, 'flagged': 1266, '11': 14, 'country': 862, 'bana': 502, 'today': 3500, 'উত': 4240, 'kaha': 1876, 'prabhav': 2720, 'मत': 4162, '58uuy3i5qz': 106, 'pidcqxoth2': 2649, 'tail': 3378, 'ek6ktiq7rj': 1118, 'continue': 854, 'ferry': 1238, 'continues': 855, 'state': 3283, 'subsharma740': 3314, 'doddi': 1035, 'सह': 4221, 'merupakan': 2224, 'mai': 2139, 'tvmohandaspai': 3552, 'story': 3298, 'attract': 448, 'german': 1347, '3hpr80uwfp': 91, 'worl': 3833, '8zggbjy1lr': 173, 'saha': 3044, 'मच': 4161, 'mas': 2182, 'ham': 1458, 'e9274u9ztq': 1092, 'hoti': 1567, 'sureshnakhua': 3346, 'pricelessneelam': 2751, 'd8albjxyki': 903, 'written': 3843, 'niwedan': 2421, 'system': 3367, 'zka1hjs99t': 3963, 'centuries': 733, 'fitting': 1262, 'together': 3501, 'potato': 2709, 'भकर': 4156, '2crlmadios': 66, 'hell': 1508, 'view': 3691, 'zpqx3n91rm': 3969, 'us': 3619, 'valley': 3662, 'sfdamov4vt': 3144, 'zzaoiustkf': 3980, 'ishrat': 1733, 'buzysash': 678, '3kkwdcosog': 93, 'karne': 1903, 'tabhi': 3374, 'acquitted': 254, '6drewxrq6f': 125, 'ram': 2871, '2talkon': 77, 'increasingly': 1659, 'oktober': 2497, 'tvugqkzq55': 3553, 'aware': 462, 'sake': 3048, 'uttarakhandfoundationday': 3640, 'aadarniy': 205, '5z8bntuqov': 117, 'রধ': 4285, 'નથ': 4327, 'suicided': 3319, 'mein': 2211, 'ijyotish': 1627, 'xn1qx62ajn': 3870, 'यक': 4173, 'aggressively': 292, '_pallavighosh': 190, 'rlo2jtcrmd': 2986, 'journalism': 1842, 'z4gjqf89hn': 3942, 'nd4dhoxinq': 2380, 'republic_bharat': 2946, 'hcelkgz5wi': 1496, 'rights': 2979, 'smriti': 3218, 'hum': 1583, 'pariksha': 2586, 'ರಧ': 4436, 'iaditimishra': 1608, 'drarkritam': 1057, 'kamala': 1887, 'dict': 981, 'ejbkmydtei': 1116, 'areery': 398, 'asli': 433, 'தட': 4393, 'lamp': 2018, 'wewantarnabback': 3787, 'saurabh46921524': 3082, 'instead': 1701, 'shrijayghoshjimaharaj': 3187, 'iqi0ovgczb': 1726, 'redsehewzg': 2913, 'laundon': 2027, 'los': 2101, 'sonia': 3235, 'chai': 745, 'apprentice': 385, 'fightermamta': 1248, 'listen': 2072, 'mamata': 2152, 'cd76oxaafq': 723, 'dzzxpyhjbq': 1086, 'agnnjrxipc': 293, 'সমস': 4293, '0xzzz1l0bz': 11, 'વસ': 4347, 'humlog': 1587, 'bani': 508, 'supress': 3341, 'requests': 2950, 'walia': 3751, 'biharelection2020': 594, 'h9hu6yjzbw': 1450, 'naveenkukreja5': 2372, '1rugvq04oy': 43, 'bollywood': 630, '7vbhlafvyz': 156, 'owns': 2549, 'गई': 4068, 'banega': 506, 'get': 1349, 'ngeifqyhe0': 2403, 'sana': 3062, 'chance': 753, 'commissionerwhich': 821, 'onions': 2508, 'jqr3pggofq': 1848, 'a3sfepcsl7': 195, 'oath': 2471, 'po': 2681, 'guhala': 1433, 'kya': 1990, 'ugq1loiqwe': 3574, 'piyushgoyal': 2654, 'violations': 3699, 'lodged': 2090, 'times': 3484, 'vocal4local': 3717, 'ರವ': 4437, 'rajakumaari': 2859, 'disaster': 1003, 'hl45qffztw': 1544, 'goi': 1389, 'campaigning': 699, 'rolandxsweden': 2993, 'doland': 1041, 'innocent': 1694, 'upa': 3604, 'a_sandhan': 202, 'opposing': 2523, 'popularity': 2698, 'xcncsh208w': 3862, 'nsnv6zey8f': 2454, 'hamari': 1461, 'dipawali': 996, 'let': 2051, 'bht': 584, 'आभ': 4018, 'forest': 1281, 'gather': 1333, 'kill': 1945, 'aboard': 239, 'anil': 355, 'fr': 1297, 'better': 559, 'harshu7773': 1483, 'welcomes': 3779, 'sa': 3027, 'घर': 4075, 'fall': 1206, 'lite': 2076, 'ui7bukmzac': 3576, 'sar': 3070, 'ফর': 4270, '8jh88n5fom': 169, 'send': 3128, 'ಯರ': 4431, 'i044zwf9ne': 1602, 'ssah1vazvx': 3271, 'trudeau': 3530, '3ebw1jdarn': 90, 'again': 287, 'ಗಳ': 4415, 'fruits': 1310, 'only': 2509, 'various': 3670, '8rtcwwncxx': 172, 'serving': 3139, 'sardar': 3072, 'धन': 4118, 'liye': 2081, 'turned': 3549, 'because': 533, 'vikas': 3694, 'chit': 779, 'ani': 354, 'y6xuwo5pm3': 3886, 'reo52y0wsd': 2936, 'nare': 2357, 'multi': 2307, 'triple': 3528, 'stage': 3278, 'plus': 2669, 'ডল': 4260, 'बत': 4144, 'mobile': 2259, 'from': 1309, 'news': 2401, 'bhakt': 570, 'income': 1654, 'foreign': 1280, 'apni': 378, 'junagadh': 1859, 'javanon': 1786, 'card': 708, 'li': 2060, 'bjp4maharashtra': 604, '3ctyilunsq': 86, 'n7o1hq1him': 2342, 'sushantbsinha': 3353, 'asopiw1wq6': 434, 'bblpbok7rh': 524, 'पण': 4130, 'kju1kub4gc': 1955, 'sell': 3124, 'npioaqanqi': 2445, 'festival': 1240, 'नह': 4127, 'voz0esk6jr': 3726, 'bx4ddugp8q': 680, 'emotional': 1132, '7ktarv92hi': 148, 'ncks0tg9ya': 2377, 'modihaitomumkinhai': 2264, 'vtkh3kdyuu': 3731, 'localforvocal': 2089, 'मन': 4166, 'indiano': 1668, 'lucky': 2115, 'priya': 2759, 'taken': 3382, 'dismiss': 1009, '7zgis1pxai': 157, 'through': 3474, 'spectacle': 3248, 'raje': 2863, 'imrankhanpti': 1643, 'ko': 1962, '0jowx0deiv': 7, 'ge': 1342, 'jinping': 1816, 'y1vc23hepu': 3884, 'favourite': 1225, 'सब': 4211, 'nahin': 2347, 'એટલ': 4310, 'kam': 1885, 'لیے': 3986, 'ytv3znqvnw': 3933, 'n858eld3mk': 2343, 'theabhishek_ind': 3447, 'once': 2503, 'chat': 766, 'never': 2398, 'qeaf9jx7gw': 2814, 'close': 805, 'chashma': 765, 'don': 1042, 'last': 2024, 'hi': 1522, 'pm': 2672, 'iran': 1727, 'fir': 1256, 'republic': 2945, 'balls': 499, 'tlhox7d5st': 3491, 'वक': 4195, 'celebrating': 726, 'given': 1368, 'congressi': 845, 'cjwerleman': 798, 'life': 2063, 'between': 560, 'diyapatel54_p': 1021, 'o6ktsmsdad': 2469, 'show': 3182, 'pawar': 2609, 'turn': 3548, 'पय': 4135, 'railaodinga': 2855}\n"
     ]
    }
   ],
   "source": [
    "# summarize\n",
    "\n",
    "print(vectorizer.vocabulary_)"
   ]
  },
  {
   "cell_type": "code",
   "execution_count": 19,
   "metadata": {},
   "outputs": [],
   "source": [
    "# encode document\n",
    "\n",
    "vector = vectorizer.transform(text)"
   ]
  },
  {
   "cell_type": "code",
   "execution_count": 20,
   "metadata": {},
   "outputs": [
    {
     "name": "stdout",
     "output_type": "stream",
     "text": [
      "(1000, 4464)\n"
     ]
    }
   ],
   "source": [
    "# summarize encoded vector\n",
    "\n",
    "print(vector.shape)"
   ]
  },
  {
   "cell_type": "code",
   "execution_count": 21,
   "metadata": {},
   "outputs": [
    {
     "name": "stdout",
     "output_type": "stream",
     "text": [
      "<class 'scipy.sparse.csr.csr_matrix'>\n"
     ]
    }
   ],
   "source": [
    "print(type(vector))"
   ]
  },
  {
   "cell_type": "code",
   "execution_count": 22,
   "metadata": {},
   "outputs": [
    {
     "name": "stdout",
     "output_type": "stream",
     "text": [
      "[[0 0 0 ... 0 0 0]\n",
      " [0 0 0 ... 0 0 0]\n",
      " [0 0 0 ... 0 0 0]\n",
      " ...\n",
      " [0 0 0 ... 0 0 0]\n",
      " [0 0 0 ... 0 0 0]\n",
      " [0 0 0 ... 0 0 0]]\n"
     ]
    }
   ],
   "source": [
    "print(vector.toarray())"
   ]
  },
  {
   "cell_type": "code",
   "execution_count": 23,
   "metadata": {},
   "outputs": [],
   "source": [
    "BoW_array = vector.toarray()"
   ]
  },
  {
   "cell_type": "code",
   "execution_count": 24,
   "metadata": {},
   "outputs": [
    {
     "data": {
      "text/plain": [
       "array([[0, 0, 0, ..., 0, 0, 0],\n",
       "       [0, 0, 0, ..., 0, 0, 0],\n",
       "       [0, 0, 0, ..., 0, 0, 0],\n",
       "       ...,\n",
       "       [0, 0, 0, ..., 0, 0, 0],\n",
       "       [0, 0, 0, ..., 0, 0, 0],\n",
       "       [0, 0, 0, ..., 0, 0, 0]])"
      ]
     },
     "execution_count": 24,
     "metadata": {},
     "output_type": "execute_result"
    }
   ],
   "source": [
    "BoW_array"
   ]
  },
  {
   "cell_type": "markdown",
   "metadata": {},
   "source": [
    "### TF-IDF Vector"
   ]
  },
  {
   "cell_type": "code",
   "execution_count": 25,
   "metadata": {},
   "outputs": [],
   "source": [
    "# tfidf vectorize\n",
    "\n",
    "from sklearn.feature_extraction.text import TfidfVectorizer"
   ]
  },
  {
   "cell_type": "code",
   "execution_count": 26,
   "metadata": {},
   "outputs": [],
   "source": [
    "tfidf_vectorizer = TfidfVectorizer()"
   ]
  },
  {
   "cell_type": "code",
   "execution_count": 27,
   "metadata": {},
   "outputs": [],
   "source": [
    "tfidf_vector = tfidf_vectorizer.fit_transform(text)"
   ]
  },
  {
   "cell_type": "code",
   "execution_count": 28,
   "metadata": {},
   "outputs": [
    {
     "data": {
      "text/plain": [
       "(1000, 4464)"
      ]
     },
     "execution_count": 28,
     "metadata": {},
     "output_type": "execute_result"
    }
   ],
   "source": [
    "tfidf_vector.shape"
   ]
  },
  {
   "cell_type": "code",
   "execution_count": 29,
   "metadata": {},
   "outputs": [],
   "source": [
    "tfidf_array = tfidf_vector.toarray()"
   ]
  },
  {
   "cell_type": "code",
   "execution_count": 30,
   "metadata": {},
   "outputs": [
    {
     "data": {
      "text/plain": [
       "array([[0., 0., 0., ..., 0., 0., 0.],\n",
       "       [0., 0., 0., ..., 0., 0., 0.],\n",
       "       [0., 0., 0., ..., 0., 0., 0.],\n",
       "       ...,\n",
       "       [0., 0., 0., ..., 0., 0., 0.],\n",
       "       [0., 0., 0., ..., 0., 0., 0.],\n",
       "       [0., 0., 0., ..., 0., 0., 0.]])"
      ]
     },
     "execution_count": 30,
     "metadata": {},
     "output_type": "execute_result"
    }
   ],
   "source": [
    "tfidf_array"
   ]
  },
  {
   "cell_type": "markdown",
   "metadata": {},
   "source": [
    "### Cosine Similarity"
   ]
  },
  {
   "cell_type": "code",
   "execution_count": 31,
   "metadata": {},
   "outputs": [],
   "source": [
    "from sklearn.metrics.pairwise import cosine_similarity"
   ]
  },
  {
   "cell_type": "code",
   "execution_count": 32,
   "metadata": {},
   "outputs": [],
   "source": [
    "# Cosine Similarity function\n",
    "\n",
    "def Cosine_Similarity(arr):\n",
    "    tweet_similarity = []\n",
    "\n",
    "    for i in range(len(arr)):\n",
    "        tweet_similarity_row = []\n",
    "        for j in range(len(arr)):\n",
    "            a = np.reshape(arr[i], (1, arr[i].size))\n",
    "            b = np.reshape(arr[j], (1, arr[j].size))\n",
    "            c = cosine_similarity(a,b)\n",
    "            tweet_similarity_row.append(c[0][0])\n",
    "        tweet_similarity.append(tweet_similarity_row) \n",
    "    return tweet_similarity"
   ]
  },
  {
   "cell_type": "code",
   "execution_count": 33,
   "metadata": {},
   "outputs": [],
   "source": [
    "# Call Cosine Similarity function for BoW vector\n",
    "\n",
    "BoW_similarity = Cosine_Similarity(BoW_array)"
   ]
  },
  {
   "cell_type": "code",
   "execution_count": 34,
   "metadata": {},
   "outputs": [
    {
     "data": {
      "text/plain": [
       "1000"
      ]
     },
     "execution_count": 34,
     "metadata": {},
     "output_type": "execute_result"
    }
   ],
   "source": [
    "len(BoW_similarity)"
   ]
  },
  {
   "cell_type": "code",
   "execution_count": 35,
   "metadata": {},
   "outputs": [
    {
     "data": {
      "text/plain": [
       "1000"
      ]
     },
     "execution_count": 35,
     "metadata": {},
     "output_type": "execute_result"
    }
   ],
   "source": [
    "len(BoW_similarity[0])"
   ]
  },
  {
   "cell_type": "code",
   "execution_count": 36,
   "metadata": {},
   "outputs": [],
   "source": [
    "# Find pair which are most similar and creating dataframe\n",
    "# excluding similarity of one tweet with itself\n",
    "# and considering the pair only once i.e checking (a, b) but not (b, a)\n",
    "\n",
    "def similar_pairs(similarity_array):\n",
    "    row_col_similarity = []\n",
    "\n",
    "    for i in range(len(similarity_array)):\n",
    "        for j in range(i, len(similarity_array)):\n",
    "            if i != j:\n",
    "                row_col_similarity.append([i, j, similarity_array[i][j]])\n",
    "    \n",
    "    # Create the pandas DataFrame \n",
    "    similarity_df = pd.DataFrame(row_col_similarity, columns = ['Tweet1 index', 'Tweet2 index', 'cosine similarity'])\n",
    "    return similarity_df"
   ]
  },
  {
   "cell_type": "code",
   "execution_count": 37,
   "metadata": {},
   "outputs": [],
   "source": [
    "# Call similarity pair for BoW_similarity\n",
    "\n",
    "BoW_similarity_df = similar_pairs(BoW_similarity)"
   ]
  },
  {
   "cell_type": "code",
   "execution_count": 38,
   "metadata": {},
   "outputs": [],
   "source": [
    "# Top 10 similar tweets\n",
    "\n",
    "top_10_BoW_df = BoW_similarity_df.nlargest(10, 'cosine similarity')"
   ]
  },
  {
   "cell_type": "code",
   "execution_count": 39,
   "metadata": {},
   "outputs": [
    {
     "data": {
      "text/html": [
       "<div>\n",
       "<style scoped>\n",
       "    .dataframe tbody tr th:only-of-type {\n",
       "        vertical-align: middle;\n",
       "    }\n",
       "\n",
       "    .dataframe tbody tr th {\n",
       "        vertical-align: top;\n",
       "    }\n",
       "\n",
       "    .dataframe thead th {\n",
       "        text-align: right;\n",
       "    }\n",
       "</style>\n",
       "<table border=\"1\" class=\"dataframe\">\n",
       "  <thead>\n",
       "    <tr style=\"text-align: right;\">\n",
       "      <th></th>\n",
       "      <th>Tweet1 index</th>\n",
       "      <th>Tweet2 index</th>\n",
       "      <th>cosine similarity</th>\n",
       "    </tr>\n",
       "  </thead>\n",
       "  <tbody>\n",
       "    <tr>\n",
       "      <th>0</th>\n",
       "      <td>57</td>\n",
       "      <td>58</td>\n",
       "      <td>1.0</td>\n",
       "    </tr>\n",
       "    <tr>\n",
       "      <th>1</th>\n",
       "      <td>194</td>\n",
       "      <td>199</td>\n",
       "      <td>1.0</td>\n",
       "    </tr>\n",
       "    <tr>\n",
       "      <th>2</th>\n",
       "      <td>210</td>\n",
       "      <td>403</td>\n",
       "      <td>1.0</td>\n",
       "    </tr>\n",
       "    <tr>\n",
       "      <th>3</th>\n",
       "      <td>210</td>\n",
       "      <td>458</td>\n",
       "      <td>1.0</td>\n",
       "    </tr>\n",
       "    <tr>\n",
       "      <th>4</th>\n",
       "      <td>210</td>\n",
       "      <td>460</td>\n",
       "      <td>1.0</td>\n",
       "    </tr>\n",
       "    <tr>\n",
       "      <th>5</th>\n",
       "      <td>210</td>\n",
       "      <td>475</td>\n",
       "      <td>1.0</td>\n",
       "    </tr>\n",
       "    <tr>\n",
       "      <th>6</th>\n",
       "      <td>210</td>\n",
       "      <td>481</td>\n",
       "      <td>1.0</td>\n",
       "    </tr>\n",
       "    <tr>\n",
       "      <th>7</th>\n",
       "      <td>210</td>\n",
       "      <td>485</td>\n",
       "      <td>1.0</td>\n",
       "    </tr>\n",
       "    <tr>\n",
       "      <th>8</th>\n",
       "      <td>210</td>\n",
       "      <td>486</td>\n",
       "      <td>1.0</td>\n",
       "    </tr>\n",
       "    <tr>\n",
       "      <th>9</th>\n",
       "      <td>403</td>\n",
       "      <td>458</td>\n",
       "      <td>1.0</td>\n",
       "    </tr>\n",
       "  </tbody>\n",
       "</table>\n",
       "</div>"
      ],
      "text/plain": [
       "   Tweet1 index  Tweet2 index  cosine similarity\n",
       "0            57            58                1.0\n",
       "1           194           199                1.0\n",
       "2           210           403                1.0\n",
       "3           210           458                1.0\n",
       "4           210           460                1.0\n",
       "5           210           475                1.0\n",
       "6           210           481                1.0\n",
       "7           210           485                1.0\n",
       "8           210           486                1.0\n",
       "9           403           458                1.0"
      ]
     },
     "execution_count": 39,
     "metadata": {},
     "output_type": "execute_result"
    }
   ],
   "source": [
    "top_10_BoW_df.reset_index(drop=True)"
   ]
  },
  {
   "cell_type": "code",
   "execution_count": 40,
   "metadata": {},
   "outputs": [
    {
     "data": {
      "text/plain": [
       "'What a Biden Administration Could Do – Or Not Do – for India’s Key Priorities https://t.co/YBP4t0bHjV'"
      ]
     },
     "execution_count": 40,
     "metadata": {},
     "output_type": "execute_result"
    }
   ],
   "source": [
    "df.iloc[398, 1]"
   ]
  },
  {
   "cell_type": "markdown",
   "metadata": {},
   "source": [
    "## Similar tweets pair using BoW"
   ]
  },
  {
   "cell_type": "code",
   "execution_count": 41,
   "metadata": {},
   "outputs": [],
   "source": [
    "# Print top 10 similar tweet pairs\n",
    "\n",
    "def print_tweet_pairs(top_10_df):\n",
    "    for i in range(len(top_10_df)):\n",
    "        print(\"\\nTweet pair \", i+1)\n",
    "        t1 = top_10_df.iloc[i, 0] # Tweet1 index in ith row\n",
    "        t2 = top_10_df.iloc[i, 1] # Tweet2 index in ith row\n",
    "        print(\"Tweet1\")\n",
    "        print(df.iloc[t1, 1]) # text at t1 index in df\n",
    "        print(\"Tweet2\")\n",
    "        print(df.iloc[t2, 1]) # text at t2 index in df\n",
    "        print(\"\\n************************************************************\")"
   ]
  },
  {
   "cell_type": "code",
   "execution_count": 42,
   "metadata": {},
   "outputs": [
    {
     "name": "stdout",
     "output_type": "stream",
     "text": [
      "\n",
      "Tweet pair  1\n",
      "Tweet1\n",
      "प्रधानमंत्री ने उत्‍तराखंड के निवासियों को राज्‍य के स्‍थापना दिवस पर बधाई दी\n",
      "https://t.co/WdWcc2GZ80\n",
      "via NaMo App\n",
      "Tweet2\n",
      "प्रधानमंत्री ने उत्‍तराखंड के निवासियों को राज्‍य के स्‍थापना दिवस पर बधाई दी\n",
      "https://t.co/WdWcc2GZ80\n",
      "via NaMo App\n",
      "\n",
      "************************************************************\n",
      "\n",
      "Tweet pair  2\n",
      "Tweet1\n",
      "@BJP4India Narendra Modi chur hai.....\n",
      "Tweet2\n",
      "@BJP4India Narendra Modi chur hai...\n",
      "\n",
      "************************************************************\n",
      "\n",
      "Tweet pair  3\n",
      "Tweet1\n",
      "@republic Ppl in United states , u voice it to the president there so he urges narendra modi to take action\n",
      "Tweet2\n",
      "@republic Ppl in United states , u voice it to the president there so he urges narendra modi to take action\n",
      "\n",
      "************************************************************\n",
      "\n",
      "Tweet pair  4\n",
      "Tweet1\n",
      "@republic Ppl in United states , u voice it to the president there so he urges narendra modi to take action\n",
      "Tweet2\n",
      "@republic Ppl in United states , u voice it to the president there so he urges narendra modi to take action\n",
      "\n",
      "************************************************************\n",
      "\n",
      "Tweet pair  5\n",
      "Tweet1\n",
      "@republic Ppl in United states , u voice it to the president there so he urges narendra modi to take action\n",
      "Tweet2\n",
      "@republic Ppl in United states , u voice it to the president there so he urges narendra modi to take action\n",
      "\n",
      "************************************************************\n",
      "\n",
      "Tweet pair  6\n",
      "Tweet1\n",
      "@republic Ppl in United states , u voice it to the president there so he urges narendra modi to take action\n",
      "Tweet2\n",
      "@republic Ppl in United states , u voice it to the president there so he urges narendra modi to take action\n",
      "\n",
      "************************************************************\n",
      "\n",
      "Tweet pair  7\n",
      "Tweet1\n",
      "@republic Ppl in United states , u voice it to the president there so he urges narendra modi to take action\n",
      "Tweet2\n",
      "@republic Ppl in United states , u voice it to the president there so he urges narendra modi to take action\n",
      "\n",
      "************************************************************\n",
      "\n",
      "Tweet pair  8\n",
      "Tweet1\n",
      "@republic Ppl in United states , u voice it to the president there so he urges narendra modi to take action\n",
      "Tweet2\n",
      "@republic Ppl in United states , u voice it to the president there so he urges narendra modi to take action\n",
      "\n",
      "************************************************************\n",
      "\n",
      "Tweet pair  9\n",
      "Tweet1\n",
      "@republic Ppl in United states , u voice it to the president there so he urges narendra modi to take action\n",
      "Tweet2\n",
      "@republic Ppl in United states  , u voice it to the president there so he urges narendra modi to take action\n",
      "\n",
      "************************************************************\n",
      "\n",
      "Tweet pair  10\n",
      "Tweet1\n",
      "@republic Ppl in United states , u voice it to the president there so he urges narendra modi to take action\n",
      "Tweet2\n",
      "@republic Ppl in United states , u voice it to the president there so he urges narendra modi to take action\n",
      "\n",
      "************************************************************\n"
     ]
    }
   ],
   "source": [
    "print_tweet_pairs(top_10_BoW_df)"
   ]
  },
  {
   "cell_type": "markdown",
   "metadata": {},
   "source": [
    "## Similar tweets pair using TF-IDF\n"
   ]
  },
  {
   "cell_type": "code",
   "execution_count": 44,
   "metadata": {},
   "outputs": [
    {
     "name": "stdout",
     "output_type": "stream",
     "text": [
      "\n",
      "Tweet pair  1\n",
      "Tweet1\n",
      "@Republic_Bharat Ppl in United states , u voice it to the president there so he urges narendra modi to take action\n",
      "Tweet2\n",
      "@Republic_Bharat Ppl in United states , u voice it to the president there so he urges narendra modi to take action\n",
      "\n",
      "************************************************************\n",
      "\n",
      "Tweet pair  2\n",
      "Tweet1\n",
      "@GeneralBakshi Ppl in us , u voice it to the president there so he urges narendra modi to take action\n",
      "Tweet2\n",
      "@GeneralBakshi Ppl in us , u voice it to the president there so he urges narendra modi to take action\n",
      "\n",
      "************************************************************\n",
      "\n",
      "Tweet pair  3\n",
      "Tweet1\n",
      "Narendra Modi\n",
      "Tweet2\n",
      "Narendra modi\n",
      "\n",
      "************************************************************\n",
      "\n",
      "Tweet pair  4\n",
      "Tweet1\n",
      "Narendra Modi\n",
      "Tweet2\n",
      "Narendra Modi\n",
      "\n",
      "************************************************************\n",
      "\n",
      "Tweet pair  5\n",
      "Tweet1\n",
      "Narendra modi\n",
      "Tweet2\n",
      "Narendra Modi\n",
      "\n",
      "************************************************************\n",
      "\n",
      "Tweet pair  6\n",
      "Tweet1\n",
      "प्रधानमंत्री ने उत्‍तराखंड के निवासियों को राज्‍य के स्‍थापना दिवस पर बधाई दी\n",
      "https://t.co/WdWcc2GZ80\n",
      "via NaMo App\n",
      "Tweet2\n",
      "प्रधानमंत्री ने उत्‍तराखंड के निवासियों को राज्‍य के स्‍थापना दिवस पर बधाई दी\n",
      "https://t.co/WdWcc2GZ80\n",
      "via NaMo App\n",
      "\n",
      "************************************************************\n",
      "\n",
      "Tweet pair  7\n",
      "Tweet1\n",
      "@BJP4India Narendra Modi chur hai.....\n",
      "Tweet2\n",
      "@BJP4India Narendra Modi chur hai...\n",
      "\n",
      "************************************************************\n",
      "\n",
      "Tweet pair  8\n",
      "Tweet1\n",
      "@republic Ppl in United states , u voice it to the president there so he urges narendra modi to take action\n",
      "Tweet2\n",
      "@republic Ppl in United states , u voice it to the president there so he urges narendra modi to take action\n",
      "\n",
      "************************************************************\n",
      "\n",
      "Tweet pair  9\n",
      "Tweet1\n",
      "@republic Ppl in United states , u voice it to the president there so he urges narendra modi to take action\n",
      "Tweet2\n",
      "@republic Ppl in United states , u voice it to the president there so he urges narendra modi to take action\n",
      "\n",
      "************************************************************\n",
      "\n",
      "Tweet pair  10\n",
      "Tweet1\n",
      "@republic Ppl in United states , u voice it to the president there so he urges narendra modi to take action\n",
      "Tweet2\n",
      "@republic Ppl in United states , u voice it to the president there so he urges narendra modi to take action\n",
      "\n",
      "************************************************************\n"
     ]
    }
   ],
   "source": [
    "tfidf_similarity = cosine_similarity(tfidf_array)\n",
    "tfidf_similarity_df = similar_pairs(tfidf_similarity)\n",
    "top_10_tfidf_df = tfidf_similarity_df.nlargest(10, 'cosine similarity')\n",
    "top_10_tfidf_df.reset_index(drop=True)\n",
    "print_tweet_pairs(top_10_tfidf_df)"
   ]
  },
  {
   "cell_type": "markdown",
   "metadata": {},
   "source": [
    "### Find out unique users (N) who have posted these 1000 tweets. (N <= 1000) U1, u2, ….., uN"
   ]
  },
  {
   "cell_type": "code",
   "execution_count": 45,
   "metadata": {},
   "outputs": [
    {
     "data": {
      "text/html": [
       "<div>\n",
       "<style scoped>\n",
       "    .dataframe tbody tr th:only-of-type {\n",
       "        vertical-align: middle;\n",
       "    }\n",
       "\n",
       "    .dataframe tbody tr th {\n",
       "        vertical-align: top;\n",
       "    }\n",
       "\n",
       "    .dataframe thead th {\n",
       "        text-align: right;\n",
       "    }\n",
       "</style>\n",
       "<table border=\"1\" class=\"dataframe\">\n",
       "  <thead>\n",
       "    <tr style=\"text-align: right;\">\n",
       "      <th></th>\n",
       "      <th>tweet_id</th>\n",
       "      <th>creator_id</th>\n",
       "      <th>creator_followers</th>\n",
       "      <th>creator_friends</th>\n",
       "    </tr>\n",
       "  </thead>\n",
       "  <tbody>\n",
       "    <tr>\n",
       "      <th>count</th>\n",
       "      <td>6.730000e+02</td>\n",
       "      <td>6.730000e+02</td>\n",
       "      <td>673.000000</td>\n",
       "      <td>673.000000</td>\n",
       "    </tr>\n",
       "    <tr>\n",
       "      <th>mean</th>\n",
       "      <td>1.325769e+18</td>\n",
       "      <td>8.879432e+17</td>\n",
       "      <td>113.705795</td>\n",
       "      <td>204.833581</td>\n",
       "    </tr>\n",
       "    <tr>\n",
       "      <th>std</th>\n",
       "      <td>3.619250e+13</td>\n",
       "      <td>5.356930e+17</td>\n",
       "      <td>180.459688</td>\n",
       "      <td>241.751377</td>\n",
       "    </tr>\n",
       "    <tr>\n",
       "      <th>min</th>\n",
       "      <td>1.325702e+18</td>\n",
       "      <td>1.001794e+07</td>\n",
       "      <td>0.000000</td>\n",
       "      <td>0.000000</td>\n",
       "    </tr>\n",
       "    <tr>\n",
       "      <th>25%</th>\n",
       "      <td>1.325740e+18</td>\n",
       "      <td>4.896243e+09</td>\n",
       "      <td>3.000000</td>\n",
       "      <td>37.000000</td>\n",
       "    </tr>\n",
       "    <tr>\n",
       "      <th>50%</th>\n",
       "      <td>1.325769e+18</td>\n",
       "      <td>1.165962e+18</td>\n",
       "      <td>30.000000</td>\n",
       "      <td>103.000000</td>\n",
       "    </tr>\n",
       "    <tr>\n",
       "      <th>75%</th>\n",
       "      <td>1.325800e+18</td>\n",
       "      <td>1.295244e+18</td>\n",
       "      <td>150.000000</td>\n",
       "      <td>293.000000</td>\n",
       "    </tr>\n",
       "    <tr>\n",
       "      <th>max</th>\n",
       "      <td>1.325834e+18</td>\n",
       "      <td>1.325797e+18</td>\n",
       "      <td>981.000000</td>\n",
       "      <td>997.000000</td>\n",
       "    </tr>\n",
       "  </tbody>\n",
       "</table>\n",
       "</div>"
      ],
      "text/plain": [
       "           tweet_id    creator_id  creator_followers  creator_friends\n",
       "count  6.730000e+02  6.730000e+02         673.000000       673.000000\n",
       "mean   1.325769e+18  8.879432e+17         113.705795       204.833581\n",
       "std    3.619250e+13  5.356930e+17         180.459688       241.751377\n",
       "min    1.325702e+18  1.001794e+07           0.000000         0.000000\n",
       "25%    1.325740e+18  4.896243e+09           3.000000        37.000000\n",
       "50%    1.325769e+18  1.165962e+18          30.000000       103.000000\n",
       "75%    1.325800e+18  1.295244e+18         150.000000       293.000000\n",
       "max    1.325834e+18  1.325797e+18         981.000000       997.000000"
      ]
     },
     "execution_count": 45,
     "metadata": {},
     "output_type": "execute_result"
    }
   ],
   "source": [
    "# Unique users with followers/friends atmost 1000 (<= 1000)\n",
    "\n",
    "df_user = df[(df['creator_followers'] <= 1000) & (df['creator_friends'] <= 1000)]\n",
    "df_user.describe()"
   ]
  },
  {
   "cell_type": "code",
   "execution_count": 46,
   "metadata": {},
   "outputs": [
    {
     "data": {
      "text/plain": [
       "478"
      ]
     },
     "execution_count": 46,
     "metadata": {},
     "output_type": "execute_result"
    }
   ],
   "source": [
    "unique_creators = df_user.created_by.unique()\n",
    "unique_creators = list(unique_creators)\n",
    "len(unique_creators)"
   ]
  },
  {
   "cell_type": "code",
   "execution_count": 47,
   "metadata": {},
   "outputs": [],
   "source": [
    "def limit_handled(cursor, list_name):\n",
    "    while True:\n",
    "        try:\n",
    "            yield cursor.next()\n",
    "            #print(len(user_list))\n",
    "        # Catch Twitter API rate limit exception and wait for 15 minutes\n",
    "        except tweepy.RateLimitError:\n",
    "            print(\"Data points in list = {}\".format(len(list_name)))\n",
    "            print(\"Hit Twitter API rate limit.\")\n",
    "            for i in range(3, 0, -1):\n",
    "                print(\"Wait for {} mins.\".format(i*5))\n",
    "                time.sleep(5*60)\n",
    "        # Catch any other Twitter API exceptions\n",
    "        except tweepy.error.TweepError:\n",
    "            print('\\nCaught TweepError exception')\n",
    "            break"
   ]
  },
  {
   "cell_type": "code",
   "execution_count": 48,
   "metadata": {},
   "outputs": [
    {
     "name": "stdout",
     "output_type": "stream",
     "text": [
      "1\n",
      "2\n",
      "3\n",
      "4\n",
      "5\n",
      "6\n",
      "7\n",
      "8\n",
      "9\n",
      "10\n",
      "11\n",
      "12\n",
      "13\n",
      "14\n",
      "15\n",
      "16\n",
      "\n",
      "Caught TweepError exception\n",
      "17\n",
      "18\n",
      "19\n",
      "20\n",
      "21\n",
      "22\n",
      "23\n",
      "\n",
      "Caught TweepError exception\n",
      "24\n",
      "25\n",
      "26\n",
      "27\n",
      "28\n",
      "29\n",
      "30\n",
      "31\n",
      "32\n",
      "33\n",
      "34\n",
      "35\n",
      "36\n",
      "37\n",
      "38\n",
      "39\n",
      "40\n",
      "41\n",
      "42\n",
      "43\n",
      "44\n",
      "45\n",
      "46\n",
      "47\n",
      "48\n",
      "49\n",
      "50\n",
      "51\n",
      "52\n",
      "53\n",
      "54\n",
      "55\n",
      "56\n",
      "57\n",
      "58\n",
      "59\n",
      "60\n",
      "61\n",
      "62\n",
      "63\n",
      "64\n",
      "65\n",
      "66\n",
      "67\n",
      "68\n",
      "69\n",
      "70\n",
      "71\n",
      "72\n",
      "73\n",
      "74\n",
      "75\n",
      "76\n",
      "77\n",
      "78\n",
      "79\n",
      "80\n",
      "81\n",
      "82\n",
      "83\n",
      "84\n",
      "85\n",
      "86\n",
      "87\n",
      "88\n",
      "89\n",
      "90\n",
      "91\n",
      "92\n",
      "93\n",
      "94\n",
      "95\n",
      "96\n",
      "97\n",
      "98\n",
      "99\n",
      "100\n",
      "101\n",
      "102\n",
      "103\n",
      "104\n",
      "105\n",
      "106\n",
      "107\n",
      "108\n",
      "109\n",
      "110\n",
      "111\n",
      "112\n",
      "113\n",
      "114\n",
      "115\n",
      "116\n",
      "117\n",
      "118\n",
      "119\n",
      "120\n",
      "121\n",
      "122\n",
      "123\n",
      "124\n",
      "125\n",
      "126\n",
      "127\n",
      "128\n",
      "129\n",
      "130\n",
      "131\n",
      "132\n",
      "133\n",
      "134\n",
      "135\n",
      "136\n",
      "137\n",
      "138\n",
      "139\n",
      "140\n",
      "141\n",
      "142\n",
      "143\n",
      "144\n",
      "145\n",
      "146\n",
      "147\n",
      "148\n",
      "149\n",
      "150\n",
      "151\n",
      "152\n",
      "153\n",
      "154\n",
      "155\n",
      "156\n",
      "157\n",
      "158\n",
      "159\n",
      "160\n",
      "161\n",
      "162\n",
      "163\n",
      "164\n",
      "165\n",
      "166\n",
      "167\n",
      "168\n",
      "169\n",
      "170\n",
      "171\n",
      "172\n",
      "173\n",
      "174\n",
      "175\n",
      "176\n",
      "177\n",
      "178\n",
      "179\n",
      "180\n",
      "181\n",
      "182\n",
      "183\n",
      "184\n",
      "185\n",
      "186\n",
      "187\n",
      "188\n",
      "189\n",
      "190\n",
      "191\n",
      "192\n",
      "193\n",
      "194\n",
      "195\n",
      "196\n",
      "197\n",
      "198\n",
      "199\n",
      "200\n",
      "201\n",
      "202\n",
      "203\n",
      "204\n",
      "205\n",
      "206\n",
      "207\n",
      "208\n",
      "209\n",
      "210\n",
      "211\n",
      "212\n",
      "213\n",
      "214\n",
      "215\n",
      "216\n",
      "\n",
      "Caught TweepError exception\n",
      "\n",
      "Caught TweepError exception\n",
      "217\n",
      "218\n",
      "219\n",
      "220\n",
      "221\n",
      "222\n",
      "223\n",
      "224\n",
      "225\n",
      "226\n",
      "227\n",
      "228\n",
      "229\n",
      "230\n",
      "231\n",
      "232\n",
      "233\n",
      "234\n",
      "235\n",
      "236\n",
      "237\n",
      "238\n",
      "239\n",
      "240\n",
      "241\n",
      "242\n",
      "243\n",
      "244\n",
      "245\n",
      "246\n",
      "247\n",
      "248\n",
      "249\n",
      "250\n",
      "251\n",
      "252\n",
      "253\n",
      "254\n",
      "255\n",
      "256\n",
      "257\n",
      "258\n",
      "259\n",
      "260\n",
      "261\n",
      "262\n",
      "263\n",
      "264\n",
      "265\n",
      "266\n",
      "267\n",
      "268\n",
      "269\n",
      "270\n",
      "271\n",
      "272\n",
      "\n",
      "Caught TweepError exception\n",
      "273\n",
      "274\n",
      "275\n",
      "\n",
      "Caught TweepError exception\n",
      "276\n",
      "277\n",
      "278\n",
      "279\n",
      "280\n",
      "281\n",
      "282\n",
      "283\n",
      "284\n",
      "285\n",
      "286\n",
      "287\n",
      "288\n",
      "289\n",
      "290\n",
      "291\n",
      "292\n",
      "293\n",
      "294\n",
      "295\n",
      "296\n",
      "297\n",
      "298\n",
      "299\n",
      "300\n",
      "301\n",
      "302\n",
      "303\n",
      "304\n",
      "305\n",
      "306\n",
      "307\n",
      "308\n",
      "309\n",
      "310\n",
      "311\n",
      "312\n",
      "313\n",
      "314\n",
      "315\n",
      "316\n",
      "317\n",
      "318\n",
      "319\n",
      "320\n",
      "\n",
      "Caught TweepError exception\n",
      "321\n",
      "322\n",
      "323\n",
      "324\n",
      "325\n",
      "326\n",
      "327\n",
      "328\n",
      "329\n",
      "330\n",
      "331\n",
      "332\n",
      "333\n",
      "334\n",
      "335\n",
      "336\n",
      "337\n",
      "338\n",
      "339\n",
      "340\n",
      "341\n",
      "342\n",
      "343\n",
      "344\n",
      "345\n",
      "346\n",
      "347\n",
      "348\n",
      "349\n",
      "350\n",
      "351\n",
      "352\n",
      "353\n",
      "354\n",
      "355\n",
      "356\n",
      "357\n",
      "358\n",
      "359\n",
      "360\n",
      "361\n",
      "362\n",
      "363\n",
      "364\n",
      "365\n",
      "366\n",
      "367\n",
      "368\n",
      "369\n",
      "370\n",
      "371\n",
      "372\n",
      "373\n",
      "374\n",
      "375\n",
      "376\n",
      "377\n",
      "378\n",
      "379\n",
      "380\n",
      "381\n",
      "382\n",
      "383\n",
      "384\n",
      "385\n",
      "386\n",
      "387\n",
      "388\n",
      "389\n",
      "390\n",
      "391\n",
      "392\n",
      "393\n",
      "394\n",
      "395\n",
      "396\n",
      "397\n",
      "398\n",
      "399\n",
      "400\n",
      "401\n",
      "402\n",
      "403\n",
      "404\n",
      "405\n",
      "406\n",
      "407\n",
      "408\n",
      "409\n",
      "410\n",
      "411\n",
      "412\n",
      "\n",
      "Caught TweepError exception\n",
      "413\n",
      "414\n",
      "415\n",
      "416\n",
      "417\n",
      "418\n",
      "419\n",
      "420\n",
      "421\n",
      "422\n",
      "423\n",
      "424\n",
      "425\n",
      "426\n",
      "427\n",
      "428\n",
      "429\n",
      "430\n",
      "431\n",
      "432\n",
      "433\n",
      "434\n",
      "435\n",
      "436\n",
      "437\n",
      "438\n",
      "439\n",
      "440\n",
      "441\n",
      "442\n",
      "443\n",
      "444\n",
      "445\n",
      "446\n",
      "447\n",
      "448\n",
      "449\n",
      "450\n",
      "451\n",
      "\n",
      "Caught TweepError exception\n",
      "452\n",
      "453\n",
      "454\n",
      "455\n",
      "456\n",
      "457\n",
      "458\n",
      "459\n",
      "460\n",
      "461\n",
      "462\n",
      "463\n",
      "464\n",
      "465\n",
      "466\n",
      "467\n",
      "468\n",
      "469\n",
      "470\n",
      "471\n",
      "472\n",
      "473\n",
      "474\n",
      "475\n",
      "476\n",
      "477\n",
      "\n",
      "Caught TweepError exception\n",
      "478\n"
     ]
    }
   ],
   "source": [
    "# Create a list of followers and friends of these unique creators\n",
    "#f = ['joongfIrt', 'PrameyaEnglish']\n",
    "\n",
    "user_list = []\n",
    "count = 0\n",
    "for user in unique_creators:\n",
    "    count = count + 1\n",
    "    print(count)\n",
    "    ff_list = []\n",
    "    followers = []\n",
    "    for follower in limit_handled(tweepy.Cursor(api.followers, screen_name=user, count=200).items(), user_list):\n",
    "        followers.append(follower.screen_name)\n",
    "        #print(\"followers: \", len(followers))\n",
    "    \n",
    "    friends = []\n",
    "    for friend in limit_handled(tweepy.Cursor(api.friends, screen_name=user, count=200).items(), user_list):\n",
    "        friends.append(friend.screen_name)    \n",
    "        #print(\"friends: \", len(friends))\n",
    "        \n",
    "    ff_list = [followers, friends]\n",
    "\n",
    "    user_list.append(ff_list)"
   ]
  },
  {
   "cell_type": "code",
   "execution_count": 49,
   "metadata": {},
   "outputs": [
    {
     "data": {
      "text/plain": [
       "478"
      ]
     },
     "execution_count": 49,
     "metadata": {},
     "output_type": "execute_result"
    }
   ],
   "source": [
    "len(user_list)"
   ]
  },
  {
   "cell_type": "markdown",
   "metadata": {},
   "source": [
    "### Create Network Graph using NetworkX\n",
    "\n",
    "Followers and followees are also users, so create a follower-followee directed graph among them, G. (ui → uj) iff ui is followed by uj"
   ]
  },
  {
   "cell_type": "code",
   "execution_count": 50,
   "metadata": {},
   "outputs": [],
   "source": [
    "#!pip install networkx\n",
    "\n",
    "import networkx as nx\n",
    "import matplotlib.pyplot as plt"
   ]
  },
  {
   "cell_type": "code",
   "execution_count": 51,
   "metadata": {},
   "outputs": [],
   "source": [
    "# Instantiate Graph object (Directed graph)\n",
    "\n",
    "g = nx.DiGraph()"
   ]
  },
  {
   "cell_type": "code",
   "execution_count": 52,
   "metadata": {},
   "outputs": [],
   "source": [
    "for i in range(len(user_list)):\n",
    "    for j in range(len(user_list[i][0])): # For followers\n",
    "        g.add_edge(unique_creators[i], user_list[i][0][j])\n",
    "    \n",
    "    for k in range(len(user_list[i][1])): # For friends\n",
    "        g.add_edge(user_list[i][1][k], unique_creators[i])"
   ]
  },
  {
   "cell_type": "code",
   "execution_count": 53,
   "metadata": {},
   "outputs": [
    {
     "data": {
      "image/png": "[encoded data removed]",
      "text/plain": [
       "<Figure size 432x288 with 1 Axes>"
      ]
     },
     "metadata": {},
     "output_type": "display_data"
    }
   ],
   "source": [
    "# Draw Graph\n",
    "\n",
    "nx.draw(g)"
   ]
  },
  {
   "cell_type": "code",
   "execution_count": 54,
   "metadata": {},
   "outputs": [
    {
     "data": {
      "text/plain": [
       "<Figure size 432x288 with 0 Axes>"
      ]
     },
     "metadata": {},
     "output_type": "display_data"
    }
   ],
   "source": [
    "plt.savefig('network_graph.png')"
   ]
  },
  {
   "cell_type": "markdown",
   "metadata": {},
   "source": [
    "Find popular users in this G based on\n",
    "\n",
    "* Degree centrality\n",
    "* Betweeness centrality\n",
    "* Closeness centrality"
   ]
  },
  {
   "cell_type": "code",
   "execution_count": 55,
   "metadata": {},
   "outputs": [],
   "source": [
    "d=nx.degree_centrality(g)  "
   ]
  },
  {
   "cell_type": "code",
   "execution_count": 56,
   "metadata": {},
   "outputs": [],
   "source": [
    "b=nx.betweenness_centrality(g)"
   ]
  },
  {
   "cell_type": "code",
   "execution_count": 57,
   "metadata": {},
   "outputs": [],
   "source": [
    "c=nx.closeness_centrality(g) "
   ]
  },
  {
   "cell_type": "code",
   "execution_count": 58,
   "metadata": {},
   "outputs": [],
   "source": [
    "Keymax_degree = max(d, key=d.get)\n",
    "Keymax_betweenness = max(b, key=b.get)\n",
    "Keymax_closeness = max(c, key=c.get)"
   ]
  },
  {
   "cell_type": "code",
   "execution_count": 59,
   "metadata": {},
   "outputs": [
    {
     "name": "stdout",
     "output_type": "stream",
     "text": [
      "Key with max degree  dee__jay\n",
      "Key with max betweenness  DevarshiJoshi17\n",
      "Key with max closeness  MJNavada\n"
     ]
    }
   ],
   "source": [
    "print('Key with max degree ', Keymax_degree)\n",
    "print('Key with max betweenness ', Keymax_betweenness)\n",
    "print('Key with max closeness ', Keymax_closeness)"
   ]
  },
  {
   "cell_type": "code",
   "execution_count": null,
   "metadata": {},
   "outputs": [],
   "source": []
  }
 ],
 "metadata": {
  "kernelspec": {
   "display_name": "Python 3",
   "language": "python",
   "name": "python3"
  },
  "language_info": {
   "codemirror_mode": {
    "name": "ipython",
    "version": 3
   },
   "file_extension": ".py",
   "mimetype": "text/x-python",
   "name": "python",
   "nbconvert_exporter": "python",
   "pygments_lexer": "ipython3",
   "version": "3.5.2"
  }
 },
 "nbformat": 4,
 "nbformat_minor": 4
}
