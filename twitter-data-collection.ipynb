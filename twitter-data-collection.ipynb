{
 "cells": [
  {
   "cell_type": "code",
   "execution_count": 1,
   "metadata": {},
   "outputs": [],
   "source": [
    "#!pip install tweepy"
   ]
  },
  {
   "cell_type": "code",
   "execution_count": 2,
   "metadata": {},
   "outputs": [],
   "source": [
    "import tweepy\n",
    "import json\n",
    "import csv\n",
    "from datetime import date\n",
    "from datetime import datetime\n",
    "import time"
   ]
  },
  {
   "cell_type": "code",
   "execution_count": 3,
   "metadata": {},
   "outputs": [],
   "source": [
    "path = './data/'"
   ]
  },
  {
   "cell_type": "code",
   "execution_count": 4,
   "metadata": {},
   "outputs": [],
   "source": [
    "from secrets import *"
   ]
  },
  {
   "cell_type": "code",
   "execution_count": 5,
   "metadata": {},
   "outputs": [],
   "source": [
    "auth = tweepy.OAuthHandler(consumer_key, consumer_secret)\n",
    "auth.set_access_token(access_token, access_token_secret)\n",
    "api = tweepy.API(auth)"
   ]
  },
  {
   "cell_type": "code",
   "execution_count": 6,
   "metadata": {},
   "outputs": [],
   "source": [
    "# Helper function (save data in json file)\n",
    "def save_json(file_name, file_content):\n",
    "    with open(path + file_name, 'w', encoding='utf-8') as f:\n",
    "        json.dump(file_content, f, ensure_ascii=False, indent=4)"
   ]
  },
  {
   "cell_type": "code",
   "execution_count": 7,
   "metadata": {},
   "outputs": [],
   "source": [
    "# Helper function (rate limit)\n",
    "# Helper function to handle twitter API rate limit\n",
    "def limit_handled(cursor, list_name):\n",
    "    while True:\n",
    "        try:\n",
    "            yield cursor.next()\n",
    "        # Catch Twitter API rate limit exception and wait for 15 minutes\n",
    "        except tweepy.RateLimitError:\n",
    "            print(\"Data points in list = {}\".format(len(list_name)))\n",
    "            print(\"Hit Twitter API rate limit.\")\n",
    "            for i in range(3, 0, -1):\n",
    "                print(\"Wait for {} mins.\".format(i*5))\n",
    "                time.sleep(5*60)\n",
    "        # Catch any other Twitter API exceptions\n",
    "        except tweepy.error.TweepError:\n",
    "            print('\\nCaught TweepError exception')\n",
    "                "
   ]
  },
  {
   "cell_type": "code",
   "execution_count": 8,
   "metadata": {},
   "outputs": [],
   "source": [
    "# get friend list (also known as following list)\n",
    "\n",
    "def get_friends():\n",
    "    \n",
    "    # Create a list to store friends data\n",
    "    friends_list = []\n",
    "    # For-loop to iterate over tweepy cursors\n",
    "    cursors = tweepy.Cursor(api.friends, count=200).pages()\n",
    "    for i, page in enumerate(limit_handled(cursor, friends_list)):\n",
    "        print(\"\\r\" + \"Loading\"+ i % 5 * \".\", end='')\n",
    "        \n",
    "         # Add latest batch of friends information\n",
    "        friends_list += page\n",
    "        \n",
    "    # Add latest batch of friend data to the list\n",
    "    friends_list = [x._json for x in friends_list]\n",
    "    # Save the data in a JSON file\n",
    "    save_json('friends_data.json', friends_list)\n",
    "            "
   ]
  },
  {
   "cell_type": "code",
   "execution_count": 9,
   "metadata": {},
   "outputs": [],
   "source": [
    "# Helper function to get all tweets of a specific user\n",
    "# NOTE: This method only allows access to the most recent 3200 tweets\n",
    "# Source: https://gist.github.com/yanofsky/5436496\n",
    "\n",
    "def get_all_tweets(screen_name):\n",
    "    # initialize a list to hold all the Tweets\n",
    "    alltweets = []\n",
    "    # make initial request for most recent tweets\n",
    "    # (200 is the maximum allowed count)\n",
    "    new_tweets = api.user_timeline(screen_name = screen_name, count=200)\n",
    "    # save most recent tweets\n",
    "    alltweets.extend(new_tweets)\n",
    "    # save the id of the oldest tweet less one to avoid duplication\n",
    "    oldest = alltweets[-1].id - 1\n",
    "    # keep grabbing tweets until there are no tweets left\n",
    "    while len(new_tweets) > 0:\n",
    "        print(\"getting tweets before %s\" %(oldest))\n",
    "        # all subsequent requests use max_id param to prevent\n",
    "        # duplicate\n",
    "        new_tweets = api.user_timeline(screen_name = screen_name,count=200,max_id=oldest)\n",
    "        # save most recent tweets\n",
    "        alltweets.extend(new_tweets)\n",
    "        # update the id of the oldest tweet less one\n",
    "        oldest = alltweets[-1].id = 1\n",
    "        print(\"...%s tweets downloaded so far\" %(len(alltweets)))\n",
    "        ### END OF WHILE LOOP ###\n",
    "\n",
    "    # transform the tweepy tweets into a 2D array that will\n",
    "    # populate the csv\n",
    "    outtweets = [[tweet.id_str, tweet.created_at, tweet.text, tweet.favorite_count,tweet.in_reply_to_screen_name, tweet.retweeted] for tweet in alltweets]\n",
    "    with open(path + '%s_tweets.csv' % screen_name, 'w') as f:\n",
    "        writer = csv.writer(f)\n",
    "        writer.writerow([\"id\", \"created_at\", \"text\", \"likes\", \"in reply to\", \"retweeted\"])\n",
    "        writer.writerows(outtweets)\n",
    "    pass"
   ]
  },
  {
   "cell_type": "code",
   "execution_count": 10,
   "metadata": {},
   "outputs": [
    {
     "name": "stdout",
     "output_type": "stream",
     "text": [
      "getting tweets before 1293924138353008643\n",
      "...38 tweets downloaded so far\n"
     ]
    }
   ],
   "source": [
    "get_all_tweets ('the_airnomad')"
   ]
  },
  {
   "cell_type": "code",
   "execution_count": null,
   "metadata": {},
   "outputs": [],
   "source": []
  }
 ],
 "metadata": {
  "kernelspec": {
   "display_name": "Python 3",
   "language": "python",
   "name": "python3"
  },
  "language_info": {
   "codemirror_mode": {
    "name": "ipython",
    "version": 3
   },
   "file_extension": ".py",
   "mimetype": "text/x-python",
   "name": "python",
   "nbconvert_exporter": "python",
   "pygments_lexer": "ipython3",
   "version": "3.5.2"
  }
 },
 "nbformat": 4,
 "nbformat_minor": 4
}
