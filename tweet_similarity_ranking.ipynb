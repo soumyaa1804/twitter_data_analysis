{
 "cells": [
  {
   "cell_type": "markdown",
   "metadata": {},
   "source": [
    "# Tweet similarity ranking\n",
    "\n",
    "### Problem:\n",
    "\n",
    "1: Use Twitter API to collect 1000 tweets in which keyword ‘narendra modi’ appears, save the collected tweets in nm.txt \n",
    "\n",
    "2: Convert the collected tweets into BoW vectors and find cosine similarity of a pair of tweets and print the top-10 most similar tweet pairs, print these pairs\n",
    "\n",
    "3: Do the same using TF-IDF vectors\n"
   ]
  },
  {
   "cell_type": "markdown",
   "metadata": {},
   "source": [
    "## Collect and store the data in nm.csv"
   ]
  },
  {
   "cell_type": "code",
   "execution_count": 2,
   "metadata": {},
   "outputs": [],
   "source": [
    "import tweepy\n",
    "import pandas as pd\n",
    "import numpy as np\n",
    "import csv"
   ]
  },
  {
   "cell_type": "code",
   "execution_count": 3,
   "metadata": {},
   "outputs": [],
   "source": [
    "from secrets import *"
   ]
  },
  {
   "cell_type": "code",
   "execution_count": 4,
   "metadata": {},
   "outputs": [],
   "source": [
    "# Connect twitter API\n",
    "\n",
    "auth = tweepy.OAuthHandler(consumer_key, consumer_secret)\n",
    "auth.set_access_token(access_token, access_token_secret)\n",
    "api = tweepy.API(auth, wait_on_rate_limit=True)"
   ]
  },
  {
   "cell_type": "code",
   "execution_count": 5,
   "metadata": {},
   "outputs": [],
   "source": [
    "data_path = './data/'"
   ]
  },
  {
   "cell_type": "code",
   "execution_count": 5,
   "metadata": {},
   "outputs": [],
   "source": [
    "search_words = \"narendra modi\"\n",
    "no_of_tweets = 1000"
   ]
  },
  {
   "cell_type": "code",
   "execution_count": 6,
   "metadata": {},
   "outputs": [],
   "source": [
    "# Ignoring retweets to avoid duplicacy\n",
    "\n",
    "new_search = \"narendra modi -filter:retweets\""
   ]
  },
  {
   "cell_type": "code",
   "execution_count": 7,
   "metadata": {},
   "outputs": [],
   "source": [
    "tweets = tweepy.Cursor(api.search,\n",
    "                  q=new_search).items(no_of_tweets)"
   ]
  },
  {
   "cell_type": "code",
   "execution_count": 8,
   "metadata": {},
   "outputs": [],
   "source": [
    "# Adding tweet text to nm.txt\n",
    "def text_to_file(tweets, file_name):\n",
    "    with open(data_path+file_name, \"w\") as f:\n",
    "        for tweet in tweets:\n",
    "            f.write(tweet.text + '\\n\\n ----------------------\\n')"
   ]
  },
  {
   "cell_type": "code",
   "execution_count": 13,
   "metadata": {},
   "outputs": [
    {
     "data": {
      "text/plain": [
       "1000"
      ]
     },
     "execution_count": 13,
     "metadata": {},
     "output_type": "execute_result"
    }
   ],
   "source": [
    "# Convert tweets data into dataframe\n",
    "\n",
    "text_details = [[tweet.id, tweet.created_at, tweet.user.screen_name, tweet.text] for tweet in tweets]"
   ]
  },
  {
   "cell_type": "code",
   "execution_count": 22,
   "metadata": {
    "scrolled": true
   },
   "outputs": [],
   "source": [
    "# Save tweets to csv\n",
    "\n",
    "with open(data_path + \"nm2.csv\", 'w') as f:\n",
    "    writer = csv.writer(f)\n",
    "    writer.writerow(['Tweet_id', 'Created At', 'Created By', 'Tweet Text'])\n",
    "    writer.writerows(text_details)\n",
    "pass"
   ]
  },
  {
   "cell_type": "markdown",
   "metadata": {},
   "source": [
    "## Process the stored data\n",
    "\n",
    "### Convert the collected tweets into BoW vectors and find cosine similarity of a pair of tweets and print the top-10 most similar tweet pairs, print these pairs"
   ]
  },
  {
   "cell_type": "code",
   "execution_count": 6,
   "metadata": {},
   "outputs": [],
   "source": [
    "# Read data from nm.csv\n",
    "\n",
    "df = pd.read_csv(data_path+\"nm2.csv\")"
   ]
  },
  {
   "cell_type": "code",
   "execution_count": 7,
   "metadata": {},
   "outputs": [
    {
     "data": {
      "text/plain": [
       "(1000, 4)"
      ]
     },
     "execution_count": 7,
     "metadata": {},
     "output_type": "execute_result"
    }
   ],
   "source": [
    "df.shape"
   ]
  },
  {
   "cell_type": "code",
   "execution_count": 8,
   "metadata": {},
   "outputs": [
    {
     "data": {
      "text/html": [
       "<div>\n",
       "<style scoped>\n",
       "    .dataframe tbody tr th:only-of-type {\n",
       "        vertical-align: middle;\n",
       "    }\n",
       "\n",
       "    .dataframe tbody tr th {\n",
       "        vertical-align: top;\n",
       "    }\n",
       "\n",
       "    .dataframe thead th {\n",
       "        text-align: right;\n",
       "    }\n",
       "</style>\n",
       "<table border=\"1\" class=\"dataframe\">\n",
       "  <thead>\n",
       "    <tr style=\"text-align: right;\">\n",
       "      <th></th>\n",
       "      <th>tweet_id</th>\n",
       "      <th>text</th>\n",
       "      <th>creator_id</th>\n",
       "      <th>created_by</th>\n",
       "    </tr>\n",
       "  </thead>\n",
       "  <tbody>\n",
       "    <tr>\n",
       "      <th>0</th>\n",
       "      <td>1321587869807341569</td>\n",
       "      <td>@jadafromnola @FriedrichPieter What an amazing...</td>\n",
       "      <td>1279132550380654592</td>\n",
       "      <td>BHARATIYASEEKER</td>\n",
       "    </tr>\n",
       "    <tr>\n",
       "      <th>1</th>\n",
       "      <td>1321585634440458240</td>\n",
       "      <td>@JoshCastelino Oh rice bag converts you ppl ha...</td>\n",
       "      <td>396353624</td>\n",
       "      <td>RecepErdoggann</td>\n",
       "    </tr>\n",
       "    <tr>\n",
       "      <th>2</th>\n",
       "      <td>1321580847825264640</td>\n",
       "      <td>PM Narendra Modi dubs Tejashwi ‘jungle raj ke ...</td>\n",
       "      <td>134758540</td>\n",
       "      <td>timesofindia</td>\n",
       "    </tr>\n",
       "    <tr>\n",
       "      <th>3</th>\n",
       "      <td>1321577699861647360</td>\n",
       "      <td>Hindu hi to tha mar gaya \\nMaar diya police ne...</td>\n",
       "      <td>1184757165828927488</td>\n",
       "      <td>randm_indianguy</td>\n",
       "    </tr>\n",
       "    <tr>\n",
       "      <th>4</th>\n",
       "      <td>1321570785706733568</td>\n",
       "      <td>गरीब के नाम पर राजनीति करने वालों ने देश में ऐ...</td>\n",
       "      <td>1274235804525539328</td>\n",
       "      <td>BhagwanSankla</td>\n",
       "    </tr>\n",
       "  </tbody>\n",
       "</table>\n",
       "</div>"
      ],
      "text/plain": [
       "              tweet_id                                               text  \\\n",
       "0  1321587869807341569  @jadafromnola @FriedrichPieter What an amazing...   \n",
       "1  1321585634440458240  @JoshCastelino Oh rice bag converts you ppl ha...   \n",
       "2  1321580847825264640  PM Narendra Modi dubs Tejashwi ‘jungle raj ke ...   \n",
       "3  1321577699861647360  Hindu hi to tha mar gaya \\nMaar diya police ne...   \n",
       "4  1321570785706733568  गरीब के नाम पर राजनीति करने वालों ने देश में ऐ...   \n",
       "\n",
       "            creator_id       created_by  \n",
       "0  1279132550380654592  BHARATIYASEEKER  \n",
       "1            396353624   RecepErdoggann  \n",
       "2            134758540     timesofindia  \n",
       "3  1184757165828927488  randm_indianguy  \n",
       "4  1274235804525539328    BhagwanSankla  "
      ]
     },
     "execution_count": 8,
     "metadata": {},
     "output_type": "execute_result"
    }
   ],
   "source": [
    "df.head()"
   ]
  },
  {
   "cell_type": "code",
   "execution_count": 9,
   "metadata": {},
   "outputs": [
    {
     "data": {
      "text/plain": [
       "'@jadafromnola @FriedrichPieter What an amazing quote from Narendra Modi. https://t.co/g29xriaEOx'"
      ]
     },
     "execution_count": 9,
     "metadata": {},
     "output_type": "execute_result"
    }
   ],
   "source": [
    "texts = df[\"text\"]\n",
    "texts[0]"
   ]
  },
  {
   "cell_type": "code",
   "execution_count": 10,
   "metadata": {},
   "outputs": [],
   "source": [
    "# Add text to python list\n",
    "\n",
    "text_list = []\n",
    "for text in texts:\n",
    "    text_list.append(text)"
   ]
  },
  {
   "cell_type": "code",
   "execution_count": 11,
   "metadata": {},
   "outputs": [
    {
     "data": {
      "text/plain": [
       "1000"
      ]
     },
     "execution_count": 11,
     "metadata": {},
     "output_type": "execute_result"
    }
   ],
   "source": [
    "len(text_list)"
   ]
  },
  {
   "cell_type": "code",
   "execution_count": 12,
   "metadata": {},
   "outputs": [],
   "source": [
    "# tfidf vectorize\n",
    "\n",
    "from sklearn.feature_extraction.text import TfidfVectorizer\n",
    "tfidf_vectorizer = TfidfVectorizer()"
   ]
  },
  {
   "cell_type": "code",
   "execution_count": 13,
   "metadata": {},
   "outputs": [],
   "source": [
    "T = tfidf_vectorizer.fit_transform(text_list)"
   ]
  },
  {
   "cell_type": "code",
   "execution_count": 14,
   "metadata": {},
   "outputs": [
    {
     "data": {
      "text/plain": [
       "4307"
      ]
     },
     "execution_count": 14,
     "metadata": {},
     "output_type": "execute_result"
    }
   ],
   "source": [
    "len(tfidf_vectorizer.get_feature_names())"
   ]
  },
  {
   "cell_type": "code",
   "execution_count": 15,
   "metadata": {},
   "outputs": [
    {
     "data": {
      "text/plain": [
       "(1000, 4307)"
      ]
     },
     "execution_count": 15,
     "metadata": {},
     "output_type": "execute_result"
    }
   ],
   "source": [
    "T.shape"
   ]
  },
  {
   "cell_type": "code",
   "execution_count": 16,
   "metadata": {},
   "outputs": [],
   "source": [
    "T = T.toarray()"
   ]
  },
  {
   "cell_type": "code",
   "execution_count": 17,
   "metadata": {},
   "outputs": [
    {
     "data": {
      "text/plain": [
       "array([[0., 0., 0., ..., 0., 0., 0.],\n",
       "       [0., 0., 0., ..., 0., 0., 0.],\n",
       "       [0., 0., 0., ..., 0., 0., 0.],\n",
       "       ...,\n",
       "       [0., 0., 0., ..., 0., 0., 0.],\n",
       "       [0., 0., 0., ..., 0., 0., 0.],\n",
       "       [0., 0., 0., ..., 0., 0., 0.]])"
      ]
     },
     "execution_count": 17,
     "metadata": {},
     "output_type": "execute_result"
    }
   ],
   "source": [
    "T"
   ]
  },
  {
   "cell_type": "code",
   "execution_count": 18,
   "metadata": {},
   "outputs": [
    {
     "data": {
      "text/plain": [
       "1000"
      ]
     },
     "execution_count": 18,
     "metadata": {},
     "output_type": "execute_result"
    }
   ],
   "source": [
    "len(T)"
   ]
  },
  {
   "cell_type": "code",
   "execution_count": 19,
   "metadata": {},
   "outputs": [
    {
     "data": {
      "text/plain": [
       "4307"
      ]
     },
     "execution_count": 19,
     "metadata": {},
     "output_type": "execute_result"
    }
   ],
   "source": [
    "len(T[0])"
   ]
  },
  {
   "cell_type": "code",
   "execution_count": 20,
   "metadata": {},
   "outputs": [
    {
     "name": "stdout",
     "output_type": "stream",
     "text": [
      "[0. 0. 0. ... 0. 0. 0.]\n"
     ]
    }
   ],
   "source": [
    "print(T[0])"
   ]
  },
  {
   "cell_type": "code",
   "execution_count": 21,
   "metadata": {},
   "outputs": [],
   "source": [
    "T_df = pd.DataFrame(T, columns = tfidf_vectorizer.get_feature_names())  "
   ]
  },
  {
   "cell_type": "code",
   "execution_count": 22,
   "metadata": {},
   "outputs": [
    {
     "data": {
      "text/html": [
       "<div>\n",
       "<style scoped>\n",
       "    .dataframe tbody tr th:only-of-type {\n",
       "        vertical-align: middle;\n",
       "    }\n",
       "\n",
       "    .dataframe tbody tr th {\n",
       "        vertical-align: top;\n",
       "    }\n",
       "\n",
       "    .dataframe thead th {\n",
       "        text-align: right;\n",
       "    }\n",
       "</style>\n",
       "<table border=\"1\" class=\"dataframe\">\n",
       "  <thead>\n",
       "    <tr style=\"text-align: right;\">\n",
       "      <th></th>\n",
       "      <th>00000</th>\n",
       "      <th>0_0you_know_who</th>\n",
       "      <th>0auv3vnixt</th>\n",
       "      <th>0cxem7pdlo</th>\n",
       "      <th>0eauaex4sd</th>\n",
       "      <th>0gstvoy8ql</th>\n",
       "      <th>0lky13faai</th>\n",
       "      <th>0qygshhb4l</th>\n",
       "      <th>0rlzovlefn</th>\n",
       "      <th>0t13bwpbbr</th>\n",
       "      <th>...</th>\n",
       "      <th>എന</th>\n",
       "      <th>കറ</th>\n",
       "      <th>ങള</th>\n",
       "      <th>ടത</th>\n",
       "      <th>ണയ</th>\n",
       "      <th>പട</th>\n",
       "      <th>രഞ</th>\n",
       "      <th>രത</th>\n",
       "      <th>ലര</th>\n",
       "      <th>ൽഒ</th>\n",
       "    </tr>\n",
       "  </thead>\n",
       "  <tbody>\n",
       "    <tr>\n",
       "      <th>0</th>\n",
       "      <td>0.0</td>\n",
       "      <td>0.0</td>\n",
       "      <td>0.0</td>\n",
       "      <td>0.0</td>\n",
       "      <td>0.0</td>\n",
       "      <td>0.0</td>\n",
       "      <td>0.0</td>\n",
       "      <td>0.0</td>\n",
       "      <td>0.0</td>\n",
       "      <td>0.0</td>\n",
       "      <td>...</td>\n",
       "      <td>0.0</td>\n",
       "      <td>0.0</td>\n",
       "      <td>0.0</td>\n",
       "      <td>0.0</td>\n",
       "      <td>0.0</td>\n",
       "      <td>0.0</td>\n",
       "      <td>0.0</td>\n",
       "      <td>0.0</td>\n",
       "      <td>0.0</td>\n",
       "      <td>0.0</td>\n",
       "    </tr>\n",
       "    <tr>\n",
       "      <th>1</th>\n",
       "      <td>0.0</td>\n",
       "      <td>0.0</td>\n",
       "      <td>0.0</td>\n",
       "      <td>0.0</td>\n",
       "      <td>0.0</td>\n",
       "      <td>0.0</td>\n",
       "      <td>0.0</td>\n",
       "      <td>0.0</td>\n",
       "      <td>0.0</td>\n",
       "      <td>0.0</td>\n",
       "      <td>...</td>\n",
       "      <td>0.0</td>\n",
       "      <td>0.0</td>\n",
       "      <td>0.0</td>\n",
       "      <td>0.0</td>\n",
       "      <td>0.0</td>\n",
       "      <td>0.0</td>\n",
       "      <td>0.0</td>\n",
       "      <td>0.0</td>\n",
       "      <td>0.0</td>\n",
       "      <td>0.0</td>\n",
       "    </tr>\n",
       "    <tr>\n",
       "      <th>2</th>\n",
       "      <td>0.0</td>\n",
       "      <td>0.0</td>\n",
       "      <td>0.0</td>\n",
       "      <td>0.0</td>\n",
       "      <td>0.0</td>\n",
       "      <td>0.0</td>\n",
       "      <td>0.0</td>\n",
       "      <td>0.0</td>\n",
       "      <td>0.0</td>\n",
       "      <td>0.0</td>\n",
       "      <td>...</td>\n",
       "      <td>0.0</td>\n",
       "      <td>0.0</td>\n",
       "      <td>0.0</td>\n",
       "      <td>0.0</td>\n",
       "      <td>0.0</td>\n",
       "      <td>0.0</td>\n",
       "      <td>0.0</td>\n",
       "      <td>0.0</td>\n",
       "      <td>0.0</td>\n",
       "      <td>0.0</td>\n",
       "    </tr>\n",
       "    <tr>\n",
       "      <th>3</th>\n",
       "      <td>0.0</td>\n",
       "      <td>0.0</td>\n",
       "      <td>0.0</td>\n",
       "      <td>0.0</td>\n",
       "      <td>0.0</td>\n",
       "      <td>0.0</td>\n",
       "      <td>0.0</td>\n",
       "      <td>0.0</td>\n",
       "      <td>0.0</td>\n",
       "      <td>0.0</td>\n",
       "      <td>...</td>\n",
       "      <td>0.0</td>\n",
       "      <td>0.0</td>\n",
       "      <td>0.0</td>\n",
       "      <td>0.0</td>\n",
       "      <td>0.0</td>\n",
       "      <td>0.0</td>\n",
       "      <td>0.0</td>\n",
       "      <td>0.0</td>\n",
       "      <td>0.0</td>\n",
       "      <td>0.0</td>\n",
       "    </tr>\n",
       "    <tr>\n",
       "      <th>4</th>\n",
       "      <td>0.0</td>\n",
       "      <td>0.0</td>\n",
       "      <td>0.0</td>\n",
       "      <td>0.0</td>\n",
       "      <td>0.0</td>\n",
       "      <td>0.0</td>\n",
       "      <td>0.0</td>\n",
       "      <td>0.0</td>\n",
       "      <td>0.0</td>\n",
       "      <td>0.0</td>\n",
       "      <td>...</td>\n",
       "      <td>0.0</td>\n",
       "      <td>0.0</td>\n",
       "      <td>0.0</td>\n",
       "      <td>0.0</td>\n",
       "      <td>0.0</td>\n",
       "      <td>0.0</td>\n",
       "      <td>0.0</td>\n",
       "      <td>0.0</td>\n",
       "      <td>0.0</td>\n",
       "      <td>0.0</td>\n",
       "    </tr>\n",
       "  </tbody>\n",
       "</table>\n",
       "<p>5 rows × 4307 columns</p>\n",
       "</div>"
      ],
      "text/plain": [
       "   00000  0_0you_know_who  0auv3vnixt  0cxem7pdlo  0eauaex4sd  0gstvoy8ql  \\\n",
       "0    0.0              0.0         0.0         0.0         0.0         0.0   \n",
       "1    0.0              0.0         0.0         0.0         0.0         0.0   \n",
       "2    0.0              0.0         0.0         0.0         0.0         0.0   \n",
       "3    0.0              0.0         0.0         0.0         0.0         0.0   \n",
       "4    0.0              0.0         0.0         0.0         0.0         0.0   \n",
       "\n",
       "   0lky13faai  0qygshhb4l  0rlzovlefn  0t13bwpbbr  ...   എന   കറ   ങള   ടത  \\\n",
       "0         0.0         0.0         0.0         0.0  ...  0.0  0.0  0.0  0.0   \n",
       "1         0.0         0.0         0.0         0.0  ...  0.0  0.0  0.0  0.0   \n",
       "2         0.0         0.0         0.0         0.0  ...  0.0  0.0  0.0  0.0   \n",
       "3         0.0         0.0         0.0         0.0  ...  0.0  0.0  0.0  0.0   \n",
       "4         0.0         0.0         0.0         0.0  ...  0.0  0.0  0.0  0.0   \n",
       "\n",
       "    ണയ   പട   രഞ   രത   ലര   ൽഒ  \n",
       "0  0.0  0.0  0.0  0.0  0.0  0.0  \n",
       "1  0.0  0.0  0.0  0.0  0.0  0.0  \n",
       "2  0.0  0.0  0.0  0.0  0.0  0.0  \n",
       "3  0.0  0.0  0.0  0.0  0.0  0.0  \n",
       "4  0.0  0.0  0.0  0.0  0.0  0.0  \n",
       "\n",
       "[5 rows x 4307 columns]"
      ]
     },
     "execution_count": 22,
     "metadata": {},
     "output_type": "execute_result"
    }
   ],
   "source": [
    "T_df.head()"
   ]
  },
  {
   "cell_type": "code",
   "execution_count": 23,
   "metadata": {},
   "outputs": [],
   "source": [
    "# Cosine similarity\n",
    "from sklearn.metrics.pairwise import cosine_similarity\n",
    "\n",
    "tweet_similarity = []\n",
    "\n",
    "for i in range(len(T)):\n",
    "    tweet_similarity_row = []\n",
    "    for j in range(len(T)):\n",
    "        a = np.reshape(T[i], (1, T[i].size))\n",
    "        b = np.reshape(T[j], (1, T[j].size))\n",
    "        c = cosine_similarity(a,b)\n",
    "        tweet_similarity_row.append(c[0][0])\n",
    "    tweet_similarity.append(tweet_similarity_row)\n",
    "    "
   ]
  },
  {
   "cell_type": "code",
   "execution_count": 24,
   "metadata": {},
   "outputs": [
    {
     "data": {
      "text/plain": [
       "1000"
      ]
     },
     "execution_count": 24,
     "metadata": {},
     "output_type": "execute_result"
    }
   ],
   "source": [
    "len(tweet_similarity)"
   ]
  },
  {
   "cell_type": "code",
   "execution_count": 25,
   "metadata": {},
   "outputs": [
    {
     "data": {
      "text/plain": [
       "1000"
      ]
     },
     "execution_count": 25,
     "metadata": {},
     "output_type": "execute_result"
    }
   ],
   "source": [
    "len(tweet_similarity[0])"
   ]
  },
  {
   "cell_type": "code",
   "execution_count": 26,
   "metadata": {},
   "outputs": [],
   "source": [
    "# Find pair which are most similar (max value in tweet_similarity)\n",
    "\n",
    "row_col_similarity = []\n",
    "\n",
    "for i in range(len(T)):\n",
    "    for j in range(i, len(T)):\n",
    "        if i != j:\n",
    "            row_col_similarity.append([i, j, tweet_similarity[i][j]])"
   ]
  },
  {
   "cell_type": "code",
   "execution_count": 27,
   "metadata": {},
   "outputs": [
    {
     "data": {
      "text/plain": [
       "499500"
      ]
     },
     "execution_count": 27,
     "metadata": {},
     "output_type": "execute_result"
    }
   ],
   "source": [
    "len(row_col_similarity)"
   ]
  },
  {
   "cell_type": "code",
   "execution_count": 28,
   "metadata": {},
   "outputs": [
    {
     "data": {
      "text/plain": [
       "3"
      ]
     },
     "execution_count": 28,
     "metadata": {},
     "output_type": "execute_result"
    }
   ],
   "source": [
    "len(row_col_similarity[0])"
   ]
  },
  {
   "cell_type": "code",
   "execution_count": 29,
   "metadata": {},
   "outputs": [],
   "source": [
    "# Create the pandas DataFrame \n",
    "similarity_df = pd.DataFrame(row_col_similarity, columns = ['Tweet1 index', 'Tweet2 index', 'cosine similarity']) "
   ]
  },
  {
   "cell_type": "code",
   "execution_count": 30,
   "metadata": {},
   "outputs": [],
   "source": [
    "# Sort in dec order of cosine similarity\n",
    "\n",
    "top_ten_df = similarity_df.nlargest(10, 'cosine similarity')"
   ]
  },
  {
   "cell_type": "code",
   "execution_count": 31,
   "metadata": {},
   "outputs": [
    {
     "data": {
      "text/html": [
       "<div>\n",
       "<style scoped>\n",
       "    .dataframe tbody tr th:only-of-type {\n",
       "        vertical-align: middle;\n",
       "    }\n",
       "\n",
       "    .dataframe tbody tr th {\n",
       "        vertical-align: top;\n",
       "    }\n",
       "\n",
       "    .dataframe thead th {\n",
       "        text-align: right;\n",
       "    }\n",
       "</style>\n",
       "<table border=\"1\" class=\"dataframe\">\n",
       "  <thead>\n",
       "    <tr style=\"text-align: right;\">\n",
       "      <th></th>\n",
       "      <th>Tweet1 index</th>\n",
       "      <th>Tweet2 index</th>\n",
       "      <th>cosine similarity</th>\n",
       "    </tr>\n",
       "  </thead>\n",
       "  <tbody>\n",
       "    <tr>\n",
       "      <th>0</th>\n",
       "      <td>268</td>\n",
       "      <td>269</td>\n",
       "      <td>1.0</td>\n",
       "    </tr>\n",
       "    <tr>\n",
       "      <th>1</th>\n",
       "      <td>92</td>\n",
       "      <td>510</td>\n",
       "      <td>1.0</td>\n",
       "    </tr>\n",
       "    <tr>\n",
       "      <th>2</th>\n",
       "      <td>212</td>\n",
       "      <td>398</td>\n",
       "      <td>1.0</td>\n",
       "    </tr>\n",
       "    <tr>\n",
       "      <th>3</th>\n",
       "      <td>728</td>\n",
       "      <td>729</td>\n",
       "      <td>1.0</td>\n",
       "    </tr>\n",
       "    <tr>\n",
       "      <th>4</th>\n",
       "      <td>728</td>\n",
       "      <td>730</td>\n",
       "      <td>1.0</td>\n",
       "    </tr>\n",
       "    <tr>\n",
       "      <th>5</th>\n",
       "      <td>728</td>\n",
       "      <td>731</td>\n",
       "      <td>1.0</td>\n",
       "    </tr>\n",
       "    <tr>\n",
       "      <th>6</th>\n",
       "      <td>728</td>\n",
       "      <td>732</td>\n",
       "      <td>1.0</td>\n",
       "    </tr>\n",
       "    <tr>\n",
       "      <th>7</th>\n",
       "      <td>728</td>\n",
       "      <td>733</td>\n",
       "      <td>1.0</td>\n",
       "    </tr>\n",
       "    <tr>\n",
       "      <th>8</th>\n",
       "      <td>728</td>\n",
       "      <td>734</td>\n",
       "      <td>1.0</td>\n",
       "    </tr>\n",
       "    <tr>\n",
       "      <th>9</th>\n",
       "      <td>728</td>\n",
       "      <td>735</td>\n",
       "      <td>1.0</td>\n",
       "    </tr>\n",
       "  </tbody>\n",
       "</table>\n",
       "</div>"
      ],
      "text/plain": [
       "   Tweet1 index  Tweet2 index  cosine similarity\n",
       "0           268           269                1.0\n",
       "1            92           510                1.0\n",
       "2           212           398                1.0\n",
       "3           728           729                1.0\n",
       "4           728           730                1.0\n",
       "5           728           731                1.0\n",
       "6           728           732                1.0\n",
       "7           728           733                1.0\n",
       "8           728           734                1.0\n",
       "9           728           735                1.0"
      ]
     },
     "execution_count": 31,
     "metadata": {},
     "output_type": "execute_result"
    }
   ],
   "source": [
    "top_ten_df.reset_index(drop=True)"
   ]
  },
  {
   "cell_type": "code",
   "execution_count": 32,
   "metadata": {},
   "outputs": [],
   "source": [
    "df = pd.read_csv(data_path+\"nm.csv\")"
   ]
  },
  {
   "cell_type": "code",
   "execution_count": 33,
   "metadata": {},
   "outputs": [
    {
     "data": {
      "text/html": [
       "<div>\n",
       "<style scoped>\n",
       "    .dataframe tbody tr th:only-of-type {\n",
       "        vertical-align: middle;\n",
       "    }\n",
       "\n",
       "    .dataframe tbody tr th {\n",
       "        vertical-align: top;\n",
       "    }\n",
       "\n",
       "    .dataframe thead th {\n",
       "        text-align: right;\n",
       "    }\n",
       "</style>\n",
       "<table border=\"1\" class=\"dataframe\">\n",
       "  <thead>\n",
       "    <tr style=\"text-align: right;\">\n",
       "      <th></th>\n",
       "      <th>tweet_id</th>\n",
       "      <th>text</th>\n",
       "      <th>creator_id</th>\n",
       "      <th>created_by</th>\n",
       "    </tr>\n",
       "  </thead>\n",
       "  <tbody>\n",
       "    <tr>\n",
       "      <th>0</th>\n",
       "      <td>1321587869807341569</td>\n",
       "      <td>@jadafromnola @FriedrichPieter What an amazing...</td>\n",
       "      <td>1279132550380654592</td>\n",
       "      <td>BHARATIYASEEKER</td>\n",
       "    </tr>\n",
       "    <tr>\n",
       "      <th>1</th>\n",
       "      <td>1321585634440458240</td>\n",
       "      <td>@JoshCastelino Oh rice bag converts you ppl ha...</td>\n",
       "      <td>396353624</td>\n",
       "      <td>RecepErdoggann</td>\n",
       "    </tr>\n",
       "    <tr>\n",
       "      <th>2</th>\n",
       "      <td>1321580847825264640</td>\n",
       "      <td>PM Narendra Modi dubs Tejashwi ‘jungle raj ke ...</td>\n",
       "      <td>134758540</td>\n",
       "      <td>timesofindia</td>\n",
       "    </tr>\n",
       "    <tr>\n",
       "      <th>3</th>\n",
       "      <td>1321577699861647360</td>\n",
       "      <td>Hindu hi to tha mar gaya \\nMaar diya police ne...</td>\n",
       "      <td>1184757165828927488</td>\n",
       "      <td>randm_indianguy</td>\n",
       "    </tr>\n",
       "    <tr>\n",
       "      <th>4</th>\n",
       "      <td>1321570785706733568</td>\n",
       "      <td>गरीब के नाम पर राजनीति करने वालों ने देश में ऐ...</td>\n",
       "      <td>1274235804525539328</td>\n",
       "      <td>BhagwanSankla</td>\n",
       "    </tr>\n",
       "  </tbody>\n",
       "</table>\n",
       "</div>"
      ],
      "text/plain": [
       "              tweet_id                                               text  \\\n",
       "0  1321587869807341569  @jadafromnola @FriedrichPieter What an amazing...   \n",
       "1  1321585634440458240  @JoshCastelino Oh rice bag converts you ppl ha...   \n",
       "2  1321580847825264640  PM Narendra Modi dubs Tejashwi ‘jungle raj ke ...   \n",
       "3  1321577699861647360  Hindu hi to tha mar gaya \\nMaar diya police ne...   \n",
       "4  1321570785706733568  गरीब के नाम पर राजनीति करने वालों ने देश में ऐ...   \n",
       "\n",
       "            creator_id       created_by  \n",
       "0  1279132550380654592  BHARATIYASEEKER  \n",
       "1            396353624   RecepErdoggann  \n",
       "2            134758540     timesofindia  \n",
       "3  1184757165828927488  randm_indianguy  \n",
       "4  1274235804525539328    BhagwanSankla  "
      ]
     },
     "execution_count": 33,
     "metadata": {},
     "output_type": "execute_result"
    }
   ],
   "source": [
    "df.head()"
   ]
  },
  {
   "cell_type": "markdown",
   "metadata": {},
   "source": [
    "## Similar tweets pair"
   ]
  },
  {
   "cell_type": "code",
   "execution_count": 34,
   "metadata": {
    "scrolled": true
   },
   "outputs": [
    {
     "name": "stdout",
     "output_type": "stream",
     "text": [
      "\n",
      "Tweet pair  1\n",
      "Tweet1\n",
      "sarahtweets8t\n",
      "Tweet2\n",
      "sarahtweets8t\n",
      "************************************************************\n",
      "\n",
      "Tweet pair  2\n",
      "Tweet1\n",
      "PatelGiraK2\n",
      "Tweet2\n",
      "SunilGu96576773\n",
      "************************************************************\n",
      "\n",
      "Tweet pair  3\n",
      "Tweet1\n",
      "DimitriCruz5\n",
      "Tweet2\n",
      "PTI_News\n",
      "************************************************************\n",
      "\n",
      "Tweet pair  4\n",
      "Tweet1\n",
      "blan_sera\n",
      "Tweet2\n",
      "blan_sera\n",
      "************************************************************\n",
      "\n",
      "Tweet pair  5\n",
      "Tweet1\n",
      "blan_sera\n",
      "Tweet2\n",
      "blan_sera\n",
      "************************************************************\n",
      "\n",
      "Tweet pair  6\n",
      "Tweet1\n",
      "blan_sera\n",
      "Tweet2\n",
      "blan_sera\n",
      "************************************************************\n",
      "\n",
      "Tweet pair  7\n",
      "Tweet1\n",
      "blan_sera\n",
      "Tweet2\n",
      "blan_sera\n",
      "************************************************************\n",
      "\n",
      "Tweet pair  8\n",
      "Tweet1\n",
      "blan_sera\n",
      "Tweet2\n",
      "blan_sera\n",
      "************************************************************\n",
      "\n",
      "Tweet pair  9\n",
      "Tweet1\n",
      "blan_sera\n",
      "Tweet2\n",
      "blan_sera\n",
      "************************************************************\n",
      "\n",
      "Tweet pair  10\n",
      "Tweet1\n",
      "blan_sera\n",
      "Tweet2\n",
      "blan_sera\n",
      "************************************************************\n"
     ]
    }
   ],
   "source": [
    "for i in range(len(top_ten_df)):\n",
    "    print(\"\\nTweet pair \", i+1)\n",
    "    t1 = top_ten_df.iloc[i, 0]\n",
    "    t2 = top_ten_df.iloc[i, 1] \n",
    "    print(\"Tweet1\")\n",
    "    print(df.iloc[t1, 3])\n",
    "    print(\"Tweet2\")\n",
    "    print(df.iloc[t2, 3])\n",
    "    print(\"************************************************************\")"
   ]
  },
  {
   "cell_type": "markdown",
   "metadata": {},
   "source": [
    " ### The could have been better if duplicate text of tweets were dropped"
   ]
  },
  {
   "cell_type": "code",
   "execution_count": 35,
   "metadata": {},
   "outputs": [
    {
     "name": "stdout",
     "output_type": "stream",
     "text": [
      "Defaulting to user installation because normal site-packages is not writeable\n",
      "Collecting networkx\n",
      "  Downloading networkx-2.4-py3-none-any.whl (1.6 MB)\n",
      "\u001b[K     |████████████████████████████████| 1.6 MB 33 kB/s  eta 0:00:01\n",
      "\u001b[?25hRequirement already satisfied: decorator>=4.3.0 in /home/soumya/.local/lib/python3.5/site-packages (from networkx) (4.4.2)\n",
      "Installing collected packages: networkx\n",
      "Successfully installed networkx-2.4\n",
      "\u001b[33mWARNING: You are using pip version 20.1.1; however, version 20.2.4 is available.\n",
      "You should consider upgrading via the '/usr/bin/python3 -m pip install --upgrade pip' command.\u001b[0m\n"
     ]
    }
   ],
   "source": [
    "!pip install networkx"
   ]
  },
  {
   "cell_type": "code",
   "execution_count": 36,
   "metadata": {},
   "outputs": [],
   "source": [
    "import networkx as nx \n",
    "# importing matplotlib.pyplot \n",
    "import matplotlib.pyplot as plt"
   ]
  },
  {
   "cell_type": "code",
   "execution_count": 42,
   "metadata": {},
   "outputs": [],
   "source": [
    "g = nx.DiGraph()"
   ]
  },
  {
   "cell_type": "code",
   "execution_count": 44,
   "metadata": {
    "scrolled": true
   },
   "outputs": [
    {
     "data": {
      "image/png": "[encoded data removed]",
      "text/plain": [
       "<Figure size 432x288 with 1 Axes>"
      ]
     },
     "metadata": {},
     "output_type": "display_data"
    }
   ],
   "source": [
    "g.add_edge(\"soumya\", \"tanu\")\n",
    "g.add_edge(\"soumya\", \"vaibhav\")\n",
    "g.add_edge(\"vaibhav\", \"tanu\")\n",
    "g.add_edge(\"vaibhav\", \"tanu\")\n",
    "nx.draw(g, with_labels = True)"
   ]
  },
  {
   "cell_type": "code",
   "execution_count": 68,
   "metadata": {},
   "outputs": [
    {
     "data": {
      "image/png": "[encoded data removed]",
      "text/plain": [
       "<Figure size 432x288 with 1 Axes>"
      ]
     },
     "metadata": {},
     "output_type": "display_data"
    }
   ],
   "source": [
    "g = nx.DiGraph()\n",
    "s = [1, 8]\n",
    "ff = []\n",
    "a = [1, 2, 3]\n",
    "b = [5, 6, 7]\n",
    "ff = [a, b]\n",
    "ff\n",
    "gg = []\n",
    "gg.append(ff)\n",
    "\n",
    "d = [8, 4, 3]\n",
    "e = [4, 8, 5]\n",
    "k = [d, e]\n",
    "gg.append(k)\n",
    "user_list = gg\n",
    "unique_creators = s\n",
    "for i in range(len(user_list)):\n",
    "    for j in range(len(user_list[i][0])):\n",
    "        g.add_edge(user_list[i][0][j], unique_creators[i])\n",
    "    \n",
    "    for k in range(len(user_list[i][1])):\n",
    "        g.add_edge(unique_creators[i], user_list[i][1][k])\n",
    "        \n",
    "nx.draw(g, with_labels = True)"
   ]
  },
  {
   "cell_type": "markdown",
   "metadata": {},
   "source": [
    "Find popular users in this G based on\n",
    "\n",
    "Degree centrality\n",
    "\n",
    "Betweeness centrality\n",
    "\n",
    "Closeness centrality"
   ]
  },
  {
   "cell_type": "code",
   "execution_count": 69,
   "metadata": {},
   "outputs": [
    {
     "data": {
      "text/plain": [
       "{1: 1.0,\n",
       " 2: 0.14285714285714285,\n",
       " 3: 0.2857142857142857,\n",
       " 4: 0.2857142857142857,\n",
       " 5: 0.2857142857142857,\n",
       " 6: 0.14285714285714285,\n",
       " 7: 0.14285714285714285,\n",
       " 8: 0.8571428571428571}"
      ]
     },
     "execution_count": 69,
     "metadata": {},
     "output_type": "execute_result"
    }
   ],
   "source": [
    "nx.degree_centrality(g)"
   ]
  },
  {
   "cell_type": "code",
   "execution_count": null,
   "metadata": {},
   "outputs": [],
   "source": []
  },
  {
   "cell_type": "code",
   "execution_count": null,
   "metadata": {},
   "outputs": [],
   "source": []
  }
 ],
 "metadata": {
  "kernelspec": {
   "display_name": "Python 3",
   "language": "python",
   "name": "python3"
  },
  "language_info": {
   "codemirror_mode": {
    "name": "ipython",
    "version": 3
   },
   "file_extension": ".py",
   "mimetype": "text/x-python",
   "name": "python",
   "nbconvert_exporter": "python",
   "pygments_lexer": "ipython3",
   "version": "3.5.2"
  }
 },
 "nbformat": 4,
 "nbformat_minor": 4
}
